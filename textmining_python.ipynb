{
 "cells": [
  {
   "cell_type": "markdown",
   "metadata": {
    "toc": "true"
   },
   "source": [
    "# Table of Contents\n",
    " <p><div class=\"lev1 toc-item\"><a href=\"#Introduction-to-Natural-Language-Processing-with-Python\" data-toc-modified-id=\"Introduction-to-Natural-Language-Processing-with-Python-1\"><span class=\"toc-item-num\">1&nbsp;&nbsp;</span>Introduction to Natural Language Processing with Python</a></div><div class=\"lev1 toc-item\"><a href=\"#Intro-to-Python-Basics\" data-toc-modified-id=\"Intro-to-Python-Basics-2\"><span class=\"toc-item-num\">2&nbsp;&nbsp;</span>Intro to Python Basics</a></div><div class=\"lev2 toc-item\"><a href=\"#Operating-this-notebook\" data-toc-modified-id=\"Operating-this-notebook-2.1\"><span class=\"toc-item-num\">2.1&nbsp;&nbsp;</span>Operating this notebook</a></div><div class=\"lev3 toc-item\"><a href=\"#Basic-Math\" data-toc-modified-id=\"Basic-Math-2.1.1\"><span class=\"toc-item-num\">2.1.1&nbsp;&nbsp;</span>Basic Math</a></div><div class=\"lev2 toc-item\"><a href=\"#Variables-and-Objects\" data-toc-modified-id=\"Variables-and-Objects-2.2\"><span class=\"toc-item-num\">2.2&nbsp;&nbsp;</span>Variables and Objects</a></div><div class=\"lev3 toc-item\"><a href=\"#Dictionaries\" data-toc-modified-id=\"Dictionaries-2.2.1\"><span class=\"toc-item-num\">2.2.1&nbsp;&nbsp;</span>Dictionaries</a></div><div class=\"lev2 toc-item\"><a href=\"#Loops-and-Functions\" data-toc-modified-id=\"Loops-and-Functions-2.3\"><span class=\"toc-item-num\">2.3&nbsp;&nbsp;</span>Loops and Functions</a></div><div class=\"lev3 toc-item\"><a href=\"#Loops\" data-toc-modified-id=\"Loops-2.3.1\"><span class=\"toc-item-num\">2.3.1&nbsp;&nbsp;</span>Loops</a></div><div class=\"lev3 toc-item\"><a href=\"#Functions\" data-toc-modified-id=\"Functions-2.3.2\"><span class=\"toc-item-num\">2.3.2&nbsp;&nbsp;</span>Functions</a></div><div class=\"lev2 toc-item\"><a href=\"#DataFrames-and-Pandas\" data-toc-modified-id=\"DataFrames-and-Pandas-2.4\"><span class=\"toc-item-num\">2.4&nbsp;&nbsp;</span>DataFrames and Pandas</a></div><div class=\"lev2 toc-item\"><a href=\"#Plotting\" data-toc-modified-id=\"Plotting-2.5\"><span class=\"toc-item-num\">2.5&nbsp;&nbsp;</span>Plotting</a></div><div class=\"lev1 toc-item\"><a href=\"#Text-Mining-Basics\" data-toc-modified-id=\"Text-Mining-Basics-3\"><span class=\"toc-item-num\">3&nbsp;&nbsp;</span>Text Mining Basics</a></div><div class=\"lev2 toc-item\"><a href=\"#Setup\" data-toc-modified-id=\"Setup-3.1\"><span class=\"toc-item-num\">3.1&nbsp;&nbsp;</span>Setup</a></div><div class=\"lev2 toc-item\"><a href=\"#Counting-Words-and-Characters\" data-toc-modified-id=\"Counting-Words-and-Characters-3.2\"><span class=\"toc-item-num\">3.2&nbsp;&nbsp;</span>Counting Words and Characters</a></div><div class=\"lev3 toc-item\"><a href=\"#Count-Stopwords\" data-toc-modified-id=\"Count-Stopwords-3.2.1\"><span class=\"toc-item-num\">3.2.1&nbsp;&nbsp;</span>Count Stopwords</a></div><div class=\"lev3 toc-item\"><a href=\"#Other-Ways-to-Count\" data-toc-modified-id=\"Other-Ways-to-Count-3.2.2\"><span class=\"toc-item-num\">3.2.2&nbsp;&nbsp;</span>Other Ways to Count</a></div><div class=\"lev4 toc-item\"><a href=\"#Counting-Special-Characters\" data-toc-modified-id=\"Counting-Special-Characters-3.2.2.1\"><span class=\"toc-item-num\">3.2.2.1&nbsp;&nbsp;</span>Counting Special Characters</a></div><div class=\"lev4 toc-item\"><a href=\"#Counting-Numbers\" data-toc-modified-id=\"Counting-Numbers-3.2.2.2\"><span class=\"toc-item-num\">3.2.2.2&nbsp;&nbsp;</span>Counting Numbers</a></div><div class=\"lev4 toc-item\"><a href=\"#Counting-Uppercase\" data-toc-modified-id=\"Counting-Uppercase-3.2.2.3\"><span class=\"toc-item-num\">3.2.2.3&nbsp;&nbsp;</span>Counting Uppercase</a></div><div class=\"lev1 toc-item\"><a href=\"#Processing-Text\" data-toc-modified-id=\"Processing-Text-4\"><span class=\"toc-item-num\">4&nbsp;&nbsp;</span>Processing Text</a></div><div class=\"lev2 toc-item\"><a href=\"#Cleaning-Up-Words\" data-toc-modified-id=\"Cleaning-Up-Words-4.1\"><span class=\"toc-item-num\">4.1&nbsp;&nbsp;</span>Cleaning Up Words</a></div><div class=\"lev3 toc-item\"><a href=\"#Lowercase\" data-toc-modified-id=\"Lowercase-4.1.1\"><span class=\"toc-item-num\">4.1.1&nbsp;&nbsp;</span>Lowercase</a></div><div class=\"lev3 toc-item\"><a href=\"#Remove-Punctuation\" data-toc-modified-id=\"Remove-Punctuation-4.1.2\"><span class=\"toc-item-num\">4.1.2&nbsp;&nbsp;</span>Remove Punctuation</a></div><div class=\"lev3 toc-item\"><a href=\"#Remove-Stopwords\" data-toc-modified-id=\"Remove-Stopwords-4.1.3\"><span class=\"toc-item-num\">4.1.3&nbsp;&nbsp;</span>Remove Stopwords</a></div><div class=\"lev3 toc-item\"><a href=\"#Remove-Frequent-Words\" data-toc-modified-id=\"Remove-Frequent-Words-4.1.4\"><span class=\"toc-item-num\">4.1.4&nbsp;&nbsp;</span>Remove Frequent Words</a></div><div class=\"lev3 toc-item\"><a href=\"#Remove-Rare-Words\" data-toc-modified-id=\"Remove-Rare-Words-4.1.5\"><span class=\"toc-item-num\">4.1.5&nbsp;&nbsp;</span>Remove Rare Words</a></div><div class=\"lev3 toc-item\"><a href=\"#Correct-Spelling\" data-toc-modified-id=\"Correct-Spelling-4.1.6\"><span class=\"toc-item-num\">4.1.6&nbsp;&nbsp;</span>Correct Spelling</a></div><div class=\"lev3 toc-item\"><a href=\"#Tokenization\" data-toc-modified-id=\"Tokenization-4.1.7\"><span class=\"toc-item-num\">4.1.7&nbsp;&nbsp;</span>Tokenization</a></div><div class=\"lev2 toc-item\"><a href=\"#Stemming\" data-toc-modified-id=\"Stemming-4.2\"><span class=\"toc-item-num\">4.2&nbsp;&nbsp;</span>Stemming</a></div><div class=\"lev2 toc-item\"><a href=\"#Lemmatization\" data-toc-modified-id=\"Lemmatization-4.3\"><span class=\"toc-item-num\">4.3&nbsp;&nbsp;</span>Lemmatization</a></div><div class=\"lev1 toc-item\"><a href=\"#Advanced-Text-Processing\" data-toc-modified-id=\"Advanced-Text-Processing-5\"><span class=\"toc-item-num\">5&nbsp;&nbsp;</span>Advanced Text Processing</a></div><div class=\"lev2 toc-item\"><a href=\"#N-grams\" data-toc-modified-id=\"N-grams-5.1\"><span class=\"toc-item-num\">5.1&nbsp;&nbsp;</span>N-grams</a></div><div class=\"lev2 toc-item\"><a href=\"#Term-Frequency\" data-toc-modified-id=\"Term-Frequency-5.2\"><span class=\"toc-item-num\">5.2&nbsp;&nbsp;</span>Term Frequency</a></div><div class=\"lev2 toc-item\"><a href=\"#Inverse-Document-Frequency\" data-toc-modified-id=\"Inverse-Document-Frequency-5.3\"><span class=\"toc-item-num\">5.3&nbsp;&nbsp;</span>Inverse Document Frequency</a></div><div class=\"lev2 toc-item\"><a href=\"#Term-Frequency-–-Inverse-Document-Frequency-(TF-IDF)\" data-toc-modified-id=\"Term-Frequency-–-Inverse-Document-Frequency-(TF-IDF)-5.4\"><span class=\"toc-item-num\">5.4&nbsp;&nbsp;</span>Term Frequency – Inverse Document Frequency (<a href=\"https://en.wikipedia.org/wiki/Tf%E2%80%93idf\" target=\"_blank\">TF-IDF</a>)</a></div><div class=\"lev2 toc-item\"><a href=\"#Bag-of-Words\" data-toc-modified-id=\"Bag-of-Words-5.5\"><span class=\"toc-item-num\">5.5&nbsp;&nbsp;</span><a href=\"https://en.wikipedia.org/wiki/Bag-of-words_model\" target=\"_blank\">Bag of Words</a></a></div><div class=\"lev2 toc-item\"><a href=\"#Sentiment-Analysis\" data-toc-modified-id=\"Sentiment-Analysis-5.6\"><span class=\"toc-item-num\">5.6&nbsp;&nbsp;</span>Sentiment Analysis</a></div>"
   ]
  },
  {
   "cell_type": "markdown",
   "metadata": {},
   "source": [
    "# Introduction to Natural Language Processing with Python\n"
   ]
  },
  {
   "cell_type": "markdown",
   "metadata": {},
   "source": [
    " By: Dr. Eric Godat and Dr. Rob Kalescky\n",
    " \n",
    " Edited: Garrett Moore\n",
    "\n",
    " Adapted from: [Ultimate Guide to deal with Text Data (Using Python)](https://www.analyticsvidhya.com/blog/2018/02/the-different-methods-deal-text-data-predictive-python/)\n",
    " \n",
    " Natural Language Toolkit: [Documentation](http://www.nltk.org/)\n",
    " \n",
    " Reference Text: [Natural Language Processing with Python](http://www.nltk.org/book/)\n",
    " "
   ]
  },
  {
   "cell_type": "markdown",
   "metadata": {},
   "source": [
    "# Intro to Python Basics"
   ]
  },
  {
   "cell_type": "markdown",
   "metadata": {},
   "source": [
    "*This section is designed to guide you from having never used Python before to feeling comfortable with basic operations. If you already feel comfortable with this material, feel free to skip to the next section.*\n",
    "\n",
    "Python is a programming language capable of just about anything you could want to do. It is designed to be human readable and robust. This particular document is called a Jupyter Notebook. Notebooks are tools for developing Python code and running that code in small steps and see the intermediate results in line."
   ]
  },
  {
   "cell_type": "markdown",
   "metadata": {},
   "source": [
    "## Operating this notebook"
   ]
  },
  {
   "cell_type": "markdown",
   "metadata": {},
   "source": [
    "To operate this notebook, you will need to execute boxes of code, called cells. To do this you can either click the *Run* button on the toolbar or use [Shift]+[Enter].\n",
    "\n",
    "Throughout this notebook you will see cells that are not code (like this one). These cells contain text in a language called Markdown. You can execute these cells to render formatted text. A cheatsheet for Markdown can be found [here](https://github.com/adam-p/markdown-here/wiki/Markdown-Cheatsheet). There will also be comments with in the code itself that give additional information about the operation of the code, describe functions or show you places where you might want to make changes. These comments are always preceded by an octothorp (#) and in most cases be a different color from the surrounding text.\n",
    "\n",
    "Notebooks save automatically, however if you have made big changes your code, you can checkpoint it. This allows you to roll back changes to this point (or any previous checkpoints) should something break in the future.\n",
    "\n",
    "There are a few useful [keyboard shortcuts](https://gist.github.com/kidpixo/f4318f8c8143adee5b40) for modifying the cells in a notebook. To use these, click on the far left side of the cell such that the outline changes color (to blue in most cases), press [Enter]] to return to editing the cell's contents.\n",
    "\n",
    "-Add a cell **a**bove the current cell   [A]\n",
    "\n",
    "-Add a cell **b**elow the current cell   [B]\n",
    "\n",
    "-**D**elete the current cell   [D,D]\n",
    "\n",
    "**Let's try it out!**"
   ]
  },
  {
   "cell_type": "markdown",
   "metadata": {},
   "source": [
    "### Basic Math"
   ]
  },
  {
   "cell_type": "markdown",
   "metadata": {},
   "source": [
    "Python can do simple mathematical operations just like a calculator. Try executing the following cells, then add a cell and have it calculate the sum of the longitude and latitude for SMU in Taos (36.274708,-105.5781171)."
   ]
  },
  {
   "cell_type": "code",
   "execution_count": 1,
   "metadata": {},
   "outputs": [
    {
     "data": {
      "text/plain": [
       "2"
      ]
     },
     "execution_count": 1,
     "metadata": {},
     "output_type": "execute_result"
    }
   ],
   "source": [
    "1+1"
   ]
  },
  {
   "cell_type": "code",
   "execution_count": 2,
   "metadata": {},
   "outputs": [
    {
     "data": {
      "text/plain": [
       "0.5"
      ]
     },
     "execution_count": 2,
     "metadata": {},
     "output_type": "execute_result"
    }
   ],
   "source": [
    "2.5-2.0"
   ]
  },
  {
   "cell_type": "markdown",
   "metadata": {},
   "source": [
    "## Variables and Objects"
   ]
  },
  {
   "cell_type": "markdown",
   "metadata": {},
   "source": [
    "Calculations are nice but we really want to be able to store our calculations in memory so that we can access them later. We do that by assigning variables. "
   ]
  },
  {
   "cell_type": "code",
   "execution_count": 3,
   "metadata": {},
   "outputs": [],
   "source": [
    "a=2\n",
    "b=3"
   ]
  },
  {
   "cell_type": "code",
   "execution_count": 4,
   "metadata": {},
   "outputs": [
    {
     "data": {
      "text/plain": [
       "5"
      ]
     },
     "execution_count": 4,
     "metadata": {},
     "output_type": "execute_result"
    }
   ],
   "source": [
    "a+b"
   ]
  },
  {
   "cell_type": "markdown",
   "metadata": {},
   "source": [
    "Variables can be named just about anything"
   ]
  },
  {
   "cell_type": "code",
   "execution_count": 5,
   "metadata": {},
   "outputs": [],
   "source": [
    "pythoniscool=2\n",
    "EricandRob=7\n",
    "lets_text_mine=3"
   ]
  },
  {
   "cell_type": "code",
   "execution_count": 6,
   "metadata": {},
   "outputs": [
    {
     "data": {
      "text/plain": [
       "42"
      ]
     },
     "execution_count": 6,
     "metadata": {},
     "output_type": "execute_result"
    }
   ],
   "source": [
    "#Notice that if we assign a value to a variable, our notebook won't return that value to our screen.\n",
    "#If we want it to show us the value, we can call that variable after it is assigned.\n",
    "ouranswer = EricandRob*pythoniscool*lets_text_mine\n",
    "ouranswer"
   ]
  },
  {
   "cell_type": "markdown",
   "metadata": {},
   "source": [
    "So far we have been doing all of our operations on numbers, integers and floats (decimals), but there are other useful objects we can use in Python.\n",
    "\n",
    "Strings allow us to store and operate on text data. Strings in Python are surrounded by either single quotes '' or double quotes \"\"."
   ]
  },
  {
   "cell_type": "code",
   "execution_count": 7,
   "metadata": {},
   "outputs": [
    {
     "data": {
      "text/plain": [
       "'Here is a string in Python!'"
      ]
     },
     "execution_count": 7,
     "metadata": {},
     "output_type": "execute_result"
    }
   ],
   "source": [
    "ourstring = \"Here is a string in Python!\"\n",
    "ourstring"
   ]
  },
  {
   "cell_type": "markdown",
   "metadata": {},
   "source": [
    "Uncomment the next cell and try making a string of your own."
   ]
  },
  {
   "cell_type": "code",
   "execution_count": 8,
   "metadata": {},
   "outputs": [],
   "source": [
    "#mystring = <put your string here>\n",
    "#mystring"
   ]
  },
  {
   "cell_type": "markdown",
   "metadata": {},
   "source": [
    "If we later want to see the value stored in a variable we can always use the built in **print** function"
   ]
  },
  {
   "cell_type": "code",
   "execution_count": 9,
   "metadata": {},
   "outputs": [
    {
     "name": "stdout",
     "output_type": "stream",
     "text": [
      "Here is a string in Python!\n"
     ]
    }
   ],
   "source": [
    "print(ourstring)"
   ]
  },
  {
   "cell_type": "markdown",
   "metadata": {},
   "source": [
    "What if we want to have multiple strings stored at once but we don't want to assign a bunch of variables? Then we can use a list.\n",
    "\n",
    "Lists are enclosed by brackets [] and separated by commas."
   ]
  },
  {
   "cell_type": "code",
   "execution_count": 10,
   "metadata": {},
   "outputs": [],
   "source": [
    "ourlist = ['This', 'is', \"a\", \"list\", 'of', \"strings\"]"
   ]
  },
  {
   "cell_type": "code",
   "execution_count": 11,
   "metadata": {},
   "outputs": [
    {
     "name": "stdout",
     "output_type": "stream",
     "text": [
      "['This', 'is', 'a', 'list', 'of', 'strings']\n"
     ]
    }
   ],
   "source": [
    "print(ourlist)"
   ]
  },
  {
   "cell_type": "markdown",
   "metadata": {},
   "source": [
    "To access individual elements in a list you call it by its reference number.\n",
    "\n",
    "*__Note:__ In Python, counting starts with 0. Thus in the list [a,b,c], a is the 0th element and c is the 2nd*"
   ]
  },
  {
   "cell_type": "code",
   "execution_count": 12,
   "metadata": {},
   "outputs": [],
   "source": [
    "first = ourlist[0]"
   ]
  },
  {
   "cell_type": "code",
   "execution_count": 13,
   "metadata": {},
   "outputs": [],
   "source": [
    "# Notice we can call the last element by using a negative reference number. This lets us end without knowing how long the list is.\n",
    "last = ourlist[-1]"
   ]
  },
  {
   "cell_type": "code",
   "execution_count": 14,
   "metadata": {},
   "outputs": [
    {
     "name": "stdout",
     "output_type": "stream",
     "text": [
      "This strings\n"
     ]
    }
   ],
   "source": [
    "print(first,last)"
   ]
  },
  {
   "cell_type": "code",
   "execution_count": 15,
   "metadata": {},
   "outputs": [
    {
     "data": {
      "text/plain": [
       "6"
      ]
     },
     "execution_count": 15,
     "metadata": {},
     "output_type": "execute_result"
    }
   ],
   "source": [
    "# If we did want to know the length of our list we can use the len() function\n",
    "len(ourlist)"
   ]
  },
  {
   "cell_type": "markdown",
   "metadata": {},
   "source": [
    "Try making a list and printing the 2nd element from your list. Make sure to remove the #'s for comments."
   ]
  },
  {
   "cell_type": "code",
   "execution_count": 16,
   "metadata": {},
   "outputs": [],
   "source": [
    "#mylist=\n",
    "#\n",
    "#"
   ]
  },
  {
   "cell_type": "markdown",
   "metadata": {},
   "source": [
    "### Dictionaries"
   ]
  },
  {
   "cell_type": "markdown",
   "metadata": {},
   "source": [
    "Dictionaries are a different way of storing data than lists. They rely on a key and value system as opposed to the order of the entries.\n",
    "\n",
    "Dictionaries are enclosed in curly braces {}, the key and value are separated by a colon : and entries are separated by commas ,\n",
    "\n",
    "Values can then be accessed by referencing the key.\n",
    "\n",
    "Note that finding dictionary values does not go both ways, so using the value to find the key will cause an error."
   ]
  },
  {
   "cell_type": "code",
   "execution_count": 17,
   "metadata": {},
   "outputs": [
    {
     "data": {
      "text/plain": [
       "{'Dallas': 1341000, 'Plano': 286143, 'Taos': 5668}"
      ]
     },
     "execution_count": 17,
     "metadata": {},
     "output_type": "execute_result"
    }
   ],
   "source": [
    "ourdictionary = {\"Dallas\":1341000,\"Plano\":286143,\"Taos\":5668}\n",
    "ourdictionary"
   ]
  },
  {
   "cell_type": "code",
   "execution_count": 18,
   "metadata": {},
   "outputs": [
    {
     "data": {
      "text/plain": [
       "5668"
      ]
     },
     "execution_count": 18,
     "metadata": {},
     "output_type": "execute_result"
    }
   ],
   "source": [
    "ourdictionary[\"Taos\"] \n",
    "#NOTE: ourdictionary[5668] will NOT give you \"Taos\", but an error."
   ]
  },
  {
   "cell_type": "markdown",
   "metadata": {},
   "source": [
    "Below are the word counts for the *Lord of the Rings* books ([citation](http://lotrproject.com/statistics/books/wordscount)). Can you build a dictionary of the information and then calculate the difference between the *Fellowship of the Ring* and *The Hobbit* and the total number of words for books in the *Lord of the Rings* Trilogy?  Try adding a cell below this one, then compare your answer to the one below!\n",
    "\n",
    "|__Book__|__Word Count__|\n",
    "|---|---|\n",
    "|The Silmarillion|130115|\n",
    "|The Hobbit|95356|\n",
    "|The Fellowship of the Ring|187790|\n",
    "|The Two Towers|156198|\n",
    "|The Return of the King|137115|"
   ]
  },
  {
   "cell_type": "code",
   "execution_count": 19,
   "metadata": {},
   "outputs": [
    {
     "name": "stdout",
     "output_type": "stream",
     "text": [
      "The Fellowship of the Ring - The Hobbit\n",
      "92434\n",
      "Total Words for the Lord of the Rings Trilogy\n",
      "481103\n"
     ]
    }
   ],
   "source": [
    "# Here is the code answer for writing the dictionary\n",
    "\n",
    "tolkien = {\"The Silmarillion\":130115,\"The Hobbit\":95356,\"The Fellowship of the Ring\":187790, \"The Two Towers\":156198, \"The Return of the King\":137115}\n",
    "\n",
    "bilbo=tolkien[\"The Hobbit\"]\n",
    "\n",
    "frodo=tolkien[\"The Fellowship of the Ring\"]\n",
    "\n",
    "print(\"The Fellowship of the Ring - The Hobbit\")\n",
    "\n",
    "print(frodo-bilbo)\n",
    "\n",
    "print(\"Total Words for the Lord of the Rings Trilogy\")\n",
    "\n",
    "print(tolkien[\"The Fellowship of the Ring\"]+tolkien[\"The Two Towers\"]+tolkien[\"The Return of the King\"])\n"
   ]
  },
  {
   "cell_type": "markdown",
   "metadata": {},
   "source": [
    "## Loops and Functions"
   ]
  },
  {
   "cell_type": "markdown",
   "metadata": {},
   "source": [
    "Computers are much better at doing simple repeatable tasks than humans are so to leverage this advantage, we will cover two different ways of writing these kind of repeatable instructions."
   ]
  },
  {
   "cell_type": "markdown",
   "metadata": {},
   "source": [
    "### Loops"
   ]
  },
  {
   "cell_type": "markdown",
   "metadata": {},
   "source": [
    "Loops are a way of having Python complete a task over and over.\n",
    "\n",
    "The most common form if a **for** loop. A **for** loop completes a task a fixed number of times by iterating a variable over the members of a sequence in order."
   ]
  },
  {
   "cell_type": "code",
   "execution_count": 20,
   "metadata": {},
   "outputs": [
    {
     "name": "stdout",
     "output_type": "stream",
     "text": [
      "0\n",
      "1\n",
      "2\n"
     ]
    }
   ],
   "source": [
    "#Example for loop\n",
    "for i in [0,1,2]:\n",
    "    print(i)"
   ]
  },
  {
   "cell_type": "markdown",
   "metadata": {},
   "source": [
    "**Note**: The indention is important, it tells Python that the line *print(i)* belongs inside the loop."
   ]
  },
  {
   "cell_type": "markdown",
   "metadata": {},
   "source": [
    "### Functions"
   ]
  },
  {
   "cell_type": "markdown",
   "metadata": {},
   "source": [
    "Sometimes it would be nice to be able to save a group of instructions in a single block, that way we won't need to rewrite several lines of code each time we want to do that set of operations.\n",
    "\n",
    "To do this we define a **function**.\n",
    "\n",
    "Functions allow us to define a more complicated set of instructions as a single entity and call that entire block of code directly.\n",
    "\n",
    "Functions are defined (*def*), named (lowercase is a standard practice) and accept arguments (). They then can return a value if needed (*return*).\n",
    "\n",
    "Python has several built in functions (*print()* is a good example) and when you combine external packages and libraries, there are functions for just about everything you could think of."
   ]
  },
  {
   "cell_type": "code",
   "execution_count": 21,
   "metadata": {},
   "outputs": [],
   "source": [
    "# Example function\n",
    "def square_me(n):\n",
    "    return n*n"
   ]
  },
  {
   "cell_type": "code",
   "execution_count": 22,
   "metadata": {},
   "outputs": [
    {
     "data": {
      "text/plain": [
       "16"
      ]
     },
     "execution_count": 22,
     "metadata": {},
     "output_type": "execute_result"
    }
   ],
   "source": [
    "square_me(4)"
   ]
  },
  {
   "cell_type": "markdown",
   "metadata": {},
   "source": [
    "Try defining your own function that takes 2 arguments and adds them together."
   ]
  },
  {
   "cell_type": "code",
   "execution_count": 23,
   "metadata": {},
   "outputs": [],
   "source": [
    "#def add_me\n",
    "#\n",
    "#"
   ]
  },
  {
   "cell_type": "code",
   "execution_count": 24,
   "metadata": {},
   "outputs": [],
   "source": [
    "#add_me(7,11)"
   ]
  },
  {
   "cell_type": "markdown",
   "metadata": {},
   "source": [
    "Putting loops and functions together is where python can become very powerful."
   ]
  },
  {
   "cell_type": "code",
   "execution_count": 25,
   "metadata": {},
   "outputs": [
    {
     "name": "stdout",
     "output_type": "stream",
     "text": [
      "0\n",
      "1\n",
      "4\n",
      "9\n"
     ]
    }
   ],
   "source": [
    "# Looping over a function\n",
    "for i in [0,1,2,3]:\n",
    "    print(square_me(i)) # note that this is still tabbed in within the for loop"
   ]
  },
  {
   "cell_type": "code",
   "execution_count": 26,
   "metadata": {},
   "outputs": [],
   "source": [
    "# A function with a loop\n",
    "def print_numbers(start,stop):\n",
    "    for i in range(start,stop): #Here the range() function gives us all the values from start up to but excluding the stop value\n",
    "        print(i) # this is indented twice, so Python knows it is within the loop within the function"
   ]
  },
  {
   "cell_type": "code",
   "execution_count": 27,
   "metadata": {},
   "outputs": [
    {
     "name": "stdout",
     "output_type": "stream",
     "text": [
      "0\n",
      "1\n",
      "2\n",
      "3\n"
     ]
    }
   ],
   "source": [
    "print_numbers(0,4)"
   ]
  },
  {
   "cell_type": "markdown",
   "metadata": {},
   "source": [
    "# Libraries"
   ]
  },
  {
   "cell_type": "markdown",
   "metadata": {},
   "source": [
    "Libraries are pre-written chunks of code designed to be integrated into projects for a specific purpose.  The idea is to keep people from having to reinvent the wheel every time they want to write a program.  When we encounter situations where a libary might be useful, we use the keyword *import* to tell the program that we want to use this pre-existing code.  As an example, in the next section you will use a library called Pandas which helps visualize data and make it easier to digest, which is very useful for us.  Because of this, we will import that code into this program simply by running the cell with the import that goes with that code.  Here is what you will see, only in commented code."
   ]
  },
  {
   "cell_type": "code",
   "execution_count": 28,
   "metadata": {},
   "outputs": [],
   "source": [
    "#import pandas as pd\n",
    "\n",
    "#by using the keyword *as* and giving pandas an alternative name (pd) in this program, it allows us to use the\n",
    "#functions within pandas while only having to type our pd instead of pandas every time."
   ]
  },
  {
   "cell_type": "markdown",
   "metadata": {},
   "source": [
    "Most programming languages have libraries that allow you to import code this way, and it will save you a lot of time and allow you to quickly use many new functions that are highly polished."
   ]
  },
  {
   "cell_type": "markdown",
   "metadata": {},
   "source": [
    "# DataFrames and Pandas"
   ]
  },
  {
   "cell_type": "markdown",
   "metadata": {},
   "source": [
    "Now it is time to use what we have learned to start doing some data science.\n",
    "\n",
    "Pandas is the name of a library in which there are functions and tools for doing operations common in data analysis and data science. One particularly great feature is the DataFrame structure which allows us to work with an object similar to an Excel spreadsheet but with the flexibility and power of Python behind it.\n",
    "\n",
    "First we will need to import the Pandas library and create a DataFrame. DataFrames are can also be created when you import files (like CSV's) or tables from a database (like SQL)."
   ]
  },
  {
   "cell_type": "code",
   "execution_count": 29,
   "metadata": {},
   "outputs": [],
   "source": [
    "import pandas as pd"
   ]
  },
  {
   "cell_type": "code",
   "execution_count": 30,
   "metadata": {},
   "outputs": [
    {
     "data": {
      "text/html": [
       "<div>\n",
       "<style scoped>\n",
       "    .dataframe tbody tr th:only-of-type {\n",
       "        vertical-align: middle;\n",
       "    }\n",
       "\n",
       "    .dataframe tbody tr th {\n",
       "        vertical-align: top;\n",
       "    }\n",
       "\n",
       "    .dataframe thead th {\n",
       "        text-align: right;\n",
       "    }\n",
       "</style>\n",
       "<table border=\"1\" class=\"dataframe\">\n",
       "  <thead>\n",
       "    <tr style=\"text-align: right;\">\n",
       "      <th></th>\n",
       "      <th>Books</th>\n",
       "      <th>Words</th>\n",
       "    </tr>\n",
       "  </thead>\n",
       "  <tbody>\n",
       "    <tr>\n",
       "      <th>0</th>\n",
       "      <td>The Silmarillion</td>\n",
       "      <td>130115</td>\n",
       "    </tr>\n",
       "    <tr>\n",
       "      <th>1</th>\n",
       "      <td>The Hobbit</td>\n",
       "      <td>95356</td>\n",
       "    </tr>\n",
       "    <tr>\n",
       "      <th>2</th>\n",
       "      <td>The Fellowship of the Ring</td>\n",
       "      <td>187790</td>\n",
       "    </tr>\n",
       "    <tr>\n",
       "      <th>3</th>\n",
       "      <td>The Two Towers</td>\n",
       "      <td>156198</td>\n",
       "    </tr>\n",
       "    <tr>\n",
       "      <th>4</th>\n",
       "      <td>The Return of the King</td>\n",
       "      <td>137115</td>\n",
       "    </tr>\n",
       "  </tbody>\n",
       "</table>\n",
       "</div>"
      ],
      "text/plain": [
       "                        Books   Words\n",
       "0            The Silmarillion  130115\n",
       "1                  The Hobbit   95356\n",
       "2  The Fellowship of the Ring  187790\n",
       "3              The Two Towers  156198\n",
       "4      The Return of the King  137115"
      ]
     },
     "execution_count": 30,
     "metadata": {},
     "output_type": "execute_result"
    }
   ],
   "source": [
    "#Notice here the data is a dictionary, similar to the one we used above but with the titles and wordcounts as nested lists\n",
    "d = {\"Books\":[\"The Silmarillion\",\"The Hobbit\",\"The Fellowship of the Ring\",\"The Two Towers\",\"The Return of the King\"],\n",
    "     \"Words\":[130115,95356,187790,156198,137115]}\n",
    "df = pd.DataFrame(d)\n",
    "df"
   ]
  },
  {
   "cell_type": "markdown",
   "metadata": {},
   "source": [
    "Now we can operate on entire rows or columns in our DataFrame."
   ]
  },
  {
   "cell_type": "code",
   "execution_count": 31,
   "metadata": {},
   "outputs": [
    {
     "data": {
      "text/plain": [
       "0              The Silmarillion\n",
       "1                    The Hobbit\n",
       "2    The Fellowship of the Ring\n",
       "3                The Two Towers\n",
       "4        The Return of the King\n",
       "Name: Books, dtype: object"
      ]
     },
     "execution_count": 31,
     "metadata": {},
     "output_type": "execute_result"
    }
   ],
   "source": [
    "df[\"Books\"] #Selecting the column \"Books\""
   ]
  },
  {
   "cell_type": "code",
   "execution_count": 32,
   "metadata": {},
   "outputs": [
    {
     "data": {
      "text/html": [
       "<div>\n",
       "<style scoped>\n",
       "    .dataframe tbody tr th:only-of-type {\n",
       "        vertical-align: middle;\n",
       "    }\n",
       "\n",
       "    .dataframe tbody tr th {\n",
       "        vertical-align: top;\n",
       "    }\n",
       "\n",
       "    .dataframe thead th {\n",
       "        text-align: right;\n",
       "    }\n",
       "</style>\n",
       "<table border=\"1\" class=\"dataframe\">\n",
       "  <thead>\n",
       "    <tr style=\"text-align: right;\">\n",
       "      <th></th>\n",
       "      <th>Books</th>\n",
       "      <th>Words</th>\n",
       "    </tr>\n",
       "  </thead>\n",
       "  <tbody>\n",
       "    <tr>\n",
       "      <th>0</th>\n",
       "      <td>The Silmarillion</td>\n",
       "      <td>130115</td>\n",
       "    </tr>\n",
       "    <tr>\n",
       "      <th>1</th>\n",
       "      <td>The Hobbit</td>\n",
       "      <td>95356</td>\n",
       "    </tr>\n",
       "  </tbody>\n",
       "</table>\n",
       "</div>"
      ],
      "text/plain": [
       "              Books   Words\n",
       "0  The Silmarillion  130115\n",
       "1        The Hobbit   95356"
      ]
     },
     "execution_count": 32,
     "metadata": {},
     "output_type": "execute_result"
    }
   ],
   "source": [
    "df[:2] #Selecting the first 2 rows"
   ]
  },
  {
   "cell_type": "code",
   "execution_count": 33,
   "metadata": {},
   "outputs": [
    {
     "data": {
      "text/html": [
       "<div>\n",
       "<style scoped>\n",
       "    .dataframe tbody tr th:only-of-type {\n",
       "        vertical-align: middle;\n",
       "    }\n",
       "\n",
       "    .dataframe tbody tr th {\n",
       "        vertical-align: top;\n",
       "    }\n",
       "\n",
       "    .dataframe thead th {\n",
       "        text-align: right;\n",
       "    }\n",
       "</style>\n",
       "<table border=\"1\" class=\"dataframe\">\n",
       "  <thead>\n",
       "    <tr style=\"text-align: right;\">\n",
       "      <th></th>\n",
       "      <th>Books</th>\n",
       "      <th>Words</th>\n",
       "    </tr>\n",
       "  </thead>\n",
       "  <tbody>\n",
       "    <tr>\n",
       "      <th>2</th>\n",
       "      <td>The Fellowship of the Ring</td>\n",
       "      <td>187790</td>\n",
       "    </tr>\n",
       "    <tr>\n",
       "      <th>3</th>\n",
       "      <td>The Two Towers</td>\n",
       "      <td>156198</td>\n",
       "    </tr>\n",
       "  </tbody>\n",
       "</table>\n",
       "</div>"
      ],
      "text/plain": [
       "                        Books   Words\n",
       "2  The Fellowship of the Ring  187790\n",
       "3              The Two Towers  156198"
      ]
     },
     "execution_count": 33,
     "metadata": {},
     "output_type": "execute_result"
    }
   ],
   "source": [
    "df[2:4] #Selecting rows 2 up to 4"
   ]
  },
  {
   "cell_type": "code",
   "execution_count": 34,
   "metadata": {},
   "outputs": [
    {
     "data": {
      "text/plain": [
       "2    187790\n",
       "3    156198\n",
       "Name: Words, dtype: int64"
      ]
     },
     "execution_count": 34,
     "metadata": {},
     "output_type": "execute_result"
    }
   ],
   "source": [
    "df[\"Words\"][2:4] #Selecting the second and third row from the \"Words\" column."
   ]
  },
  {
   "cell_type": "code",
   "execution_count": 35,
   "metadata": {},
   "outputs": [
    {
     "data": {
      "text/plain": [
       "2    187790\n",
       "3    156198\n",
       "Name: Words, dtype: int64"
      ]
     },
     "execution_count": 35,
     "metadata": {},
     "output_type": "execute_result"
    }
   ],
   "source": [
    "df[2:4][\"Words\"] #Same result but from the opposite order"
   ]
  },
  {
   "cell_type": "markdown",
   "metadata": {},
   "source": [
    "You can also operate on entire columns in your DataFrame. Just be careful because this can give you unexpected results. Rows are generally more consistent for elements within a DataFrame."
   ]
  },
  {
   "cell_type": "code",
   "execution_count": 36,
   "metadata": {},
   "outputs": [
    {
     "data": {
      "text/plain": [
       "706574"
      ]
     },
     "execution_count": 36,
     "metadata": {},
     "output_type": "execute_result"
    }
   ],
   "source": [
    "total = sum(df[\"Words\"])\n",
    "total"
   ]
  },
  {
   "cell_type": "markdown",
   "metadata": {},
   "source": [
    "## Plotting"
   ]
  },
  {
   "cell_type": "markdown",
   "metadata": {},
   "source": [
    "Visualizing data is incredibly important when trying to convey findings. There are several libraries available for doing data visualization. Pandas has some built in plotting functionality, but we have provided access to MatPlotLib, Plotly and Seaborn as well."
   ]
  },
  {
   "cell_type": "code",
   "execution_count": 5,
   "metadata": {},
   "outputs": [],
   "source": [
    "# This is only needed in this case because we wanted to show the names of the books. You could make a similar plot in Pandas.\n",
    "import matplotlib\n",
    "%matplotlib inline\n",
    "# This allows the plot to be shown inline in the notebook"
   ]
  },
  {
   "cell_type": "code",
   "execution_count": 38,
   "metadata": {},
   "outputs": [
    {
     "data": {
      "image/png": "[encoded data removed]",
      "text/plain": [
       "<Figure size 432x288 with 1 Axes>"
      ]
     },
     "metadata": {
      "needs_background": "light"
     },
     "output_type": "display_data"
    }
   ],
   "source": [
    "plot = df.plot(kind='bar') # we are setting the type of plot to a bar graph\n",
    "plot.set_xticklabels(df['Books']); #This lets us rename the x axis labels"
   ]
  },
  {
   "cell_type": "markdown",
   "metadata": {},
   "source": [
    "That concludes our tutorial for basic Python.\n",
    "\n",
    "As you proceed forward, the remainder of this notebook is focused on mining text data."
   ]
  },
  {
   "cell_type": "markdown",
   "metadata": {},
   "source": [
    "# Text Mining Basics"
   ]
  },
  {
   "cell_type": "markdown",
   "metadata": {},
   "source": [
    "## Setup"
   ]
  },
  {
   "cell_type": "markdown",
   "metadata": {},
   "source": [
    "These are the basic libraries we will use in for data manipulation (pandas) and math functions (numpy). We will add more libraries as we need them.\n",
    "\n",
    "As a best practice, it is a good idea to load all your libraries in a single cell at the top of a notebook, however for the purposes of this tutorial we will load them as we go."
   ]
  },
  {
   "cell_type": "code",
   "execution_count": 1,
   "metadata": {},
   "outputs": [],
   "source": [
    "import pandas as pd\n",
    "import numpy as np"
   ]
  },
  {
   "cell_type": "markdown",
   "metadata": {},
   "source": [
    "Load a data file into a pandas DataFrame.\n",
    "\n",
    "This tutorial was designed around using sets of data you have yourselves in a form like a CSV, TSV, or TXT file.  Feel free to use any set of data, but for now we will use a dataset created from scraping this [Multilingual Folktale Database](http://www.mftd.org/).\n",
    "\n",
    "This file is a CSV filetype, common for text data, but your data may also be stored as TSV's, TXT's, or other file types.  This will slightly change how you read from Pandas, but the concept is largely the same for the different filetypes.  Just keep this in mind when you see references to CSV.\n",
    "\n",
    "To proceed, you will need to have this file downloaded and in the same folder as this notebook. Alternatively you can put the full path to the file.  Typically, your program will look for the file with the name you specified in the folder that contains your program unless you give the program a path to follow."
   ]
  },
  {
   "cell_type": "code",
   "execution_count": 2,
   "metadata": {},
   "outputs": [
    {
     "data": {
      "text/plain": [
       "['.git',\n",
       " 'textmining_python.ipynb',\n",
       " 'README.md',\n",
       " '.ipynb_checkpoints',\n",
       " 'folktales.csv']"
      ]
     },
     "execution_count": 2,
     "metadata": {},
     "output_type": "execute_result"
    }
   ],
   "source": [
    "import os\n",
    "os.listdir() #Allows us to check the files in the current directory, if folktales.csv is not here, then we need to give the path"
   ]
  },
  {
   "cell_type": "code",
   "execution_count": 3,
   "metadata": {},
   "outputs": [
    {
     "data": {
      "text/html": [
       "<div>\n",
       "<style scoped>\n",
       "    .dataframe tbody tr th:only-of-type {\n",
       "        vertical-align: middle;\n",
       "    }\n",
       "\n",
       "    .dataframe tbody tr th {\n",
       "        vertical-align: top;\n",
       "    }\n",
       "\n",
       "    .dataframe thead th {\n",
       "        text-align: right;\n",
       "    }\n",
       "</style>\n",
       "<table border=\"1\" class=\"dataframe\">\n",
       "  <thead>\n",
       "    <tr style=\"text-align: right;\">\n",
       "      <th></th>\n",
       "      <th>ID</th>\n",
       "      <th>ATU Code</th>\n",
       "      <th>Author</th>\n",
       "      <th>Country of Origin</th>\n",
       "      <th>Original Title</th>\n",
       "      <th>Source</th>\n",
       "      <th>Story</th>\n",
       "      <th>Story Type</th>\n",
       "      <th>Title</th>\n",
       "      <th>Translated</th>\n",
       "      <th>Year Translated</th>\n",
       "      <th>Year Written</th>\n",
       "    </tr>\n",
       "  </thead>\n",
       "  <tbody>\n",
       "    <tr>\n",
       "      <th>0</th>\n",
       "      <td>17</td>\n",
       "      <td>15.0</td>\n",
       "      <td>Jacob &amp; Wilhelm Grimm</td>\n",
       "      <td>Germany</td>\n",
       "      <td>Katze und Maus in Gesellschaft</td>\n",
       "      <td>NaN</td>\n",
       "      <td>A cat had made the acquaintance of a mouse, an...</td>\n",
       "      <td>Stealing the Partner's Butter (ATU 15)\\n\\t\\t</td>\n",
       "      <td>Cat and mouse in partnership</td>\n",
       "      <td>Margaret Hunt</td>\n",
       "      <td>1884.0</td>\n",
       "      <td>1812</td>\n",
       "    </tr>\n",
       "    <tr>\n",
       "      <th>1</th>\n",
       "      <td>44</td>\n",
       "      <td>123.0</td>\n",
       "      <td>Jacob &amp; Wilhelm Grimm</td>\n",
       "      <td>Germany</td>\n",
       "      <td>Der Wolf und die sieben jungen Geisslein</td>\n",
       "      <td>NaN</td>\n",
       "      <td>There was once an old goat who had seven littl...</td>\n",
       "      <td>The Wolf and the Seven Young Kids (ATU 123)\\n...</td>\n",
       "      <td>The Wolf and the Seven Young Kids</td>\n",
       "      <td>Margaret Hunt</td>\n",
       "      <td>1884.0</td>\n",
       "      <td>1812</td>\n",
       "    </tr>\n",
       "    <tr>\n",
       "      <th>2</th>\n",
       "      <td>54</td>\n",
       "      <td>516.0</td>\n",
       "      <td>Jacob &amp; Wilhelm Grimm</td>\n",
       "      <td>Germany</td>\n",
       "      <td>Der treue Johannes</td>\n",
       "      <td>The Blue Fairy Book (nr. 30)</td>\n",
       "      <td>ONCE upon a time there was an old king who was...</td>\n",
       "      <td>The Petrified Friend (ATU 516)\\n\\t\\t</td>\n",
       "      <td>Trusty John</td>\n",
       "      <td>Andrew Lang</td>\n",
       "      <td>1889.0</td>\n",
       "      <td>1812</td>\n",
       "    </tr>\n",
       "    <tr>\n",
       "      <th>3</th>\n",
       "      <td>64</td>\n",
       "      <td>NaN</td>\n",
       "      <td>Jacob &amp; Wilhelm Grimm</td>\n",
       "      <td>Germany</td>\n",
       "      <td>Der gute Handel</td>\n",
       "      <td>NaN</td>\n",
       "      <td>There was once a peasant who had driven his co...</td>\n",
       "      <td>NaN</td>\n",
       "      <td>The good bargain</td>\n",
       "      <td>Margaret Hunt</td>\n",
       "      <td>1884.0</td>\n",
       "      <td>1812</td>\n",
       "    </tr>\n",
       "    <tr>\n",
       "      <th>4</th>\n",
       "      <td>74</td>\n",
       "      <td>151.0</td>\n",
       "      <td>Jacob &amp; Wilhelm Grimm</td>\n",
       "      <td>Germany</td>\n",
       "      <td>Der wunderliche Spielmann</td>\n",
       "      <td>NaN</td>\n",
       "      <td>There was once a wonderful musician, who went ...</td>\n",
       "      <td>Music lessons for wild animals (ATU 151)\\n\\t\\t</td>\n",
       "      <td>The Wonderful Musician</td>\n",
       "      <td>Translated into English</td>\n",
       "      <td>NaN</td>\n",
       "      <td>1812</td>\n",
       "    </tr>\n",
       "  </tbody>\n",
       "</table>\n",
       "</div>"
      ],
      "text/plain": [
       "   ID  ATU Code                 Author Country of Origin  \\\n",
       "0  17      15.0  Jacob & Wilhelm Grimm           Germany   \n",
       "1  44     123.0  Jacob & Wilhelm Grimm           Germany   \n",
       "2  54     516.0  Jacob & Wilhelm Grimm           Germany   \n",
       "3  64       NaN  Jacob & Wilhelm Grimm           Germany   \n",
       "4  74     151.0  Jacob & Wilhelm Grimm           Germany   \n",
       "\n",
       "                             Original Title                        Source  \\\n",
       "0            Katze und Maus in Gesellschaft                           NaN   \n",
       "1  Der Wolf und die sieben jungen Geisslein                           NaN   \n",
       "2                        Der treue Johannes  The Blue Fairy Book (nr. 30)   \n",
       "3                           Der gute Handel                           NaN   \n",
       "4                 Der wunderliche Spielmann                           NaN   \n",
       "\n",
       "                                               Story  \\\n",
       "0  A cat had made the acquaintance of a mouse, an...   \n",
       "1  There was once an old goat who had seven littl...   \n",
       "2  ONCE upon a time there was an old king who was...   \n",
       "3  There was once a peasant who had driven his co...   \n",
       "4  There was once a wonderful musician, who went ...   \n",
       "\n",
       "                                          Story Type  \\\n",
       "0       Stealing the Partner's Butter (ATU 15)\\n\\t\\t   \n",
       "1   The Wolf and the Seven Young Kids (ATU 123)\\n...   \n",
       "2               The Petrified Friend (ATU 516)\\n\\t\\t   \n",
       "3                                                NaN   \n",
       "4     Music lessons for wild animals (ATU 151)\\n\\t\\t   \n",
       "\n",
       "                               Title               Translated  \\\n",
       "0       Cat and mouse in partnership            Margaret Hunt   \n",
       "1  The Wolf and the Seven Young Kids            Margaret Hunt   \n",
       "2                        Trusty John              Andrew Lang   \n",
       "3                   The good bargain            Margaret Hunt   \n",
       "4             The Wonderful Musician  Translated into English   \n",
       "\n",
       "   Year Translated Year Written  \n",
       "0           1884.0         1812  \n",
       "1           1884.0         1812  \n",
       "2           1889.0         1812  \n",
       "3           1884.0         1812  \n",
       "4              NaN         1812  "
      ]
     },
     "execution_count": 3,
     "metadata": {},
     "output_type": "execute_result"
    }
   ],
   "source": [
    "filename = 'folktales.csv' #If you need to put the path to the file, do so here.\n",
    "data = pd.read_csv(filename)#if your filetype is not CSV, you may need to add \" , sep = 'separating_character_here' \" after the filename.  This may require extra manipulation, so be careful.\n",
    "#an alternative, depending on your filetype and situation, may be read_table as opposed to read_csv\n",
    "data.head() # We will use the .head() attribute to limit the amount of the DataFrame is displayed on screen. It is not necessary for computation."
   ]
  },
  {
   "cell_type": "markdown",
   "metadata": {},
   "source": [
    "Here we can see all the information available to us from the file in the form of a Pandas DataFrame. For the remainder of this tutorial, we will focus primarily on the full text of each data chunk, which we will name the *Story* column.  With your data set this is likely to be something very different, so feel free to call is something else."
   ]
  },
  {
   "cell_type": "markdown",
   "metadata": {},
   "source": [
    "## Counting Words and Characters"
   ]
  },
  {
   "cell_type": "markdown",
   "metadata": {},
   "source": [
    "The first bit of analysis we might want to do is to count the number of words in one piece of data. To do this we will add a column called *wordcount* and write an operation that applies a function to every row of the column.\n",
    "\n",
    "Unpacking this piece of code, *len(str(x).split(\" \")*, tells us what is happening.\n",
    "\n",
    "For the content of cell *x*, convert it to a string, *str()*, then split that string into pieces at each space, *split()*.\n",
    "\n",
    "The result of that is a list of all the words in the text and then we can count the length of that list, *len()*."
   ]
  },
  {
   "cell_type": "code",
   "execution_count": 43,
   "metadata": {
    "scrolled": true
   },
   "outputs": [
    {
     "data": {
      "text/html": [
       "<div>\n",
       "<style scoped>\n",
       "    .dataframe tbody tr th:only-of-type {\n",
       "        vertical-align: middle;\n",
       "    }\n",
       "\n",
       "    .dataframe tbody tr th {\n",
       "        vertical-align: top;\n",
       "    }\n",
       "\n",
       "    .dataframe thead th {\n",
       "        text-align: right;\n",
       "    }\n",
       "</style>\n",
       "<table border=\"1\" class=\"dataframe\">\n",
       "  <thead>\n",
       "    <tr style=\"text-align: right;\">\n",
       "      <th></th>\n",
       "      <th>Story</th>\n",
       "      <th>wordcount</th>\n",
       "    </tr>\n",
       "  </thead>\n",
       "  <tbody>\n",
       "    <tr>\n",
       "      <th>0</th>\n",
       "      <td>A cat had made the acquaintance of a mouse, an...</td>\n",
       "      <td>987</td>\n",
       "    </tr>\n",
       "    <tr>\n",
       "      <th>1</th>\n",
       "      <td>There was once an old goat who had seven littl...</td>\n",
       "      <td>1037</td>\n",
       "    </tr>\n",
       "    <tr>\n",
       "      <th>2</th>\n",
       "      <td>ONCE upon a time there was an old king who was...</td>\n",
       "      <td>3068</td>\n",
       "    </tr>\n",
       "    <tr>\n",
       "      <th>3</th>\n",
       "      <td>There was once a peasant who had driven his co...</td>\n",
       "      <td>1723</td>\n",
       "    </tr>\n",
       "    <tr>\n",
       "      <th>4</th>\n",
       "      <td>There was once a wonderful musician, who went ...</td>\n",
       "      <td>1066</td>\n",
       "    </tr>\n",
       "  </tbody>\n",
       "</table>\n",
       "</div>"
      ],
      "text/plain": [
       "                                               Story  wordcount\n",
       "0  A cat had made the acquaintance of a mouse, an...        987\n",
       "1  There was once an old goat who had seven littl...       1037\n",
       "2  ONCE upon a time there was an old king who was...       3068\n",
       "3  There was once a peasant who had driven his co...       1723\n",
       "4  There was once a wonderful musician, who went ...       1066"
      ]
     },
     "execution_count": 43,
     "metadata": {},
     "output_type": "execute_result"
    }
   ],
   "source": [
    "data['wordcount'] = data['Story'].apply(lambda x: len(str(x).split(\" \")))\n",
    "data[['Story','wordcount']].head()"
   ]
  },
  {
   "cell_type": "markdown",
   "metadata": {},
   "source": [
    "We can do something similar to count the number of characters in the data chunk, including spaces. If you wanted to exclude whitespaces, you could take the list we made above, join it together and count the length of the resulting string."
   ]
  },
  {
   "cell_type": "code",
   "execution_count": 53,
   "metadata": {},
   "outputs": [],
   "source": [
    "data = data.fillna(\"No Information Provided\") #If some of our data is missing, this will replace the blank entries. This is only necessary in some cases\n"
   ]
  },
  {
   "cell_type": "code",
   "execution_count": 54,
   "metadata": {},
   "outputs": [
    {
     "data": {
      "text/html": [
       "<div>\n",
       "<style scoped>\n",
       "    .dataframe tbody tr th:only-of-type {\n",
       "        vertical-align: middle;\n",
       "    }\n",
       "\n",
       "    .dataframe tbody tr th {\n",
       "        vertical-align: top;\n",
       "    }\n",
       "\n",
       "    .dataframe thead th {\n",
       "        text-align: right;\n",
       "    }\n",
       "</style>\n",
       "<table border=\"1\" class=\"dataframe\">\n",
       "  <thead>\n",
       "    <tr style=\"text-align: right;\">\n",
       "      <th></th>\n",
       "      <th>Story</th>\n",
       "      <th>char_count</th>\n",
       "    </tr>\n",
       "  </thead>\n",
       "  <tbody>\n",
       "    <tr>\n",
       "      <th>0</th>\n",
       "      <td>A cat had made the acquaintance of a mouse, an...</td>\n",
       "      <td>5108</td>\n",
       "    </tr>\n",
       "    <tr>\n",
       "      <th>1</th>\n",
       "      <td>There was once an old goat who had seven littl...</td>\n",
       "      <td>5343</td>\n",
       "    </tr>\n",
       "    <tr>\n",
       "      <th>2</th>\n",
       "      <td>ONCE upon a time there was an old king who was...</td>\n",
       "      <td>15999</td>\n",
       "    </tr>\n",
       "    <tr>\n",
       "      <th>3</th>\n",
       "      <td>There was once a peasant who had driven his co...</td>\n",
       "      <td>8907</td>\n",
       "    </tr>\n",
       "    <tr>\n",
       "      <th>4</th>\n",
       "      <td>There was once a wonderful musician, who went ...</td>\n",
       "      <td>5592</td>\n",
       "    </tr>\n",
       "  </tbody>\n",
       "</table>\n",
       "</div>"
      ],
      "text/plain": [
       "                                               Story  char_count\n",
       "0  A cat had made the acquaintance of a mouse, an...        5108\n",
       "1  There was once an old goat who had seven littl...        5343\n",
       "2  ONCE upon a time there was an old king who was...       15999\n",
       "3  There was once a peasant who had driven his co...        8907\n",
       "4  There was once a wonderful musician, who went ...        5592"
      ]
     },
     "execution_count": 54,
     "metadata": {},
     "output_type": "execute_result"
    }
   ],
   "source": [
    "data['char_count'] = data['Story'].str.len() ## this also includes spaces, to do it without spaces, you could use something like this: \"\".join()\n",
    "data[['Story','char_count']].head()"
   ]
  },
  {
   "cell_type": "markdown",
   "metadata": {},
   "source": [
    "Now we want to calculate the average word length in the data.\n",
    "\n",
    "Let's define a function that will do that for us:"
   ]
  },
  {
   "cell_type": "code",
   "execution_count": 55,
   "metadata": {},
   "outputs": [],
   "source": [
    "def avg_word(sentence):\n",
    "    words = sentence.split()\n",
    "    return (sum(len(word) for word in words)/len(words))"
   ]
  },
  {
   "cell_type": "markdown",
   "metadata": {},
   "source": [
    "We can now apply that function to all the data chunks and save that in a new column."
   ]
  },
  {
   "cell_type": "code",
   "execution_count": 56,
   "metadata": {},
   "outputs": [
    {
     "data": {
      "text/html": [
       "<div>\n",
       "<style scoped>\n",
       "    .dataframe tbody tr th:only-of-type {\n",
       "        vertical-align: middle;\n",
       "    }\n",
       "\n",
       "    .dataframe tbody tr th {\n",
       "        vertical-align: top;\n",
       "    }\n",
       "\n",
       "    .dataframe thead th {\n",
       "        text-align: right;\n",
       "    }\n",
       "</style>\n",
       "<table border=\"1\" class=\"dataframe\">\n",
       "  <thead>\n",
       "    <tr style=\"text-align: right;\">\n",
       "      <th></th>\n",
       "      <th>Story</th>\n",
       "      <th>avg_word</th>\n",
       "    </tr>\n",
       "  </thead>\n",
       "  <tbody>\n",
       "    <tr>\n",
       "      <th>0</th>\n",
       "      <td>A cat had made the acquaintance of a mouse, an...</td>\n",
       "      <td>4.176292</td>\n",
       "    </tr>\n",
       "    <tr>\n",
       "      <th>1</th>\n",
       "      <td>There was once an old goat who had seven littl...</td>\n",
       "      <td>4.153327</td>\n",
       "    </tr>\n",
       "    <tr>\n",
       "      <th>2</th>\n",
       "      <td>ONCE upon a time there was an old king who was...</td>\n",
       "      <td>4.215124</td>\n",
       "    </tr>\n",
       "    <tr>\n",
       "      <th>3</th>\n",
       "      <td>There was once a peasant who had driven his co...</td>\n",
       "      <td>4.170052</td>\n",
       "    </tr>\n",
       "    <tr>\n",
       "      <th>4</th>\n",
       "      <td>There was once a wonderful musician, who went ...</td>\n",
       "      <td>4.246717</td>\n",
       "    </tr>\n",
       "  </tbody>\n",
       "</table>\n",
       "</div>"
      ],
      "text/plain": [
       "                                               Story  avg_word\n",
       "0  A cat had made the acquaintance of a mouse, an...  4.176292\n",
       "1  There was once an old goat who had seven littl...  4.153327\n",
       "2  ONCE upon a time there was an old king who was...  4.215124\n",
       "3  There was once a peasant who had driven his co...  4.170052\n",
       "4  There was once a wonderful musician, who went ...  4.246717"
      ]
     },
     "execution_count": 56,
     "metadata": {},
     "output_type": "execute_result"
    }
   ],
   "source": [
    "data['avg_word'] = data['Story'].apply(lambda x: avg_word(x))\n",
    "data[['Story','avg_word']].head()"
   ]
  },
  {
   "cell_type": "markdown",
   "metadata": {},
   "source": [
    "We can then sort by the average word length."
   ]
  },
  {
   "cell_type": "code",
   "execution_count": 57,
   "metadata": {},
   "outputs": [
    {
     "data": {
      "text/html": [
       "<div>\n",
       "<style scoped>\n",
       "    .dataframe tbody tr th:only-of-type {\n",
       "        vertical-align: middle;\n",
       "    }\n",
       "\n",
       "    .dataframe tbody tr th {\n",
       "        vertical-align: top;\n",
       "    }\n",
       "\n",
       "    .dataframe thead th {\n",
       "        text-align: right;\n",
       "    }\n",
       "</style>\n",
       "<table border=\"1\" class=\"dataframe\">\n",
       "  <thead>\n",
       "    <tr style=\"text-align: right;\">\n",
       "      <th></th>\n",
       "      <th>Story</th>\n",
       "      <th>avg_word</th>\n",
       "    </tr>\n",
       "  </thead>\n",
       "  <tbody>\n",
       "    <tr>\n",
       "      <th>659</th>\n",
       "      <td>A GNAT settled on the horn of a Bull, and sa...</td>\n",
       "      <td>3.623377</td>\n",
       "    </tr>\n",
       "    <tr>\n",
       "      <th>656</th>\n",
       "      <td>A MAN wished to purchase an Ass, and agreed ...</td>\n",
       "      <td>3.709924</td>\n",
       "    </tr>\n",
       "    <tr>\n",
       "      <th>620</th>\n",
       "      <td>A HOUND having started a Hare on the hillsid...</td>\n",
       "      <td>3.737374</td>\n",
       "    </tr>\n",
       "    <tr>\n",
       "      <th>391</th>\n",
       "      <td>Once on a time there was a little boy who was ...</td>\n",
       "      <td>3.771277</td>\n",
       "    </tr>\n",
       "    <tr>\n",
       "      <th>895</th>\n",
       "      <td>Hare once said to Elephant : \" Let us play hid...</td>\n",
       "      <td>3.795652</td>\n",
       "    </tr>\n",
       "  </tbody>\n",
       "</table>\n",
       "</div>"
      ],
      "text/plain": [
       "                                                 Story  avg_word\n",
       "659    A GNAT settled on the horn of a Bull, and sa...  3.623377\n",
       "656    A MAN wished to purchase an Ass, and agreed ...  3.709924\n",
       "620    A HOUND having started a Hare on the hillsid...  3.737374\n",
       "391  Once on a time there was a little boy who was ...  3.771277\n",
       "895  Hare once said to Elephant : \" Let us play hid...  3.795652"
      ]
     },
     "execution_count": 57,
     "metadata": {},
     "output_type": "execute_result"
    }
   ],
   "source": [
    "data[['Story','avg_word']].sort_values(by='avg_word', ascending=True).head()"
   ]
  },
  {
   "cell_type": "markdown",
   "metadata": {},
   "source": [
    "### Count Stopwords"
   ]
  },
  {
   "cell_type": "markdown",
   "metadata": {},
   "source": [
    "Stopwords are words that are commonly used and do little to aid in the understanding of the content of a text. There is no universal list of stopwords and they vary on the style, time period and media from which your text came from.  Typically, people choose to remove stopwords from their data, as it adds extra clutter while the words themselves provide little to no insight as to the nature of the data.  For now, we are simply going to count them to get an idea of how many there are.\n",
    "\n",
    "For this tutorial, we will use the standard list of stopwords provided by the Natural Language Toolkit python library."
   ]
  },
  {
   "cell_type": "code",
   "execution_count": 58,
   "metadata": {},
   "outputs": [],
   "source": [
    "from nltk.corpus import stopwords\n",
    "stop = stopwords.words('english')"
   ]
  },
  {
   "cell_type": "markdown",
   "metadata": {},
   "source": [
    "To count the number of stopwords in a chunk of data, we make a list of all the words in our data that are also in the stopword list. We can then just take the length of that list and store it in a new column"
   ]
  },
  {
   "cell_type": "code",
   "execution_count": 59,
   "metadata": {},
   "outputs": [
    {
     "data": {
      "text/html": [
       "<div>\n",
       "<style scoped>\n",
       "    .dataframe tbody tr th:only-of-type {\n",
       "        vertical-align: middle;\n",
       "    }\n",
       "\n",
       "    .dataframe tbody tr th {\n",
       "        vertical-align: top;\n",
       "    }\n",
       "\n",
       "    .dataframe thead th {\n",
       "        text-align: right;\n",
       "    }\n",
       "</style>\n",
       "<table border=\"1\" class=\"dataframe\">\n",
       "  <thead>\n",
       "    <tr style=\"text-align: right;\">\n",
       "      <th></th>\n",
       "      <th>Story</th>\n",
       "      <th>stopwords</th>\n",
       "    </tr>\n",
       "  </thead>\n",
       "  <tbody>\n",
       "    <tr>\n",
       "      <th>0</th>\n",
       "      <td>A cat had made the acquaintance of a mouse, an...</td>\n",
       "      <td>446</td>\n",
       "    </tr>\n",
       "    <tr>\n",
       "      <th>1</th>\n",
       "      <td>There was once an old goat who had seven littl...</td>\n",
       "      <td>505</td>\n",
       "    </tr>\n",
       "    <tr>\n",
       "      <th>2</th>\n",
       "      <td>ONCE upon a time there was an old king who was...</td>\n",
       "      <td>1471</td>\n",
       "    </tr>\n",
       "    <tr>\n",
       "      <th>3</th>\n",
       "      <td>There was once a peasant who had driven his co...</td>\n",
       "      <td>745</td>\n",
       "    </tr>\n",
       "    <tr>\n",
       "      <th>4</th>\n",
       "      <td>There was once a wonderful musician, who went ...</td>\n",
       "      <td>470</td>\n",
       "    </tr>\n",
       "  </tbody>\n",
       "</table>\n",
       "</div>"
      ],
      "text/plain": [
       "                                               Story  stopwords\n",
       "0  A cat had made the acquaintance of a mouse, an...        446\n",
       "1  There was once an old goat who had seven littl...        505\n",
       "2  ONCE upon a time there was an old king who was...       1471\n",
       "3  There was once a peasant who had driven his co...        745\n",
       "4  There was once a wonderful musician, who went ...        470"
      ]
     },
     "execution_count": 59,
     "metadata": {},
     "output_type": "execute_result"
    }
   ],
   "source": [
    "data['stopwords'] = data['Story'].apply(lambda x: len([x for x in x.split() if x in stop]))\n",
    "data[['Story','stopwords']].head()"
   ]
  },
  {
   "cell_type": "markdown",
   "metadata": {},
   "source": [
    "### Other Ways to Count"
   ]
  },
  {
   "cell_type": "markdown",
   "metadata": {},
   "source": [
    "There are other types of counting we might want to do. These might be more or less relevant depending on the test you are working with.\n",
    "\n",
    "For completeness, we have put them here but we will skip over them in this tutorial"
   ]
  },
  {
   "cell_type": "markdown",
   "metadata": {},
   "source": [
    "#### Counting Special Characters"
   ]
  },
  {
   "cell_type": "markdown",
   "metadata": {},
   "source": [
    "This is really only useful for Twitter or other Internet texts but you could imagine wanting to count quotations or exclamations with something similar."
   ]
  },
  {
   "cell_type": "code",
   "execution_count": 60,
   "metadata": {},
   "outputs": [
    {
     "data": {
      "text/html": [
       "<div>\n",
       "<style scoped>\n",
       "    .dataframe tbody tr th:only-of-type {\n",
       "        vertical-align: middle;\n",
       "    }\n",
       "\n",
       "    .dataframe tbody tr th {\n",
       "        vertical-align: top;\n",
       "    }\n",
       "\n",
       "    .dataframe thead th {\n",
       "        text-align: right;\n",
       "    }\n",
       "</style>\n",
       "<table border=\"1\" class=\"dataframe\">\n",
       "  <thead>\n",
       "    <tr style=\"text-align: right;\">\n",
       "      <th></th>\n",
       "      <th>Story</th>\n",
       "      <th>special_char</th>\n",
       "    </tr>\n",
       "  </thead>\n",
       "  <tbody>\n",
       "    <tr>\n",
       "      <th>0</th>\n",
       "      <td>A cat had made the acquaintance of a mouse, an...</td>\n",
       "      <td>0</td>\n",
       "    </tr>\n",
       "    <tr>\n",
       "      <th>1</th>\n",
       "      <td>There was once an old goat who had seven littl...</td>\n",
       "      <td>0</td>\n",
       "    </tr>\n",
       "    <tr>\n",
       "      <th>2</th>\n",
       "      <td>ONCE upon a time there was an old king who was...</td>\n",
       "      <td>0</td>\n",
       "    </tr>\n",
       "    <tr>\n",
       "      <th>3</th>\n",
       "      <td>There was once a peasant who had driven his co...</td>\n",
       "      <td>0</td>\n",
       "    </tr>\n",
       "    <tr>\n",
       "      <th>4</th>\n",
       "      <td>There was once a wonderful musician, who went ...</td>\n",
       "      <td>0</td>\n",
       "    </tr>\n",
       "  </tbody>\n",
       "</table>\n",
       "</div>"
      ],
      "text/plain": [
       "                                               Story  special_char\n",
       "0  A cat had made the acquaintance of a mouse, an...             0\n",
       "1  There was once an old goat who had seven littl...             0\n",
       "2  ONCE upon a time there was an old king who was...             0\n",
       "3  There was once a peasant who had driven his co...             0\n",
       "4  There was once a wonderful musician, who went ...             0"
      ]
     },
     "execution_count": 60,
     "metadata": {},
     "output_type": "execute_result"
    }
   ],
   "source": [
    "data['special_char'] = data['Story'].apply(lambda x: len([x for x in x.split() if x.startswith('#')]))\n",
    "data[['Story','special_char']].head()"
   ]
  },
  {
   "cell_type": "markdown",
   "metadata": {},
   "source": [
    "#### Counting Numbers"
   ]
  },
  {
   "cell_type": "markdown",
   "metadata": {},
   "source": [
    "This counts the number of numerical digits in a text, which for strict text may not be helpful, but mostly numerical data will make more use of this."
   ]
  },
  {
   "cell_type": "code",
   "execution_count": 61,
   "metadata": {},
   "outputs": [
    {
     "data": {
      "text/html": [
       "<div>\n",
       "<style scoped>\n",
       "    .dataframe tbody tr th:only-of-type {\n",
       "        vertical-align: middle;\n",
       "    }\n",
       "\n",
       "    .dataframe tbody tr th {\n",
       "        vertical-align: top;\n",
       "    }\n",
       "\n",
       "    .dataframe thead th {\n",
       "        text-align: right;\n",
       "    }\n",
       "</style>\n",
       "<table border=\"1\" class=\"dataframe\">\n",
       "  <thead>\n",
       "    <tr style=\"text-align: right;\">\n",
       "      <th></th>\n",
       "      <th>Story</th>\n",
       "      <th>numerics</th>\n",
       "    </tr>\n",
       "  </thead>\n",
       "  <tbody>\n",
       "    <tr>\n",
       "      <th>416</th>\n",
       "      <td>Osborn’s PipeONCE on a time there was a poor t...</td>\n",
       "      <td>9</td>\n",
       "    </tr>\n",
       "    <tr>\n",
       "      <th>414</th>\n",
       "      <td>ONCE FIVE women were reaping in a field. Each ...</td>\n",
       "      <td>4</td>\n",
       "    </tr>\n",
       "    <tr>\n",
       "      <th>696</th>\n",
       "      <td>There was once a husband and a wife who had tw...</td>\n",
       "      <td>2</td>\n",
       "    </tr>\n",
       "    <tr>\n",
       "      <th>311</th>\n",
       "      <td>There once lived an old man who had three daug...</td>\n",
       "      <td>2</td>\n",
       "    </tr>\n",
       "    <tr>\n",
       "      <th>727</th>\n",
       "      <td>Whoever, to his honor's cost,His pristine dign...</td>\n",
       "      <td>1</td>\n",
       "    </tr>\n",
       "  </tbody>\n",
       "</table>\n",
       "</div>"
      ],
      "text/plain": [
       "                                                 Story  numerics\n",
       "416  Osborn’s PipeONCE on a time there was a poor t...         9\n",
       "414  ONCE FIVE women were reaping in a field. Each ...         4\n",
       "696  There was once a husband and a wife who had tw...         2\n",
       "311  There once lived an old man who had three daug...         2\n",
       "727  Whoever, to his honor's cost,His pristine dign...         1"
      ]
     },
     "execution_count": 61,
     "metadata": {},
     "output_type": "execute_result"
    }
   ],
   "source": [
    "data['numerics'] = data['Story'].apply(lambda x: len([x for x in x.split() if x.isdigit()]))\n",
    "data[['Story','numerics']].sort_values(by='numerics', ascending=False).head()"
   ]
  },
  {
   "cell_type": "markdown",
   "metadata": {},
   "source": [
    "#### Counting Uppercase"
   ]
  },
  {
   "cell_type": "markdown",
   "metadata": {},
   "source": [
    "Counting uppercase words could give us an indication of how many sentences or proper nouns are in a text but this is likely too broad to be used to classify either on its own."
   ]
  },
  {
   "cell_type": "code",
   "execution_count": 62,
   "metadata": {},
   "outputs": [
    {
     "data": {
      "text/html": [
       "<div>\n",
       "<style scoped>\n",
       "    .dataframe tbody tr th:only-of-type {\n",
       "        vertical-align: middle;\n",
       "    }\n",
       "\n",
       "    .dataframe tbody tr th {\n",
       "        vertical-align: top;\n",
       "    }\n",
       "\n",
       "    .dataframe thead th {\n",
       "        text-align: right;\n",
       "    }\n",
       "</style>\n",
       "<table border=\"1\" class=\"dataframe\">\n",
       "  <thead>\n",
       "    <tr style=\"text-align: right;\">\n",
       "      <th></th>\n",
       "      <th>Story</th>\n",
       "      <th>upper</th>\n",
       "    </tr>\n",
       "  </thead>\n",
       "  <tbody>\n",
       "    <tr>\n",
       "      <th>0</th>\n",
       "      <td>A cat had made the acquaintance of a mouse, an...</td>\n",
       "      <td>12</td>\n",
       "    </tr>\n",
       "    <tr>\n",
       "      <th>1</th>\n",
       "      <td>There was once an old goat who had seven littl...</td>\n",
       "      <td>5</td>\n",
       "    </tr>\n",
       "    <tr>\n",
       "      <th>2</th>\n",
       "      <td>ONCE upon a time there was an old king who was...</td>\n",
       "      <td>39</td>\n",
       "    </tr>\n",
       "    <tr>\n",
       "      <th>3</th>\n",
       "      <td>There was once a peasant who had driven his co...</td>\n",
       "      <td>35</td>\n",
       "    </tr>\n",
       "    <tr>\n",
       "      <th>4</th>\n",
       "      <td>There was once a wonderful musician, who went ...</td>\n",
       "      <td>19</td>\n",
       "    </tr>\n",
       "  </tbody>\n",
       "</table>\n",
       "</div>"
      ],
      "text/plain": [
       "                                               Story  upper\n",
       "0  A cat had made the acquaintance of a mouse, an...     12\n",
       "1  There was once an old goat who had seven littl...      5\n",
       "2  ONCE upon a time there was an old king who was...     39\n",
       "3  There was once a peasant who had driven his co...     35\n",
       "4  There was once a wonderful musician, who went ...     19"
      ]
     },
     "execution_count": 62,
     "metadata": {},
     "output_type": "execute_result"
    }
   ],
   "source": [
    "data['upper'] = data['Story'].apply(lambda x: len([x for x in x.split() if x.isupper()]))\n",
    "data[['Story','upper']].head()"
   ]
  },
  {
   "cell_type": "markdown",
   "metadata": {},
   "source": [
    "# Processing Text"
   ]
  },
  {
   "cell_type": "markdown",
   "metadata": {},
   "source": [
    "A major component of doing analysis on text is the cleaning of the text prior to the analysis.\n",
    "\n",
    "Though this process destroys some elements of the text (sentence structure, for example), it is often necessary in order to describe a text analytically. Depending on your choice of cleaning techniques, some elements might be preserved better than others if that is of importance to your analysis."
   ]
  },
  {
   "cell_type": "markdown",
   "metadata": {},
   "source": [
    "## Cleaning Up Words"
   ]
  },
  {
   "cell_type": "markdown",
   "metadata": {},
   "source": [
    "This series of steps aims to clean up and standardize the text itself. This generally consists of removing common elements such as stopwords and punctuation but can be expanded to more detailed removals."
   ]
  },
  {
   "cell_type": "markdown",
   "metadata": {},
   "source": [
    "### Lowercase"
   ]
  },
  {
   "cell_type": "markdown",
   "metadata": {},
   "source": [
    "Here we enforce that all of the text is lowercase. This makes it easier to match cases and sort words.\n",
    "\n",
    "Notice we are assigning our modified column back to itself. This will save our modifications to our DataFrame"
   ]
  },
  {
   "cell_type": "code",
   "execution_count": 63,
   "metadata": {},
   "outputs": [
    {
     "data": {
      "text/plain": [
       "0    a cat had made the acquaintance of a mouse, an...\n",
       "1    there was once an old goat who had seven littl...\n",
       "2    once upon a time there was an old king who was...\n",
       "3    there was once a peasant who had driven his co...\n",
       "4    there was once a wonderful musician, who went ...\n",
       "Name: Story, dtype: object"
      ]
     },
     "execution_count": 63,
     "metadata": {},
     "output_type": "execute_result"
    }
   ],
   "source": [
    "data['Story'] = data['Story'].apply(lambda x: \" \".join(x.lower() for x in x.split()))\n",
    "data['Story'].head()"
   ]
  },
  {
   "cell_type": "markdown",
   "metadata": {},
   "source": [
    "### Remove Punctuation"
   ]
  },
  {
   "cell_type": "markdown",
   "metadata": {},
   "source": [
    "Here we remove all punctuation from the data. This allows us to focus on the words only as well as assist in matching."
   ]
  },
  {
   "cell_type": "code",
   "execution_count": 64,
   "metadata": {},
   "outputs": [
    {
     "data": {
      "text/plain": [
       "0    a cat had made the acquaintance of a mouse and...\n",
       "1    there was once an old goat who had seven littl...\n",
       "2    once upon a time there was an old king who was...\n",
       "3    there was once a peasant who had driven his co...\n",
       "4    there was once a wonderful musician who went q...\n",
       "Name: Story, dtype: object"
      ]
     },
     "execution_count": 64,
     "metadata": {},
     "output_type": "execute_result"
    }
   ],
   "source": [
    "data['Story'] = data['Story'].str.replace('[^\\w\\s]','')\n",
    "data['Story'].head()"
   ]
  },
  {
   "cell_type": "markdown",
   "metadata": {},
   "source": [
    "### Remove Stopwords"
   ]
  },
  {
   "cell_type": "markdown",
   "metadata": {},
   "source": [
    "Similar to what we did earlier when we counted stopwords, we now want to remove the stopwords. We will again use the NLTK list of stopwords but this time keep a list of words that do not appear in the list of stopwords."
   ]
  },
  {
   "cell_type": "code",
   "execution_count": 65,
   "metadata": {},
   "outputs": [
    {
     "data": {
      "text/plain": [
       "0    cat made acquaintance mouse said much great lo...\n",
       "1    old goat seven little ones fond ever mother ch...\n",
       "2    upon time old king ill thought likely deathbed...\n",
       "3    peasant driven cow fair sold seven thalers way...\n",
       "4    wonderful musician went quite alone forest tho...\n",
       "Name: Story, dtype: object"
      ]
     },
     "execution_count": 65,
     "metadata": {},
     "output_type": "execute_result"
    }
   ],
   "source": [
    "from nltk.corpus import stopwords\n",
    "stop = stopwords.words('english')\n",
    "data['Story'] = data['Story'].apply(lambda x: \" \".join(x for x in x.split() if x not in stop))\n",
    "data['Story'].head()"
   ]
  },
  {
   "cell_type": "markdown",
   "metadata": {},
   "source": [
    "### Remove Frequent Words"
   ]
  },
  {
   "cell_type": "markdown",
   "metadata": {},
   "source": [
    "If we want to catch common words that might have slipped through the stopword removal, we can build out a list of the most common words remaining in our text.\n",
    "\n",
    "Here we have built a list of the 10 most common words. Some of these words might actually be relevant to our analysis so it is important to be careful with this method."
   ]
  },
  {
   "cell_type": "code",
   "execution_count": 66,
   "metadata": {},
   "outputs": [
    {
     "data": {
      "text/plain": [
       "said      9644\n",
       "one       4980\n",
       "came      3502\n",
       "little    3489\n",
       "went      3317\n",
       "could     3040\n",
       "would     3023\n",
       "king      2846\n",
       "old       2764\n",
       "man       2375\n",
       "dtype: int64"
      ]
     },
     "execution_count": 66,
     "metadata": {},
     "output_type": "execute_result"
    }
   ],
   "source": [
    "freq = pd.Series(' '.join(data['Story']).split()).value_counts()[:10]\n",
    "freq"
   ]
  },
  {
   "cell_type": "markdown",
   "metadata": {},
   "source": [
    "We now follow the same procedure with which we removed stopwords to remove the most frequent words."
   ]
  },
  {
   "cell_type": "code",
   "execution_count": 67,
   "metadata": {},
   "outputs": [
    {
     "data": {
      "text/plain": [
       "0    cat made acquaintance mouse much great love fr...\n",
       "1    goat seven ones fond ever mother children day ...\n",
       "2    upon time ill thought likely deathbed send tru...\n",
       "3    peasant driven cow fair sold seven thalers way...\n",
       "4    wonderful musician quite alone forest thought ...\n",
       "Name: Story, dtype: object"
      ]
     },
     "execution_count": 67,
     "metadata": {},
     "output_type": "execute_result"
    }
   ],
   "source": [
    "freq = list(freq.index)\n",
    "data['Story'] = data['Story'].apply(lambda x: \" \".join(x for x in x.split() if x not in freq))\n",
    "data['Story'].head()"
   ]
  },
  {
   "cell_type": "markdown",
   "metadata": {},
   "source": [
    "### Remove Rare Words"
   ]
  },
  {
   "cell_type": "markdown",
   "metadata": {},
   "source": [
    "By analogy, we can remove the most rare words. Some of these are strange misspellings or [hapax legomenon](https://en.wikipedia.org/wiki/Hapax_legomenon) (one off words that don't appear anywhere else in the text)."
   ]
  },
  {
   "cell_type": "code",
   "execution_count": 68,
   "metadata": {},
   "outputs": [
    {
     "data": {
      "text/plain": [
       "waybefore          1\n",
       "floorwhat          1\n",
       "princessgoodday    1\n",
       "neighdo            1\n",
       "wasif              1\n",
       "jointinterest      1\n",
       "sohow              1\n",
       "respectfear        1\n",
       "wolfgrey           1\n",
       "infectious         1\n",
       "dtype: int64"
      ]
     },
     "execution_count": 68,
     "metadata": {},
     "output_type": "execute_result"
    }
   ],
   "source": [
    "freq = pd.Series(' '.join(data['Story']).split()).value_counts()[-10:]\n",
    "freq"
   ]
  },
  {
   "cell_type": "markdown",
   "metadata": {},
   "source": [
    "Again, removing words following the same process as the stopword removal."
   ]
  },
  {
   "cell_type": "code",
   "execution_count": 69,
   "metadata": {},
   "outputs": [
    {
     "data": {
      "text/plain": [
       "0    cat made acquaintance mouse much great love fr...\n",
       "1    goat seven ones fond ever mother children day ...\n",
       "2    upon time ill thought likely deathbed send tru...\n",
       "3    peasant driven cow fair sold seven thalers way...\n",
       "4    wonderful musician quite alone forest thought ...\n",
       "Name: Story, dtype: object"
      ]
     },
     "execution_count": 69,
     "metadata": {},
     "output_type": "execute_result"
    }
   ],
   "source": [
    "freq = list(freq.index)\n",
    "data['Story'] = data['Story'].apply(lambda x: \" \".join(x for x in x.split() if x not in freq))\n",
    "data['Story'].head()"
   ]
  },
  {
   "cell_type": "markdown",
   "metadata": {},
   "source": [
    "### Correct Spelling"
   ]
  },
  {
   "cell_type": "markdown",
   "metadata": {},
   "source": [
    "Misspellings can cause inaccuracies in text analysis. For example, \"the\" and \"teh\" are likely intended to be the same word and a reader might gloss over that typo, but a computer would view them as distinct.\n",
    "\n",
    "To help address this we will leverage the [TextBlob package](https://textblob.readthedocs.io/en/dev/) to check the spelling.\n",
    "\n",
    "Since this can be slow and often of questionable usefulness, we have limited the check to the first 5 rows of our DataFrame.\n",
    "\n",
    "It is also worth keeping in mind that, much like autocorrect on your phone, the spellchecking here is not going to be perfectly accurate and could result in just as many errors as it fixes (especially if you are working on text from edited or published sources)."
   ]
  },
  {
   "cell_type": "code",
   "execution_count": 70,
   "metadata": {
    "scrolled": true
   },
   "outputs": [
    {
     "data": {
      "text/plain": [
       "0    cat made acquaintance mouse much great love fr...\n",
       "1    goat seven ones fond ever mother children day ...\n",
       "2    upon time ill thought likely deathbed send tru...\n",
       "3    peasant driven cow fair sold seven thaler way ...\n",
       "4    wonderful musician quite alone forest thought ...\n",
       "Name: Story, dtype: object"
      ]
     },
     "execution_count": 70,
     "metadata": {},
     "output_type": "execute_result"
    }
   ],
   "source": [
    "from textblob import TextBlob\n",
    "data['Story'][:5].apply(lambda x: str(TextBlob(x).correct()))"
   ]
  },
  {
   "cell_type": "markdown",
   "metadata": {},
   "source": [
    "### Tokenization"
   ]
  },
  {
   "cell_type": "markdown",
   "metadata": {},
   "source": [
    "Tokenization is the process of splitting up a block of text into a sequence of words or sentences.\n",
    "\n",
    "For those familiar with R and the Tidyverse, this would be referred to as unnesting tokens\n",
    "\n",
    "Here we show all the tokenized words from the first data chunk in our Dataframe."
   ]
  },
  {
   "cell_type": "code",
   "execution_count": 71,
   "metadata": {},
   "outputs": [],
   "source": [
    "#import nltk\n",
    "#nltk.download('punkt')"
   ]
  },
  {
   "cell_type": "code",
   "execution_count": 72,
   "metadata": {
    "scrolled": true
   },
   "outputs": [
    {
     "data": {
      "text/plain": [
       "WordList(['cat', 'made', 'acquaintance', 'mouse', 'much', 'great', 'love', 'friendship', 'felt', 'last', 'mouse', 'agreed', 'live', 'keep', 'house', 'together', 'must', 'make', 'preparations', 'winter', 'else', 'shall', 'suffer', 'hunger', 'cat', 'mouse', 'can', 'not', 'venture', 'everywhere', 'end', 'caught', 'trap', 'good', 'advice', 'followed', 'bought', 'pot', 'fat', 'know', 'store', 'finally', 'much', 'consideration', 'cat', 'know', 'place', 'better', 'stored', 'church', 'dares', 'take', 'anything', 'away', 'put', 'beneath', 'altar', 'touch', 'need', 'pot', 'stored', 'safely', 'away', 'long', 'cat', 'took', 'great', 'longing', 'mouse', 'wanted', 'tell', 'mouse', 'cousin', 'brought', 'son', 'world', 'asked', 'godfather', 'white', 'brown', 'spots', 'hold', 'baptismal', 'font', 'let', 'go', 'today', 'look', 'house', 'yes', 'yes', 'answered', 'mouse', 'means', 'go', 'get', 'anything', 'good', 'eat', 'think', 'like', 'drink', 'drop', 'sweet', 'red', 'christening', 'wine', 'however', 'untrue', 'cat', 'cousin', 'asked', 'godfather', 'straight', 'church', 'crept', 'pot', 'fat', 'began', 'lick', 'licked', 'top', 'fat', 'stroll', 'roofs', 'town', 'looked', 'opportunities', 'stretched', 'sun', 'licking', 'whiskers', 'whenever', 'thought', 'pot', 'fat', 'return', 'home', 'evening', 'well', 'mouse', 'must', 'happy', 'day', 'everything', 'well', 'answered', 'cat', 'name', 'give', 'child', 'asked', 'mouse', 'topoff', 'cat', 'quite', 'coolly', 'topoff', 'cried', 'mouse', 'odd', 'uncommon', 'name', 'usual', 'family', 'matter', 'cat', 'worse', 'crumbthief', 'godchildren', 'calledbefore', 'long', 'cat', 'seized', 'another', 'fit', 'longing', 'mouse', 'must', 'favor', 'manage', 'house', 'alone', 'day', 'asked', 'godfather', 'since', 'child', 'white', 'ring', 'around', 'neck', 'can', 'not', 'refuse', 'good', 'mouse', 'consented', 'however', 'cat', 'crept', 'behind', 'town', 'wall', 'church', 'devoured', 'half', 'pot', 'fat', 'nothing', 'tastes', 'good', 'eats', 'oneself', 'quite', 'satisfied', 'days', 'work', 'arrived', 'home', 'mouse', 'asked', 'name', 'child', 'christened', 'halfgone', 'answered', 'cat', 'halfgone', 'saying', 'never', 'heard', 'name', 'life', 'ill', 'wager', 'almanacthe', 'cats', 'mouth', 'soon', 'began', 'water', 'delicious', 'goods', 'good', 'things', 'come', 'threes', 'mouse', 'asked', 'godfather', 'child', 'totally', 'black', 'white', 'paws', 'otherwise', 'single', 'white', 'hair', 'whole', 'body', 'happens', 'every', 'years', 'let', 'go', 'wont', 'topoff', 'halfgone', 'answered', 'mouse', 'odd', 'names', 'make', 'stop', 'think', 'sit', 'home', 'cat', 'dark', 'gray', 'fur', 'coat', 'long', 'braid', 'hair', 'capturing', 'fantasies', 'go', 'daytime', 'cats', 'absence', 'mouse', 'cleaned', 'house', 'put', 'order', 'greedy', 'cat', 'devoured', 'rest', 'fat', 'peace', 'everything', 'eaten', 'well', 'filled', 'fat', 'return', 'home', 'nighttime', 'mouse', 'immediately', 'asked', 'name', 'given', 'third', 'child', 'like', 'either', 'cat', 'name', 'allgone', 'allgone', 'cried', 'mouse', 'worrisome', 'name', 'never', 'seen', 'print', 'allgone', 'mean', 'shook', 'head', 'curled', 'lay', 'sleepfrom', 'time', 'forth', 'invited', 'cat', 'godfather', 'winter', 'come', 'longer', 'anything', 'found', 'outside', 'mouse', 'thought', 'stored', 'food', 'come', 'cat', 'go', 'pot', 'fat', 'stored', 'taste', 'good', 'yes', 'answered', 'cat', 'enjoy', 'much', 'enjoy', 'sticking', 'dainty', 'tongue', 'window', 'set', 'way', 'arrived', 'pot', 'fat', 'sure', 'still', 'place', 'empty', 'alas', 'mouse', 'see', 'happened', 'comes', 'light', 'true', 'friend', 'ate', 'everything', 'serving', 'godfather', 'first', 'top', 'half', 'done', 'quiet', 'cried', 'cat', 'word', 'eat', 'tooall', 'gone', 'already', 'poor', 'mouses', 'lips', 'scarcely', 'spoken', 'cat', 'sprang', 'seized', 'swallowed', 'see', 'way', 'world'])"
      ]
     },
     "execution_count": 72,
     "metadata": {},
     "output_type": "execute_result"
    }
   ],
   "source": [
    "TextBlob(data['Story'][0]).words"
   ]
  },
  {
   "cell_type": "markdown",
   "metadata": {},
   "source": [
    "## Stemming"
   ]
  },
  {
   "cell_type": "markdown",
   "metadata": {},
   "source": [
    "Stemming is the process of removing suffices, like \"ed\" or \"ing\".\n",
    "\n",
    "We will use another standard NLTK package, PorterStemmer, to do the stemming."
   ]
  },
  {
   "cell_type": "code",
   "execution_count": 73,
   "metadata": {},
   "outputs": [
    {
     "data": {
      "text/plain": [
       "0    cat made acquaint mous much great love friends...\n",
       "1    goat seven one fond ever mother children day g...\n",
       "2    upon time ill thought like deathb send trusti ...\n",
       "3    peasant driven cow fair sold seven thaler way ...\n",
       "4    wonder musician quit alon forest thought manne...\n",
       "Name: Story, dtype: object"
      ]
     },
     "execution_count": 73,
     "metadata": {},
     "output_type": "execute_result"
    }
   ],
   "source": [
    "from nltk.stem import PorterStemmer\n",
    "st = PorterStemmer()\n",
    "data['Story'][:5].apply(lambda x: \" \".join([st.stem(word) for word in x.split()]))"
   ]
  },
  {
   "cell_type": "markdown",
   "metadata": {},
   "source": [
    "As we can see \"wonderful\" became \"wonder\", which could help an analysis, but \"deathbed\" became \"deathb\" which is less helpful."
   ]
  },
  {
   "cell_type": "markdown",
   "metadata": {},
   "source": [
    "## Lemmatization"
   ]
  },
  {
   "cell_type": "markdown",
   "metadata": {},
   "source": [
    "Lemmatization is often a more useful approach than stemming because it leverages an understanding of the word itself to convert the word back to its root word. However, this means lemmatization is less aggressive than stemming (probably a good thing)."
   ]
  },
  {
   "cell_type": "code",
   "execution_count": 74,
   "metadata": {},
   "outputs": [],
   "source": [
    "#import nltk\n",
    "#nltk.download('wordnet')"
   ]
  },
  {
   "cell_type": "code",
   "execution_count": 75,
   "metadata": {},
   "outputs": [
    {
     "data": {
      "text/plain": [
       "0    cat made acquaintance mouse much great love fr...\n",
       "1    goat seven one fond ever mother child day go w...\n",
       "2    upon time ill thought likely deathbed send tru...\n",
       "3    peasant driven cow fair sold seven thalers way...\n",
       "4    wonderful musician quite alone forest thought ...\n",
       "Name: Story, dtype: object"
      ]
     },
     "execution_count": 75,
     "metadata": {},
     "output_type": "execute_result"
    }
   ],
   "source": [
    "from textblob import Word\n",
    "data['Story'] = data['Story'].apply(lambda x: \" \".join([Word(word).lemmatize() for word in x.split()]))\n",
    "data['Story'].head()"
   ]
  },
  {
   "cell_type": "markdown",
   "metadata": {},
   "source": [
    "At this point we have a several options for cleaning and structuring our text data. The next section will focus on more advanced ways to study text analytically."
   ]
  },
  {
   "cell_type": "markdown",
   "metadata": {},
   "source": [
    "# Advanced Text Processing"
   ]
  },
  {
   "cell_type": "markdown",
   "metadata": {},
   "source": [
    "This section focuses on more complex methods of analyzing textual data. We will continue to work with our same DataFrame."
   ]
  },
  {
   "cell_type": "markdown",
   "metadata": {},
   "source": [
    "## N-grams"
   ]
  },
  {
   "cell_type": "markdown",
   "metadata": {},
   "source": [
    "N-grams are combinations of multiple words as they appear in the text. The N refers to the number of words captured in the list. N-grams with N=1 are referred unigrams and are just a nested list of all the words in the text. Following a similar pattern, bigrams (N=2), trigrams (N=3), etc. can be used.\n",
    "\n",
    "N-grams allow you to capture the structure of the text which can be very useful. For instance, counting the number of bigrams where \"said\" was preceded by \"he\" vs \"she\" could give you an idea of the gender breakdown of speakers in a text. However, if you make your N-grams too long, you lose the ability to make comparisons.\n",
    "\n",
    "Another concern, especially in very large data sets, is that the memory storage of N-grams scales with N (bigrams are twice as large as unigrams, for example) and the time to process the N-grams can balloon dramatically as well.\n",
    "\n",
    "All that being said, we would suggest focusing on bigrams and trigrams as useful analysis tools."
   ]
  },
  {
   "cell_type": "code",
   "execution_count": 76,
   "metadata": {},
   "outputs": [
    {
     "data": {
      "text/plain": [
       "[WordList(['cat', 'made']),\n",
       " WordList(['made', 'acquaintance']),\n",
       " WordList(['acquaintance', 'mouse']),\n",
       " WordList(['mouse', 'much']),\n",
       " WordList(['much', 'great']),\n",
       " WordList(['great', 'love']),\n",
       " WordList(['love', 'friendship']),\n",
       " WordList(['friendship', 'felt']),\n",
       " WordList(['felt', 'last']),\n",
       " WordList(['last', 'mouse'])]"
      ]
     },
     "execution_count": 76,
     "metadata": {},
     "output_type": "execute_result"
    }
   ],
   "source": [
    "TextBlob(data['Story'][0]).ngrams(2)[:10]"
   ]
  },
  {
   "cell_type": "markdown",
   "metadata": {},
   "source": [
    "## Term Frequency"
   ]
  },
  {
   "cell_type": "markdown",
   "metadata": {},
   "source": [
    "Term Frequency is a measure of how often a term appears in a document. There are different ways to define this but the simplest is a raw count of the number of times each term appears.\n",
    "\n",
    "There are other ways of defining this including a true term frequency and a log scaled definition. All three have been implemented below but the default will the raw count definition, as it matches with the remainder of the definitions in this tutorial.\n",
    "\n",
    "|Definition|Formula|\n",
    "|---|---|\n",
    "|Raw Count|$$f_{t,d}$$|\n",
    "|Term Frequency|$$\\frac{f_{t,d}}{\\sum_{t'\\in d}f_{t',d}}$$|\n",
    "|Log Scaled|$$\\log(1+f_{t,d})$$|\n",
    "\n"
   ]
  },
  {
   "cell_type": "code",
   "execution_count": 77,
   "metadata": {},
   "outputs": [
    {
     "data": {
      "text/html": [
       "<div>\n",
       "<style scoped>\n",
       "    .dataframe tbody tr th:only-of-type {\n",
       "        vertical-align: middle;\n",
       "    }\n",
       "\n",
       "    .dataframe tbody tr th {\n",
       "        vertical-align: top;\n",
       "    }\n",
       "\n",
       "    .dataframe thead th {\n",
       "        text-align: right;\n",
       "    }\n",
       "</style>\n",
       "<table border=\"1\" class=\"dataframe\">\n",
       "  <thead>\n",
       "    <tr style=\"text-align: right;\">\n",
       "      <th></th>\n",
       "      <th>words</th>\n",
       "      <th>tf</th>\n",
       "    </tr>\n",
       "  </thead>\n",
       "  <tbody>\n",
       "    <tr>\n",
       "      <th>434</th>\n",
       "      <td>john</td>\n",
       "      <td>39.0</td>\n",
       "    </tr>\n",
       "    <tr>\n",
       "      <th>435</th>\n",
       "      <td>trusty</td>\n",
       "      <td>37.0</td>\n",
       "    </tr>\n",
       "    <tr>\n",
       "      <th>1070</th>\n",
       "      <td>musician</td>\n",
       "      <td>31.0</td>\n",
       "    </tr>\n",
       "    <tr>\n",
       "      <th>875</th>\n",
       "      <td>thou</td>\n",
       "      <td>31.0</td>\n",
       "    </tr>\n",
       "    <tr>\n",
       "      <th>250</th>\n",
       "      <td>wolf</td>\n",
       "      <td>27.0</td>\n",
       "    </tr>\n",
       "    <tr>\n",
       "      <th>18</th>\n",
       "      <td>cried</td>\n",
       "      <td>27.0</td>\n",
       "    </tr>\n",
       "    <tr>\n",
       "      <th>874</th>\n",
       "      <td>peasant</td>\n",
       "      <td>25.0</td>\n",
       "    </tr>\n",
       "    <tr>\n",
       "      <th>0</th>\n",
       "      <td>cat</td>\n",
       "      <td>21.0</td>\n",
       "    </tr>\n",
       "    <tr>\n",
       "      <th>9</th>\n",
       "      <td>go</td>\n",
       "      <td>20.0</td>\n",
       "    </tr>\n",
       "    <tr>\n",
       "      <th>1</th>\n",
       "      <td>mouse</td>\n",
       "      <td>20.0</td>\n",
       "    </tr>\n",
       "  </tbody>\n",
       "</table>\n",
       "</div>"
      ],
      "text/plain": [
       "         words    tf\n",
       "434       john  39.0\n",
       "435     trusty  37.0\n",
       "1070  musician  31.0\n",
       "875       thou  31.0\n",
       "250       wolf  27.0\n",
       "18       cried  27.0\n",
       "874    peasant  25.0\n",
       "0          cat  21.0\n",
       "9           go  20.0\n",
       "1        mouse  20.0"
      ]
     },
     "execution_count": 77,
     "metadata": {},
     "output_type": "execute_result"
    }
   ],
   "source": [
    "## Raw Count Definition\n",
    "tf1 = (data['Story'][0:5]).apply(lambda x: pd.value_counts(x.split(\" \"))).sum(axis = 0).reset_index()\n",
    "\n",
    "## Term Frequency Definition\n",
    "#tf1 = (data['Story'][0:5]).apply(lambda x: (pd.value_counts(x.split(\" \")))/len(x.split(\" \"))).sum(axis = 0).reset_index() \n",
    "\n",
    "## Log Scaled Definition\n",
    "#tf1 = (data['Story'][0:10]).apply(lambda x: 1.0+np.log(pd.value_counts(x.split(\" \")))).sum(axis = 0).reset_index() \n",
    "\n",
    "tf1.columns = ['words','tf']\n",
    "tf1.sort_values(by='tf', ascending=False)[:10]"
   ]
  },
  {
   "cell_type": "markdown",
   "metadata": {},
   "source": [
    "## Inverse Document Frequency"
   ]
  },
  {
   "cell_type": "markdown",
   "metadata": {},
   "source": [
    "Inverse Document Frequency is a measure of how common or rare a term is across multiple documents. That gives a measure of how much weight that term carries.\n",
    "\n",
    "For a more concrete analogy of this, imagine a room full of NBA players; here a 7 foot tall person wouldn't be all that shocking. However if you have a room full of kindergarten students, a 7 foot tall person would be a huge surprise.\n",
    "\n",
    "The simplest and standard definition of Inverse Document Frequency is to take the logarithm of the ratio of the number of documents containing a term to the total number of documents.\n",
    "\n",
    "$$-\\log\\frac{n_t}{N} = \\log\\frac{N}{n_t}$$\n"
   ]
  },
  {
   "cell_type": "code",
   "execution_count": 78,
   "metadata": {},
   "outputs": [
    {
     "data": {
      "text/html": [
       "<div>\n",
       "<style scoped>\n",
       "    .dataframe tbody tr th:only-of-type {\n",
       "        vertical-align: middle;\n",
       "    }\n",
       "\n",
       "    .dataframe tbody tr th {\n",
       "        vertical-align: top;\n",
       "    }\n",
       "\n",
       "    .dataframe thead th {\n",
       "        text-align: right;\n",
       "    }\n",
       "</style>\n",
       "<table border=\"1\" class=\"dataframe\">\n",
       "  <thead>\n",
       "    <tr style=\"text-align: right;\">\n",
       "      <th></th>\n",
       "      <th>words</th>\n",
       "      <th>tf</th>\n",
       "      <th>idf</th>\n",
       "    </tr>\n",
       "  </thead>\n",
       "  <tbody>\n",
       "    <tr>\n",
       "      <th>0</th>\n",
       "      <td>cat</td>\n",
       "      <td>21.0</td>\n",
       "      <td>1.162270</td>\n",
       "    </tr>\n",
       "    <tr>\n",
       "      <th>1</th>\n",
       "      <td>mouse</td>\n",
       "      <td>20.0</td>\n",
       "      <td>2.591737</td>\n",
       "    </tr>\n",
       "    <tr>\n",
       "      <th>2</th>\n",
       "      <td>fat</td>\n",
       "      <td>9.0</td>\n",
       "      <td>0.847665</td>\n",
       "    </tr>\n",
       "    <tr>\n",
       "      <th>3</th>\n",
       "      <td>name</td>\n",
       "      <td>10.0</td>\n",
       "      <td>1.262168</td>\n",
       "    </tr>\n",
       "    <tr>\n",
       "      <th>4</th>\n",
       "      <td>good</td>\n",
       "      <td>19.0</td>\n",
       "      <td>0.584708</td>\n",
       "    </tr>\n",
       "    <tr>\n",
       "      <th>5</th>\n",
       "      <td>asked</td>\n",
       "      <td>12.0</td>\n",
       "      <td>0.797529</td>\n",
       "    </tr>\n",
       "    <tr>\n",
       "      <th>6</th>\n",
       "      <td>pot</td>\n",
       "      <td>7.0</td>\n",
       "      <td>1.449952</td>\n",
       "    </tr>\n",
       "    <tr>\n",
       "      <th>7</th>\n",
       "      <td>godfather</td>\n",
       "      <td>6.0</td>\n",
       "      <td>4.614020</td>\n",
       "    </tr>\n",
       "    <tr>\n",
       "      <th>8</th>\n",
       "      <td>child</td>\n",
       "      <td>19.0</td>\n",
       "      <td>1.100817</td>\n",
       "    </tr>\n",
       "    <tr>\n",
       "      <th>9</th>\n",
       "      <td>go</td>\n",
       "      <td>20.0</td>\n",
       "      <td>0.240361</td>\n",
       "    </tr>\n",
       "  </tbody>\n",
       "</table>\n",
       "</div>"
      ],
      "text/plain": [
       "       words    tf       idf\n",
       "0        cat  21.0  1.162270\n",
       "1      mouse  20.0  2.591737\n",
       "2        fat   9.0  0.847665\n",
       "3       name  10.0  1.262168\n",
       "4       good  19.0  0.584708\n",
       "5      asked  12.0  0.797529\n",
       "6        pot   7.0  1.449952\n",
       "7  godfather   6.0  4.614020\n",
       "8      child  19.0  1.100817\n",
       "9         go  20.0  0.240361"
      ]
     },
     "execution_count": 78,
     "metadata": {},
     "output_type": "execute_result"
    }
   ],
   "source": [
    "for i,word in enumerate(tf1['words']):\n",
    "    tf1.loc[i, 'idf'] = np.log(data.shape[0]/(len(data[data['Story'].str.contains(word)])))\n",
    "\n",
    "tf1[:10]"
   ]
  },
  {
   "cell_type": "markdown",
   "metadata": {},
   "source": [
    "## Term Frequency – Inverse Document Frequency ([TF-IDF](https://en.wikipedia.org/wiki/Tf%E2%80%93idf))"
   ]
  },
  {
   "cell_type": "markdown",
   "metadata": {},
   "source": [
    "Term Frequency – Inverse Document Frequency (TF-IDF) is a composite measure of both Term Frequency and Inverse Document Frequency.\n",
    "\n",
    "From [Wikipedia](https://en.wikipedia.org/wiki/Tf%E2%80%93idf):\n",
    "\"A high weight in TF–IDF is reached by a high term frequency (in the given document) and a low document frequency of the term in the whole collection of documents; the weights hence tend to filter out common terms\"\n",
    "\n",
    "More concisely, a high TD-IDF says that a word is very important in the documents in which it appears.\n",
    "\n",
    "There are a few weighting schemes for TF-IDF. Here we use scheme (1).\n",
    "\n",
    "|Weighting Scheme|Document Term Weight|\n",
    "|---|---|\n",
    "|(1)|$$f_{t,d}\\cdot\\log\\frac{N}{n_t}$$|\n",
    "|(2)|$$1+\\log(f_{t,d})$$|\n",
    "|(3)|$$(1+\\log(f_{t,d}))\\cdot\\log\\frac{N}{n_t}$$|"
   ]
  },
  {
   "cell_type": "code",
   "execution_count": 79,
   "metadata": {
    "scrolled": true
   },
   "outputs": [
    {
     "data": {
      "text/html": [
       "<div>\n",
       "<style scoped>\n",
       "    .dataframe tbody tr th:only-of-type {\n",
       "        vertical-align: middle;\n",
       "    }\n",
       "\n",
       "    .dataframe tbody tr th {\n",
       "        vertical-align: top;\n",
       "    }\n",
       "\n",
       "    .dataframe thead th {\n",
       "        text-align: right;\n",
       "    }\n",
       "</style>\n",
       "<table border=\"1\" class=\"dataframe\">\n",
       "  <thead>\n",
       "    <tr style=\"text-align: right;\">\n",
       "      <th></th>\n",
       "      <th>words</th>\n",
       "      <th>tf</th>\n",
       "      <th>idf</th>\n",
       "      <th>tfidf</th>\n",
       "    </tr>\n",
       "  </thead>\n",
       "  <tbody>\n",
       "    <tr>\n",
       "      <th>434</th>\n",
       "      <td>john</td>\n",
       "      <td>39.0</td>\n",
       "      <td>4.038656</td>\n",
       "      <td>157.507571</td>\n",
       "    </tr>\n",
       "    <tr>\n",
       "      <th>435</th>\n",
       "      <td>trusty</td>\n",
       "      <td>37.0</td>\n",
       "      <td>4.172187</td>\n",
       "      <td>154.370921</td>\n",
       "    </tr>\n",
       "    <tr>\n",
       "      <th>876</th>\n",
       "      <td>aik</td>\n",
       "      <td>20.0</td>\n",
       "      <td>6.811244</td>\n",
       "      <td>136.224888</td>\n",
       "    </tr>\n",
       "    <tr>\n",
       "      <th>1070</th>\n",
       "      <td>musician</td>\n",
       "      <td>31.0</td>\n",
       "      <td>4.038656</td>\n",
       "      <td>125.198325</td>\n",
       "    </tr>\n",
       "    <tr>\n",
       "      <th>874</th>\n",
       "      <td>peasant</td>\n",
       "      <td>25.0</td>\n",
       "      <td>2.548565</td>\n",
       "      <td>63.714113</td>\n",
       "    </tr>\n",
       "    <tr>\n",
       "      <th>250</th>\n",
       "      <td>wolf</td>\n",
       "      <td>27.0</td>\n",
       "      <td>2.278645</td>\n",
       "      <td>61.523412</td>\n",
       "    </tr>\n",
       "    <tr>\n",
       "      <th>880</th>\n",
       "      <td>wow</td>\n",
       "      <td>12.0</td>\n",
       "      <td>4.731803</td>\n",
       "      <td>56.781634</td>\n",
       "    </tr>\n",
       "    <tr>\n",
       "      <th>1</th>\n",
       "      <td>mouse</td>\n",
       "      <td>20.0</td>\n",
       "      <td>2.591737</td>\n",
       "      <td>51.834733</td>\n",
       "    </tr>\n",
       "    <tr>\n",
       "      <th>877</th>\n",
       "      <td>jew</td>\n",
       "      <td>16.0</td>\n",
       "      <td>2.750801</td>\n",
       "      <td>44.012822</td>\n",
       "    </tr>\n",
       "    <tr>\n",
       "      <th>252</th>\n",
       "      <td>kid</td>\n",
       "      <td>10.0</td>\n",
       "      <td>3.920873</td>\n",
       "      <td>39.208726</td>\n",
       "    </tr>\n",
       "  </tbody>\n",
       "</table>\n",
       "</div>"
      ],
      "text/plain": [
       "         words    tf       idf       tfidf\n",
       "434       john  39.0  4.038656  157.507571\n",
       "435     trusty  37.0  4.172187  154.370921\n",
       "876        aik  20.0  6.811244  136.224888\n",
       "1070  musician  31.0  4.038656  125.198325\n",
       "874    peasant  25.0  2.548565   63.714113\n",
       "250       wolf  27.0  2.278645   61.523412\n",
       "880        wow  12.0  4.731803   56.781634\n",
       "1        mouse  20.0  2.591737   51.834733\n",
       "877        jew  16.0  2.750801   44.012822\n",
       "252        kid  10.0  3.920873   39.208726"
      ]
     },
     "execution_count": 79,
     "metadata": {},
     "output_type": "execute_result"
    }
   ],
   "source": [
    "tf1['tfidf'] = tf1['tf'] * tf1['idf']\n",
    "tf1.sort_values(by='tfidf', ascending=False)[:10]"
   ]
  },
  {
   "cell_type": "markdown",
   "metadata": {},
   "source": [
    "It is worth noting that the *sklearn* library has the ability to directly calculate a TD-IDF matrix."
   ]
  },
  {
   "cell_type": "code",
   "execution_count": 80,
   "metadata": {},
   "outputs": [
    {
     "data": {
      "text/plain": [
       "<908x1000 sparse matrix of type '<class 'numpy.float64'>'\n",
       "\twith 117488 stored elements in Compressed Sparse Row format>"
      ]
     },
     "execution_count": 80,
     "metadata": {},
     "output_type": "execute_result"
    }
   ],
   "source": [
    "from sklearn.feature_extraction.text import TfidfVectorizer\n",
    "tfidf = TfidfVectorizer(max_features=1000, lowercase=True, analyzer='word',\n",
    " stop_words= 'english',ngram_range=(1,1))\n",
    "data_vect = tfidf.fit_transform(data['Story'])\n",
    "\n",
    "data_vect"
   ]
  },
  {
   "cell_type": "markdown",
   "metadata": {},
   "source": [
    "## [Bag of Words](https://en.wikipedia.org/wiki/Bag-of-words_model)"
   ]
  },
  {
   "cell_type": "markdown",
   "metadata": {},
   "source": [
    "[Bag of Words](https://en.wikipedia.org/wiki/Bag-of-words_model) a way to represent text based on the idea that similar texts will contain similar vocabulary. There is a lot to this model and we provide merely a simple implementation of it here."
   ]
  },
  {
   "cell_type": "code",
   "execution_count": 81,
   "metadata": {
    "scrolled": true
   },
   "outputs": [
    {
     "data": {
      "text/plain": [
       "<908x1000 sparse matrix of type '<class 'numpy.int64'>'\n",
       "\twith 136088 stored elements in Compressed Sparse Row format>"
      ]
     },
     "execution_count": 81,
     "metadata": {},
     "output_type": "execute_result"
    }
   ],
   "source": [
    "from sklearn.feature_extraction.text import CountVectorizer\n",
    "bow = CountVectorizer(max_features=1000, lowercase=True, ngram_range=(1,1),analyzer = \"word\")\n",
    "data_bow = bow.fit_transform(data['Story'])\n",
    "data_bow"
   ]
  },
  {
   "cell_type": "markdown",
   "metadata": {},
   "source": [
    "## Sentiment Analysis"
   ]
  },
  {
   "cell_type": "markdown",
   "metadata": {},
   "source": [
    "Sentiment is a way of measuring the overall positivity or negativity in a given text.\n",
    "\n",
    "To do this we will use the built in sentiment function in the *TextBlob* package. This function will return the polarity and subjectivity scores for each data chunk."
   ]
  },
  {
   "cell_type": "code",
   "execution_count": 82,
   "metadata": {},
   "outputs": [
    {
     "data": {
      "text/plain": [
       "0      (0.21925970534841502, 0.4762608806963645)\n",
       "1    (-0.023767006802721088, 0.4003401360544218)\n",
       "2      (0.21205513784461166, 0.5229620927318298)\n",
       "3      (0.11392783353010624, 0.5360229732388825)\n",
       "4     (0.06699011680143753, 0.43359389038634333)\n",
       "Name: Story, dtype: object"
      ]
     },
     "execution_count": 82,
     "metadata": {},
     "output_type": "execute_result"
    }
   ],
   "source": [
    "data['Story'][:5].apply(lambda x: TextBlob(x).sentiment)"
   ]
  },
  {
   "cell_type": "markdown",
   "metadata": {},
   "source": [
    "Focusing on the polarity score, we are able to see the overall sentiment of each data chunk. The closer to 1 the more positive and the closer to -1 the more negative."
   ]
  },
  {
   "cell_type": "code",
   "execution_count": 83,
   "metadata": {
    "scrolled": true
   },
   "outputs": [
    {
     "data": {
      "text/html": [
       "<div>\n",
       "<style scoped>\n",
       "    .dataframe tbody tr th:only-of-type {\n",
       "        vertical-align: middle;\n",
       "    }\n",
       "\n",
       "    .dataframe tbody tr th {\n",
       "        vertical-align: top;\n",
       "    }\n",
       "\n",
       "    .dataframe thead th {\n",
       "        text-align: right;\n",
       "    }\n",
       "</style>\n",
       "<table border=\"1\" class=\"dataframe\">\n",
       "  <thead>\n",
       "    <tr style=\"text-align: right;\">\n",
       "      <th></th>\n",
       "      <th>Story</th>\n",
       "      <th>sentiment</th>\n",
       "    </tr>\n",
       "  </thead>\n",
       "  <tbody>\n",
       "    <tr>\n",
       "      <th>0</th>\n",
       "      <td>cat made acquaintance mouse much great love fr...</td>\n",
       "      <td>0.219260</td>\n",
       "    </tr>\n",
       "    <tr>\n",
       "      <th>1</th>\n",
       "      <td>goat seven one fond ever mother child day go w...</td>\n",
       "      <td>-0.023767</td>\n",
       "    </tr>\n",
       "    <tr>\n",
       "      <th>2</th>\n",
       "      <td>upon time ill thought likely deathbed send tru...</td>\n",
       "      <td>0.212055</td>\n",
       "    </tr>\n",
       "    <tr>\n",
       "      <th>3</th>\n",
       "      <td>peasant driven cow fair sold seven thalers way...</td>\n",
       "      <td>0.113928</td>\n",
       "    </tr>\n",
       "    <tr>\n",
       "      <th>4</th>\n",
       "      <td>wonderful musician quite alone forest thought ...</td>\n",
       "      <td>0.066990</td>\n",
       "    </tr>\n",
       "  </tbody>\n",
       "</table>\n",
       "</div>"
      ],
      "text/plain": [
       "                                               Story  sentiment\n",
       "0  cat made acquaintance mouse much great love fr...   0.219260\n",
       "1  goat seven one fond ever mother child day go w...  -0.023767\n",
       "2  upon time ill thought likely deathbed send tru...   0.212055\n",
       "3  peasant driven cow fair sold seven thalers way...   0.113928\n",
       "4  wonderful musician quite alone forest thought ...   0.066990"
      ]
     },
     "execution_count": 83,
     "metadata": {},
     "output_type": "execute_result"
    }
   ],
   "source": [
    "data['sentiment'] = data['Story'].apply(lambda x: TextBlob(x).sentiment[0] )\n",
    "data[['Story','sentiment']].head()"
   ]
  },
  {
   "cell_type": "markdown",
   "metadata": {},
   "source": [
    "Here we have textted the sentiment scores for the first 10 chunks.\n",
    "\n",
    "Notice they tend to be positive but not exceedingly so."
   ]
  },
  {
   "cell_type": "code",
   "execution_count": 84,
   "metadata": {
    "scrolled": true
   },
   "outputs": [
    {
     "data": {
      "image/png": "[encoded data removed]",
      "text/plain": [
       "<Figure size 432x288 with 1 Axes>"
      ]
     },
     "metadata": {
      "needs_background": "light"
     },
     "output_type": "display_data"
    }
   ],
   "source": [
    "plot_1 = data[['sentiment']][:10].plot(kind='bar')"
   ]
  },
  {
   "cell_type": "markdown",
   "metadata": {},
   "source": [
    "Now we have sorted and textted all of the sentiment scores for the chunks in our database.\n",
    "\n",
    "We can clearly see that most of the text data is positive but not overwhelmingly so (as seen by the long tail of the distribution). However, the parts that are negative tend to be more polarized than the positive ones (a shorter tail and sharper peak)."
   ]
  },
  {
   "cell_type": "code",
   "execution_count": 85,
   "metadata": {},
   "outputs": [
    {
     "data": {
      "image/png": "[encoded data removed]",
      "text/plain": [
       "<Figure size 432x288 with 1 Axes>"
      ]
     },
     "metadata": {
      "needs_background": "light"
     },
     "output_type": "display_data"
    }
   ],
   "source": [
    "plot_2 = data[['sentiment']].sort_values(by='sentiment', ascending=False).plot(kind='bar')"
   ]
  },
  {
   "cell_type": "markdown",
   "metadata": {},
   "source": [
    "That concludes this tutorial, thank you for taking the time to go through to the end. If you have questions or feedback open an issue on GitHub or contact us over Slack."
   ]
  },
  {
   "cell_type": "code",
   "execution_count": 22,
   "metadata": {},
   "outputs": [
    {
     "data": {
      "image/png": "[encoded data removed]",
      "text/plain": [
       "<Figure size 432x288 with 1 Axes>"
      ]
     },
     "metadata": {
      "needs_background": "light"
     },
     "output_type": "display_data"
    },
    {
     "data": {
      "text/plain": [
       "'\\n# t-SNE plot\\nembeddings = TSNE(n_components=tsne_num_components)\\nY = embeddings.fit_transform(X)\\nplt.scatter(Y[:, 0], Y[:, 1], cmap=plt.cm.Spectral)\\nplt.show()\\n'"
      ]
     },
     "execution_count": 22,
     "metadata": {},
     "output_type": "execute_result"
    }
   ],
   "source": [
    "import matplotlib.pyplot as plt\n",
    "from sklearn.feature_extraction.text import TfidfVectorizer\n",
    "from sklearn.cluster import KMeans\n",
    "from sklearn.decomposition import PCA\n",
    "from sklearn.manifold import TSNE\n",
    "\n",
    "num_clusters = 10\n",
    "num_seeds = 10\n",
    "max_iterations = 300\n",
    "labels_color_map = {\n",
    "    0: '#20b2aa', 1: '#ff7373', 2: '#ffe4e1', 3: '#005073', 4: '#4d0404',\n",
    "    5: '#ccc0ba', 6: '#4700f9', 7: '#f6f900', 8: '#00f91d', 9: '#da8c49'\n",
    "}\n",
    "pca_num_components = 2\n",
    "tsne_num_components = 2\n",
    "\n",
    "# calculate tf-idf of texts\n",
    "tfidf = TfidfVectorizer(max_features=1000, lowercase=True, analyzer='word',stop_words= 'english',ngram_range=(1,1))\n",
    "tf_idf_matrix = tfidf.fit_transform(data['Story'])\n",
    "\n",
    "# create k-means model with custom config\n",
    "clustering_model = KMeans(\n",
    "    n_clusters=num_clusters,\n",
    "    max_iter=max_iterations,\n",
    "    precompute_distances=\"auto\",\n",
    "    n_jobs=-1\n",
    ")\n",
    "\n",
    "labels = clustering_model.fit_predict(tf_idf_matrix)\n",
    "#print(labels)\n",
    "\n",
    "X = tf_idf_matrix.todense()\n",
    "\n",
    "# ----------------------------------------------------------------------------------------------------------------------\n",
    "\n",
    "reduced_data = PCA(n_components=pca_num_components).fit_transform(X)\n",
    "# print(reduced_data)\n",
    "\n",
    "import matplotlib.patches as mpatches\n",
    "legendlist=[mpatches.Patch(color=labels_color_map[key],label=str(key))for key in labels_color_map.keys()]\n",
    "\n",
    "fig, ax = plt.subplots()\n",
    "for index, instance in enumerate(reduced_data):\n",
    "    #print(instance, index, labels[index])\n",
    "    pca_comp_1, pca_comp_2 = reduced_data[index]\n",
    "    color = labels_color_map[labels[index]]\n",
    "    ax.scatter(pca_comp_1, pca_comp_2, c=color)\n",
    "plt.legend(handles=legendlist)\n",
    "plt.show()\n",
    "\n",
    "\n",
    "'''\n",
    "# t-SNE plot\n",
    "embeddings = TSNE(n_components=tsne_num_components)\n",
    "Y = embeddings.fit_transform(X)\n",
    "plt.scatter(Y[:, 0], Y[:, 1], cmap=plt.cm.Spectral)\n",
    "plt.show()\n",
    "'''"
   ]
  },
  {
   "cell_type": "code",
   "execution_count": 110,
   "metadata": {},
   "outputs": [],
   "source": [
    "tfidf_test = tf1.sort_values(by='tfidf', ascending=False)[:1000]"
   ]
  },
  {
   "cell_type": "code",
   "execution_count": 111,
   "metadata": {},
   "outputs": [],
   "source": [
    "test = [labels,data['Title'],data['Story Type']]"
   ]
  },
  {
   "cell_type": "code",
   "execution_count": 112,
   "metadata": {},
   "outputs": [],
   "source": [
    "title_groups = np.transpose(test)"
   ]
  },
  {
   "cell_type": "code",
   "execution_count": 113,
   "metadata": {},
   "outputs": [
    {
     "name": "stdout",
     "output_type": "stream",
     "text": [
      "#### 0 ###\n",
      "The Animals' Winter Home--No Information Provided\n",
      "#### 0 ###\n",
      "The Frog and Ox--No Information Provided\n",
      "#### 0 ###\n",
      "Two bulls and the frog--No Information Provided\n",
      "#### 0 ###\n",
      "The Frog and the Ox--No Information Provided\n",
      "#### 0 ###\n",
      "The Charcoal-Burner and the Fuller--No Information Provided\n",
      "#### 0 ###\n",
      "The Astronomer--No Information Provided\n",
      "#### 0 ###\n",
      "The Charger and the Miller--No Information Provided\n",
      "#### 0 ###\n",
      "The Two Frogs--No Information Provided\n",
      "#### 0 ###\n",
      "The Ass and the Frogs--No Information Provided\n",
      "#### 0 ###\n",
      "The Two Frogs--No Information Provided\n",
      "#### 0 ###\n",
      "The Prophet--No Information Provided\n",
      "#### 0 ###\n",
      "The Two Bags--No Information Provided\n",
      "#### 0 ###\n",
      "The Gnat and the Bull--No Information Provided\n",
      "#### 0 ###\n",
      "The Hares and the Frogs-- More cowardly than the hare (ATU 70)\n",
      "\t\t\n",
      "#### 0 ###\n",
      "The Rich Man and the Tanner--No Information Provided\n",
      "#### 0 ###\n",
      "The Camel and Jupiter--No Information Provided\n",
      "#### 0 ###\n",
      "The Frogs' Complaint Against the Sun--No Information Provided\n",
      "#### 0 ###\n",
      "The Frog and the Rat-- Rat and Frog Tie Paws Together (ATU 278)\n",
      "#### 0 ###\n",
      "The Frogs Desiring a King--No Information Provided\n",
      "#### 0 ###\n",
      "The Proud Frog--No Information Provided\n",
      "#### 0 ###\n",
      "The Frogs and Sun--No Information Provided\n",
      "#### 0 ###\n",
      "The Two Bags--No Information Provided\n",
      "#### 0 ###\n",
      "Hercules and Plutus--No Information Provided\n",
      "#### 0 ###\n",
      "The Bull and the Calf--No Information Provided\n",
      "#### 0 ###\n",
      "The Frogs and the Fighting Bulls--No Information Provided\n",
      "#### 0 ###\n",
      "The Man Who Ran After Fortune and The Man Who Waited For her In his Bed--No Information Provided\n",
      "#### 0 ###\n",
      "The Bull, the Tup, the Cock, and the Steg-- Outcast Animals Find a New Home (ATU 130)\n",
      "\t\t\n",
      "#### 1 ###\n",
      "Straw, coal, and bean-- The Straw, the Coal, and the Bean (ATU 295)\n",
      "\t\t\n",
      "#### 1 ###\n",
      "The Valiant Little Tailor-- The Valiant Little Tailor (ATU 1640)\n",
      "\t\t\n",
      "#### 1 ###\n",
      "Clever Hans-- What Should I Have Said? (ATU 1696)\n",
      "\t\t\n",
      "#### 1 ###\n",
      "The godfather-- Godfather Death (ATU 332)\n",
      "\t\t\n",
      "#### 1 ###\n",
      "Godfather Death-- Godfather Death (ATU 332)\n",
      "\t\t\n",
      "#### 1 ###\n",
      "The Dog and the Sparrow-- The Dog and the Sparrow (ATU 248)\n",
      "\t\t\n",
      "#### 1 ###\n",
      "Clever Grethel-- Trickster Wives and Maids (ATU 1741)\n",
      "\t\t\n",
      "#### 1 ###\n",
      "The death of the little hen-- The cock and the hen (ATU 2021)\n",
      "\t\t\n",
      "#### 1 ###\n",
      "Gambling Hansel--No Information Provided\n",
      "#### 1 ###\n",
      "The seven Swabians-- Fools frightened (ATU 1321)\n",
      "\t\t\n",
      "#### 1 ###\n",
      "Knoist and his three sons-- Lying tales (ATU 1965)\n",
      "\t\t\n",
      "#### 1 ###\n",
      "The old man made young again-- Christ and the smith (ATU 753)\n",
      "\t\t\n",
      "#### 1 ###\n",
      "The old beggar-woman--No Information Provided\n",
      "#### 1 ###\n",
      "Brides on their trial-- Choosing a Bride by How She Cuts Cheese (ATU 1452)\n",
      "\t\t\n",
      "#### 1 ###\n",
      "The tale of Cockaigne--No Information Provided\n",
      "#### 1 ###\n",
      "A riddling tale-- The Flower Girl (ATU 407)\n",
      "\t\t\n",
      "#### 1 ###\n",
      "The peasant in heaven-- The Peasant in Heaven (ATU 802)\n",
      "\t\t\n",
      "#### 1 ###\n",
      "Sharing joy and sorrow--No Information Provided\n",
      "#### 1 ###\n",
      "The owl-- Burning the Barn to Destroy an Unknown Animal (ATU 1281)\n",
      "\t\t\n",
      "#### 1 ###\n",
      "The moon--No Information Provided\n",
      "#### 1 ###\n",
      "The nail-- The Horseshoe Nail (ATU 2039)\n",
      "\t\t\n",
      "#### 1 ###\n",
      "The hare and the hedgehog--No Information Provided\n",
      "#### 1 ###\n",
      "The crumbs on the table-- Tales in which animals talk (ATU 2075)\n",
      "\t\t\n",
      "#### 1 ###\n",
      "The golden key--No Information Provided\n",
      "#### 1 ###\n",
      "Little Claus and big Claus-- The Rich Peasant and the Poor Peasant (ATU 1535)\n",
      "\t\t\n",
      "#### 1 ###\n",
      "The emperor's new suit-- The Emperor's New Clothes (ATU 1620)\n",
      "\t\t\n",
      "#### 1 ###\n",
      "The brave tin soldier--No Information Provided\n",
      "#### 1 ###\n",
      "The jumper--No Information Provided\n",
      "#### 1 ###\n",
      "The old street lamp--No Information Provided\n",
      "#### 1 ###\n",
      "The shadow--No Information Provided\n",
      "#### 1 ###\n",
      "The drop of water--No Information Provided\n",
      "#### 1 ###\n",
      "The shirt-collar--No Information Provided\n",
      "#### 1 ###\n",
      "The swan's nest--No Information Provided\n",
      "#### 1 ###\n",
      "There is no doubt about it--No Information Provided\n",
      "#### 1 ###\n",
      "Two maidens--No Information Provided\n",
      "#### 1 ###\n",
      "The bottle neck--No Information Provided\n",
      "#### 1 ###\n",
      "The races--No Information Provided\n",
      "#### 1 ###\n",
      "The farm-yard cock and the weather-cock--No Information Provided\n",
      "#### 1 ###\n",
      "In the duck yard--No Information Provided\n",
      "#### 1 ###\n",
      "The days of the week--No Information Provided\n",
      "#### 1 ###\n",
      "The rags--No Information Provided\n",
      "#### 1 ###\n",
      "The candles--No Information Provided\n",
      "#### 1 ###\n",
      "Dance, dance, doll of mine!--No Information Provided\n",
      "#### 1 ###\n",
      "The great sea serpent--No Information Provided\n",
      "#### 1 ###\n",
      "The gate key--No Information Provided\n",
      "#### 1 ###\n",
      "The Tallow Candle--No Information Provided\n",
      "#### 1 ###\n",
      "The Tale of Ruff Ruffson, Son of Bristle--No Information Provided\n",
      "#### 1 ###\n",
      "Right and Wrong--No Information Provided\n",
      "#### 1 ###\n",
      "Emelya and the Pike--No Information Provided\n",
      "#### 1 ###\n",
      "The Horse, the Table-Cloth and the Horn--No Information Provided\n",
      "#### 1 ###\n",
      "Elena the Wise--No Information Provided\n",
      "#### 1 ###\n",
      "The Mountain of Gold--No Information Provided\n",
      "#### 1 ###\n",
      "Good But Bad--No Information Provided\n",
      "#### 1 ###\n",
      "Boots Who Ate a Match With the Troll-- Bargain not to become angry (ATU 1000)\n",
      "\t\t\n",
      "#### 1 ###\n",
      "The Cat on the Dovrefell-- The Bear Trainer and His Cat (ATU 1161)\n",
      "\t\t\n",
      "#### 1 ###\n",
      "The Cock and Hen-- Tales in which animals talk (ATU 2075)\n",
      "\t\t\n",
      "#### 1 ###\n",
      "The Master-Smith-- The Smith Outwits the Devil (ATU 330)\n",
      "\t\t\n",
      "#### 1 ###\n",
      "One's Own Children Are Always Prettiest-- Every Mother Thinks Her Child Is the Most Beautiful (ATU 247)\n",
      "\t\t\n",
      "#### 1 ###\n",
      "The Cock, the Cuckoo, and the Blackcock-- The First to See the Sunrise (ATU 120)\n",
      "\t\t\n",
      "#### 1 ###\n",
      "Gertrude's Bird-- The peasant woman is changed into a woodpecker (ATU 751A)\n",
      "\t\t\n",
      "#### 1 ###\n",
      "The Lad Who Went to the North Wind-- Three Magic Gifts (ATU 563)\n",
      "\t\t\n",
      "#### 1 ###\n",
      "The Three Billy-Goats Gruff-- Eat me when I'm fatter (ATU 122E)\n",
      "\t\t\n",
      "#### 1 ###\n",
      "Lord Peter -- The Cat as Helper (ATU 545B)\n",
      "\t\t\n",
      "#### 1 ###\n",
      "Big Peter and Little Peter -- The Rich Peasant and the Poor Peasant (ATU 1535)\n",
      "\t\t\n",
      "#### 1 ###\n",
      "The Lad and the Deil-- The ogre wants to look through the gun barrel in the smithy (ATU 1158)\n",
      "\t\t\n",
      "#### 1 ###\n",
      "The Cock and Hen a-Nutting-- The cock and the hen (ATU 2021)\n",
      "\t\t\n",
      "#### 1 ###\n",
      "The Trolls In Hedale Wood-- The Twin Brothers, (ATU 303)\n",
      "\t\t\n",
      "#### 1 ###\n",
      "Goody Gainst-the-stream-- The obstinate wife (ATU 1365)\n",
      "\t\t\n",
      "#### 1 ###\n",
      "The Box With Something Pretty In It-- Unfinished tales (ATU 2250)\n",
      "\t\t\n",
      "#### 1 ###\n",
      "The Priest And The Clerk-- The king and the abbot (ATU 922)\n",
      "\t\t\n",
      "#### 1 ###\n",
      "The Way Of The World-- Ingratitude Is the World's Reward (ATU 155)\n",
      "\t\t\n",
      "#### 1 ###\n",
      "Goodman Axehaft--No Information Provided\n",
      "#### 1 ###\n",
      "Reynard And Chanticleer-- The Fox Persuades the Cock to Crow with Closed Eyes (ATU 61)\n",
      "\t\t\n",
      "#### 1 ###\n",
      "The Hare And The Heiress-- An Animal Mourns the Death of a Spouse (ATU 2022)\n",
      "\t\t\n",
      "#### 1 ###\n",
      "The Skipper And Old Nick-- The ogre on the ship (ATU 1179)\n",
      "\t\t\n",
      "#### 1 ###\n",
      "Choosing a Bride-- Choosing a Bride by How She Cuts Cheese (ATU 1452)\n",
      "\t\t\n",
      "#### 1 ###\n",
      "Golden Fish--No Information Provided\n",
      "#### 1 ###\n",
      "Godmother Death and the Doctor Who Worked Miracles--No Information Provided\n",
      "#### 1 ###\n",
      "Tale of the fisherman and the little fish-- The Fisherman and his Wife, (ATU 555)\n",
      "\t\t\n",
      "#### 1 ###\n",
      "Anansi in hunger-- Rumpelstiltskin (ATU 500)\n",
      "\t\t\n",
      "#### 1 ###\n",
      "The Two Mules--No Information Provided\n",
      "#### 1 ###\n",
      "The Tortoise and the Eagle-- Tortoise Lets self be Carried by Eagle (ATU 225A)\n",
      "\t\t\n",
      "#### 1 ###\n",
      "The Boy Bathing--No Information Provided\n",
      "#### 1 ###\n",
      "The Ass and the Grasshopper -- Ass Tries to Get a Cricket's Voice (ATU 292)\n",
      "\t\t\n",
      "#### 1 ###\n",
      "The Boy Hunting Locusts--No Information Provided\n",
      "#### 1 ###\n",
      "The Fisherman Piping--No Information Provided\n",
      "#### 1 ###\n",
      "The Ants and the Grasshopper-- The Ants and the Grasshopper (ATU 280A)\n",
      "\t\t\n",
      "#### 1 ###\n",
      "The Dog and the Shadow-- Dog Drops his Meat for the Reflection (ATU 34A)\n",
      "\t\t\n",
      "#### 1 ###\n",
      "The Mole and His Mother--No Information Provided\n",
      "#### 1 ###\n",
      "The Herdsman and the Lost Bull--No Information Provided\n",
      "#### 1 ###\n",
      "The Pomegranate, Apple-Tree, and Bramble--No Information Provided\n",
      "#### 1 ###\n",
      "The Farmer and the Stork-- Birds Escape by Shamming Death (ATU 233A)\n",
      "\t\t\n",
      "#### 1 ###\n",
      "The Fawn and His Mother--No Information Provided\n",
      "#### 1 ###\n",
      "The Swallow and the Crow--No Information Provided\n",
      "#### 1 ###\n",
      "The Flies and the Honey-Pot--No Information Provided\n",
      "#### 1 ###\n",
      "The Bear and the Two Travelers--No Information Provided\n",
      "#### 1 ###\n",
      "The Oxen and the Axle-Trees--No Information Provided\n",
      "#### 1 ###\n",
      "The Thirsty Pigeon--No Information Provided\n",
      "#### 1 ###\n",
      "The Miser-- Miser's Treasure Stolen (ATU 1305B)\n",
      "\t\t\n",
      "#### 1 ###\n",
      "The Horse and Groom-- The groom teaches his horse to live without food (ATU 1682)\n",
      "\t\t\n",
      "#### 1 ###\n",
      "The Ass and the Lapdog-- Ass Tries to caress his Master like a Dog (ATU 214)\n",
      "\t\t\n",
      "#### 1 ###\n",
      "The Piglet, the Sheep, and the Goat--No Information Provided\n",
      "#### 1 ###\n",
      "The Ass and the Mule-- Hard-hearted Horse and Ass (ATU 207B)\n",
      "\t\t\n",
      "#### 1 ###\n",
      "The Salt Merchant and His Ass-- The hog who was so tired of his daily food (ATU 211)\n",
      "\t\t\n",
      "#### 1 ###\n",
      "The Vain Jackdaw--No Information Provided\n",
      "#### 1 ###\n",
      "The Mischievous Dog--No Information Provided\n",
      "#### 1 ###\n",
      "The Man and His Two Sweethearts--No Information Provided\n",
      "#### 1 ###\n",
      "The Horse and His Rider--No Information Provided\n",
      "#### 1 ###\n",
      "The Belly and the Members-- Debate of the Belly and the Members (ATU 293)\n",
      "\t\t\n",
      "#### 1 ###\n",
      "The Vine and the Goat--No Information Provided\n",
      "#### 1 ###\n",
      "The Widow and Her Little Maidens--No Information Provided\n",
      "#### 1 ###\n",
      "The Father and His Two Daughters-- In trial sermon the parson promises the laymen the kind of weather they want (ATU 1830)\n",
      "\t\t\n",
      "#### 1 ###\n",
      "The Farmer and His Sons--No Information Provided\n",
      "#### 1 ###\n",
      "The Crab and Its Mother--No Information Provided\n",
      "#### 1 ###\n",
      "The Heifer and the Ox--No Information Provided\n",
      "#### 1 ###\n",
      "The Swallow, the Serpent, and the Court of Justice--No Information Provided\n",
      "#### 1 ###\n",
      "The Thief and His Mother-- The Bad Rearing (ATU 838)\n",
      "\t\t\n",
      "#### 1 ###\n",
      "The Old Man and Death--No Information Provided\n",
      "#### 1 ###\n",
      "The Fir-Tree and the Bramble--No Information Provided\n",
      "#### 1 ###\n",
      "The Man Bitten by a Dog--No Information Provided\n",
      "#### 1 ###\n",
      "The Two Pots--No Information Provided\n",
      "#### 1 ###\n",
      "The Aethiop--No Information Provided\n",
      "#### 1 ###\n",
      "The Fisherman and His Nets-- The Fish in the Net (ATU 253)\n",
      "\t\t\n",
      "#### 1 ###\n",
      "The Two Dogs--No Information Provided\n",
      "#### 1 ###\n",
      "The Widow and the Sheep--No Information Provided\n",
      "#### 1 ###\n",
      "The Eagle and the Arrow--No Information Provided\n",
      "#### 1 ###\n",
      "The Sick Kite--No Information Provided\n",
      "#### 1 ###\n",
      "The One-Eyed Doe--No Information Provided\n",
      "#### 1 ###\n",
      "The Shepherd and the Sea--No Information Provided\n",
      "#### 1 ###\n",
      "The Master and His Dogs--No Information Provided\n",
      "#### 1 ###\n",
      "The Ass Carrying the Image--No Information Provided\n",
      "#### 1 ###\n",
      "The Two Travelers and the Axe--No Information Provided\n",
      "#### 1 ###\n",
      "The Bee and Jupiter--No Information Provided\n",
      "#### 1 ###\n",
      "The Seaside Travelers--No Information Provided\n",
      "#### 1 ###\n",
      "The Brazier and His Dog--No Information Provided\n",
      "#### 1 ###\n",
      "The Ass and His Masters--No Information Provided\n",
      "#### 1 ###\n",
      "The Oak and the Reeds--No Information Provided\n",
      "#### 1 ###\n",
      "The Fisherman and the Little Fish--No Information Provided\n",
      "#### 1 ###\n",
      "Mercury and the Sculptor--No Information Provided\n",
      "#### 1 ###\n",
      "The Monkey and the Fishermen-- Claw in Split Tree (ATU 38)\n",
      "\t\t\n",
      "#### 1 ###\n",
      "The Flea and the Wrestler--No Information Provided\n",
      "#### 1 ###\n",
      "The Seagull and the Kite--No Information Provided\n",
      "#### 1 ###\n",
      "The Peasant and the Eagle--No Information Provided\n",
      "#### 1 ###\n",
      "The Image of Mercury and the Carpenter-- The Broken Image (ATU 1643)\n",
      "\t\t\n",
      "#### 1 ###\n",
      "The Monkeys and Their Mother--No Information Provided\n",
      "#### 1 ###\n",
      "The Oaks and Jupiter--No Information Provided\n",
      "#### 1 ###\n",
      "The Traveler and Fortune--No Information Provided\n",
      "#### 1 ###\n",
      "The Bald Knight--No Information Provided\n",
      "#### 1 ###\n",
      "The Lamp--No Information Provided\n",
      "#### 1 ###\n",
      "The Hen and the Golden Eggs--No Information Provided\n",
      "#### 1 ###\n",
      "The Crow and the Raven--No Information Provided\n",
      "#### 1 ###\n",
      "The Woman and Her Hen--No Information Provided\n",
      "#### 1 ###\n",
      "The Kites and the Swans--No Information Provided\n",
      "#### 1 ###\n",
      "The Camel--No Information Provided\n",
      "#### 1 ###\n",
      "The Wasp and the Snake--No Information Provided\n",
      "#### 1 ###\n",
      "The Dog and the Hare--No Information Provided\n",
      "#### 1 ###\n",
      "The Peacock and the Crane--No Information Provided\n",
      "#### 1 ###\n",
      "The Mule--No Information Provided\n",
      "#### 1 ###\n",
      "The Hart and the Vine--No Information Provided\n",
      "#### 1 ###\n",
      "The Walnut-Tree--No Information Provided\n",
      "#### 1 ###\n",
      "The Monkey and the Dolphin--No Information Provided\n",
      "#### 1 ###\n",
      "The Jackdaw and the Doves--No Information Provided\n",
      "#### 1 ###\n",
      "The Horse and the Stag--No Information Provided\n",
      "#### 1 ###\n",
      "The Goat and the Ass--No Information Provided\n",
      "#### 1 ###\n",
      "The Fishermen--No Information Provided\n",
      "#### 1 ###\n",
      "The Fowler and the Viper--No Information Provided\n",
      "#### 1 ###\n",
      "The Geese and the Cranes--No Information Provided\n",
      "#### 1 ###\n",
      "The Wasps, the Partridges, and the Farmer--No Information Provided\n",
      "#### 1 ###\n",
      "The North Wind and the Sun-- Wind and sun (ATU 298)\n",
      "\t\t\n",
      "#### 1 ###\n",
      "The Two Men Who Were Enemies--No Information Provided\n",
      "#### 1 ###\n",
      "The Gamecocks and the Partridge--No Information Provided\n",
      "#### 1 ###\n",
      "The Spendthrift and the Swallow--No Information Provided\n",
      "#### 1 ###\n",
      "The Trumpeter Taken Prisoner--No Information Provided\n",
      "#### 1 ###\n",
      "The Flea and the Ox--No Information Provided\n",
      "#### 1 ###\n",
      "The Dove and the Crow--No Information Provided\n",
      "#### 1 ###\n",
      "Mercury and the Workmen-- The Axe Falls into the Stream (ATU 729)\n",
      "\t\t\n",
      "#### 1 ###\n",
      "The Man and the Satyr-- Hot and Cold with the Same Breath (ATU 1342)\n",
      "\t\t\n",
      "#### 1 ###\n",
      "The Ass and His Purchaser--No Information Provided\n",
      "#### 1 ###\n",
      "The Dogs and the Hides--No Information Provided\n",
      "#### 1 ###\n",
      "The Shepherd and the Sheep--No Information Provided\n",
      "#### 1 ###\n",
      "The Monkey and the Camel--No Information Provided\n",
      "#### 1 ###\n",
      "The Peasant and the Apple-Tree--No Information Provided\n",
      "#### 1 ###\n",
      "The Hen and the Swallow--No Information Provided\n",
      "#### 1 ###\n",
      "The Crow and the Serpent--No Information Provided\n",
      "#### 1 ###\n",
      "The Dog and the Oyster--No Information Provided\n",
      "#### 1 ###\n",
      "The Ant and the Dove--No Information Provided\n",
      "#### 1 ###\n",
      "The Partridge and the Fowler--No Information Provided\n",
      "#### 1 ###\n",
      "The Flea and the Man--No Information Provided\n",
      "#### 1 ###\n",
      "The Thieves and the Cock--No Information Provided\n",
      "#### 1 ###\n",
      "The Dog and the Cook--No Information Provided\n",
      "#### 1 ###\n",
      "The Travelers and the Plane-Tree--No Information Provided\n",
      "#### 1 ###\n",
      "The Shipwrecked Man and the Sea--No Information Provided\n",
      "#### 1 ###\n",
      "The Ass and the Charger--No Information Provided\n",
      "#### 1 ###\n",
      "The Ass and His Driver--No Information Provided\n",
      "#### 1 ###\n",
      "The Thrush and the Fowler--No Information Provided\n",
      "#### 1 ###\n",
      "The Rose and the Amaranth--No Information Provided\n",
      "#### 1 ###\n",
      "The Steward of Skalholt.--No Information Provided\n",
      "#### 1 ###\n",
      "The Mirror of Truth--No Information Provided\n",
      "#### 1 ###\n",
      "The Two Travellers--No Information Provided\n",
      "#### 1 ###\n",
      "The Carp and her Young--No Information Provided\n",
      "#### 1 ###\n",
      "The Two Gardeners--No Information Provided\n",
      "#### 1 ###\n",
      "The Stag at the Fountain--No Information Provided\n",
      "#### 1 ###\n",
      "The Cobbler Turned Doctor--No Information Provided\n",
      "#### 1 ###\n",
      "The Sapient Ass--No Information Provided\n",
      "#### 1 ###\n",
      "The Bitch and Her Puppies--No Information Provided\n",
      "#### 1 ###\n",
      "The Hungry Dogs--No Information Provided\n",
      "#### 1 ###\n",
      "The Faithful House-dog--No Information Provided\n",
      "#### 1 ###\n",
      "The Dog and the Crocodile--No Information Provided\n",
      "#### 1 ###\n",
      "The Dog, Treasure, and Vulture--No Information Provided\n",
      "#### 1 ###\n",
      "The Kite and the Doves--No Information Provided\n",
      "#### 1 ###\n",
      "The Dog in the River-- Dog Drops his Meat for the Reflection (ATU 34A)\n",
      "#### 1 ###\n",
      "The Bald-pate Dupe--No Information Provided\n",
      "#### 1 ###\n",
      "The Man and the Dog--No Information Provided\n",
      "#### 1 ###\n",
      "The Old Woman and Empty Cask--No Information Provided\n",
      "#### 1 ###\n",
      "Of Doubt and Credulity--No Information Provided\n",
      "#### 1 ###\n",
      "The Bees and the Drone--No Information Provided\n",
      "#### 1 ###\n",
      "The Dog and the Lamb--No Information Provided\n",
      "#### 1 ###\n",
      "The Owl and the Grasshopper--No Information Provided\n",
      "#### 1 ###\n",
      "The Trees Protected--No Information Provided\n",
      "#### 1 ###\n",
      "Juno and the Peacock--No Information Provided\n",
      "#### 1 ###\n",
      "Esop and the Importunate Fellow--No Information Provided\n",
      "#### 1 ###\n",
      "The Panther and Shepherds--No Information Provided\n",
      "#### 1 ###\n",
      "The Ape's Head--No Information Provided\n",
      "#### 1 ###\n",
      "Esop and the Insolent Fellow--No Information Provided\n",
      "#### 1 ###\n",
      "The Fly and the Mule--No Information Provided\n",
      "#### 1 ###\n",
      "The Ass and Priests of Cybele--No Information Provided\n",
      "#### 1 ###\n",
      "The Sacrilegious Thief--No Information Provided\n",
      "#### 1 ###\n",
      "The He-goats and She-goats--No Information Provided\n",
      "#### 1 ###\n",
      "The Man and the Adder--No Information Provided\n",
      "#### 1 ###\n",
      "The Shipwreck of Simonides--No Information Provided\n",
      "#### 1 ###\n",
      "The Escape of Simonides--No Information Provided\n",
      "#### 1 ###\n",
      "The Horse and Boar--No Information Provided\n",
      "#### 1 ###\n",
      "The Viper and the File--No Information Provided\n",
      "#### 1 ###\n",
      "Demetrius and Menander--No Information Provided\n",
      "#### 1 ###\n",
      "The Old Dog and the Huntsman--No Information Provided\n",
      "#### 1 ###\n",
      "The Man and the Ass--No Information Provided\n",
      "#### 1 ###\n",
      "The Two Bald Men--No Information Provided\n",
      "#### 1 ###\n",
      "Opportunity--No Information Provided\n",
      "#### 1 ###\n",
      "The Stag and the Oxen--No Information Provided\n",
      "#### 1 ###\n",
      "The Man and the Dog--No Information Provided\n",
      "#### 1 ###\n",
      "A Saying of Socrates--No Information Provided\n",
      "#### 1 ###\n",
      "The Swan, The Pike and the Crayfish --No Information Provided\n",
      "#### 1 ###\n",
      "The Ant--No Information Provided\n",
      "#### 1 ###\n",
      "Elephant And Pug--No Information Provided\n",
      "#### 1 ###\n",
      "The ant and the Grasshopper-- The Ants and the Grasshopper (ATU 280A)\n",
      "#### 1 ###\n",
      "A Hog under an Oak--No Information Provided\n",
      "#### 1 ###\n",
      "Dragonfly and the Ant-- The Ants and the Grasshopper (ATU 280A)\n",
      "#### 1 ###\n",
      "The Grasshopper and the Ant-- The Ants and the Grasshopper (ATU 280A)\n",
      "#### 1 ###\n",
      "The Rat and the Elephant--No Information Provided\n",
      "#### 1 ###\n",
      "The Hare and the Partridge--No Information Provided\n",
      "#### 1 ###\n",
      "The Man and his Image--No Information Provided\n",
      "#### 1 ###\n",
      "The Unhappily Married Man--No Information Provided\n",
      "#### 1 ###\n",
      "The Rat Retired From the World--No Information Provided\n",
      "#### 1 ###\n",
      "The Maiden--No Information Provided\n",
      "#### 1 ###\n",
      "The Wishes--No Information Provided\n",
      "#### 1 ###\n",
      "The Dairy-woman and the Pail of Milk--No Information Provided\n",
      "#### 1 ###\n",
      "The Priest and the Corpse--No Information Provided\n",
      "#### 1 ###\n",
      "The Cobbler and the Financier--No Information Provided\n",
      "#### 1 ###\n",
      "The Power of Fable--No Information Provided\n",
      "#### 1 ###\n",
      "The Dog Who Carried his Master's Dinner--No Information Provided\n",
      "#### 1 ###\n",
      "Thyrsis and Amaranth--No Information Provided\n",
      "#### 1 ###\n",
      "Education--No Information Provided\n",
      "#### 1 ###\n",
      "Democritus and the People of Abdera--No Information Provided\n",
      "#### 1 ###\n",
      "The Acorn and the Pumpkin--No Information Provided\n",
      "#### 1 ###\n",
      "The Schoolboy, the Pedant, and the Owner of a Garden--No Information Provided\n",
      "#### 1 ###\n",
      "The Sculptor and the Statue of Jupiter--No Information Provided\n",
      "#### 1 ###\n",
      "The Oyster and the Pleaders--No Information Provided\n",
      "#### 1 ###\n",
      "The Monkey and the Cat--No Information Provided\n",
      "#### 1 ###\n",
      "The Two Rats, the Fox, and the Egg--No Information Provided\n",
      "#### 1 ###\n",
      "The Dog With his Ears Cropped--No Information Provided\n",
      "#### 1 ###\n",
      "The Rabbits--No Information Provided\n",
      "#### 1 ###\n",
      "The Gods Wishing To Instruct a Son of Jupiter--No Information Provided\n",
      "#### 1 ###\n",
      "The Lion, the Monkey, and the Two Asses--No Information Provided\n",
      "#### 1 ###\n",
      "Love and Folly--No Information Provided\n",
      "#### 1 ###\n",
      "The Forest and the Woodcutter--No Information Provided\n",
      "#### 1 ###\n",
      "The Ape--No Information Provided\n",
      "#### 1 ###\n",
      "The Scythian Philosopher--No Information Provided\n",
      "#### 1 ###\n",
      "The Elephant and Jupiter's Ape--No Information Provided\n",
      "#### 1 ###\n",
      "The Arbiter, the Hospitaller, and the Hermit--No Information Provided\n",
      "#### 1 ###\n",
      "The Goose that Laid the Golden Egg--No Information Provided\n",
      "#### 1 ###\n",
      "The Man and the Adder--No Information Provided\n",
      "#### 1 ###\n",
      "The Dog and the Cheese-- Dog Drops his Meat for the Reflection (ATU 34A)\n",
      "#### 1 ###\n",
      "The Rooster and the Gem--No Information Provided\n",
      "#### 1 ###\n",
      "The Eagle and the Jackdaw--No Information Provided\n",
      "#### 1 ###\n",
      "The Fly and the Bee--No Information Provided\n",
      "#### 1 ###\n",
      "The Spider and the Turtle-- The Fox and the Crane Invites Each Other (ATU 60)\n",
      "\t\t\n",
      "#### 1 ###\n",
      "The Crow and the Peacock--No Information Provided\n",
      "#### 1 ###\n",
      "The Man and the Viper--No Information Provided\n",
      "#### 1 ###\n",
      "The Hawk and the Nightingale--No Information Provided\n",
      "#### 1 ###\n",
      "The old man, the boy and the donkey--No Information Provided\n",
      "#### 1 ###\n",
      "The Turtoise and the Geese--No Information Provided\n",
      "#### 1 ###\n",
      "The Appointment in Samarra--No Information Provided\n",
      "#### 1 ###\n",
      "When Death Came to Baghdad--No Information Provided\n",
      "#### 1 ###\n",
      "The Linguist and the Dervish--No Information Provided\n",
      "#### 1 ###\n",
      "The Nyamatsanes--No Information Provided\n",
      "#### 1 ###\n",
      "The Altercation between Spring and Summer --No Information Provided\n",
      "#### 1 ###\n",
      "The Friendship of the Thorn and the Mud-Fish --No Information Provided\n",
      "#### 1 ###\n",
      "The Black Monkey and the Turtoise-- The Fox and the Crane Invites Each Other (ATU 60)\n",
      "\t\t\n",
      "#### 1 ###\n",
      "Copa Nanzi and the Cow--No Information Provided\n",
      "#### 1 ###\n",
      "The Robbers and the Farm Animals-- Outcast Animals Find a New Home (ATU 130)\n",
      "\t\t\n",
      "#### 1 ###\n",
      "The Town Rat and the Country Rat-- Town Mouse and Country Mouse (ATU 112)\n",
      "#### 1 ###\n",
      "How Hare Scared Elephant --No Information Provided\n",
      "#### 1 ###\n",
      "The Ass and the Flute--No Information Provided\n",
      "#### 1 ###\n",
      "The Two Flies and the Bee--No Information Provided\n",
      "#### 2 ###\n",
      "Jorinda and Joringel-- Jorinde and Joringel (ATU 405)\n",
      "\t\t\n",
      "#### 2 ###\n",
      "Little Ida's flowers--No Information Provided\n",
      "#### 2 ###\n",
      "Thumbelina--No Information Provided\n",
      "#### 2 ###\n",
      "The Saucy Boy--No Information Provided\n",
      "#### 2 ###\n",
      "The little mermaid--No Information Provided\n",
      "#### 2 ###\n",
      "The goloshes of fortune--No Information Provided\n",
      "#### 2 ###\n",
      "The daisy--No Information Provided\n",
      "#### 2 ###\n",
      "The wild swans--No Information Provided\n",
      "#### 2 ###\n",
      "The elf of the rose--No Information Provided\n",
      "#### 2 ###\n",
      "The garden of paradise--No Information Provided\n",
      "#### 2 ###\n",
      "The flying trunk--No Information Provided\n",
      "#### 2 ###\n",
      "The storks--No Information Provided\n",
      "#### 2 ###\n",
      "Ole-Luk-Oie, the Dream-God--No Information Provided\n",
      "#### 2 ###\n",
      "The buckwheat--No Information Provided\n",
      "#### 2 ###\n",
      "The angel--No Information Provided\n",
      "#### 2 ###\n",
      "The Nightingale--No Information Provided\n",
      "#### 2 ###\n",
      "Top and Ball--No Information Provided\n",
      "#### 2 ###\n",
      "The ugly duckling--No Information Provided\n",
      "#### 2 ###\n",
      "The fir tree--No Information Provided\n",
      "#### 2 ###\n",
      "The snow queen--No Information Provided\n",
      "#### 2 ###\n",
      "The elderbush--No Information Provided\n",
      "#### 2 ###\n",
      "The red shoes--No Information Provided\n",
      "#### 2 ###\n",
      "The shepherdess and the sweep--No Information Provided\n",
      "#### 2 ###\n",
      "Holger Danske--No Information Provided\n",
      "#### 2 ###\n",
      "The bell--No Information Provided\n",
      "#### 2 ###\n",
      "Grandmother--No Information Provided\n",
      "#### 2 ###\n",
      "The darning-needle--No Information Provided\n",
      "#### 2 ###\n",
      "The little match-seller--No Information Provided\n",
      "#### 2 ###\n",
      "By the almshouse window--No Information Provided\n",
      "#### 2 ###\n",
      "A picture from the ramparts--No Information Provided\n",
      "#### 2 ###\n",
      "The neighbouring families--No Information Provided\n",
      "#### 2 ###\n",
      "Little Tuk--No Information Provided\n",
      "#### 2 ###\n",
      "The old house--No Information Provided\n",
      "#### 2 ###\n",
      "The happy family--No Information Provided\n",
      "#### 2 ###\n",
      "The story of a mother--No Information Provided\n",
      "#### 2 ###\n",
      "The flax--No Information Provided\n",
      "#### 2 ###\n",
      "There is a difference--No Information Provided\n",
      "#### 2 ###\n",
      "The loveliest rose in the world--No Information Provided\n",
      "#### 2 ###\n",
      "In a thousand years--No Information Provided\n",
      "#### 2 ###\n",
      "The old grave-stone--No Information Provided\n",
      "#### 2 ###\n",
      "The story of the year--No Information Provided\n",
      "#### 2 ###\n",
      "On judgment day--No Information Provided\n",
      "#### 2 ###\n",
      "A cheerful temper--No Information Provided\n",
      "#### 2 ###\n",
      "Heartache--No Information Provided\n",
      "#### 2 ###\n",
      "Everything in its proper place--No Information Provided\n",
      "#### 2 ###\n",
      "The goblin and the huckster--No Information Provided\n",
      "#### 2 ###\n",
      "Under the willow tree--No Information Provided\n",
      "#### 2 ###\n",
      "Five peas from a pod--No Information Provided\n",
      "#### 2 ###\n",
      "She was good for nothing--No Information Provided\n",
      "#### 2 ###\n",
      "The last pearl--No Information Provided\n",
      "#### 2 ###\n",
      "At the uttermost parts of the sea--No Information Provided\n",
      "#### 2 ###\n",
      "The moneybox--No Information Provided\n",
      "#### 2 ###\n",
      "A leaf from heaven--No Information Provided\n",
      "#### 2 ###\n",
      "Ib and little Christina--No Information Provided\n",
      "#### 2 ###\n",
      "The thorny road of honor--No Information Provided\n",
      "#### 2 ###\n",
      "The Jewish girl--No Information Provided\n",
      "#### 2 ###\n",
      "A string of pearls--No Information Provided\n",
      "#### 2 ###\n",
      "The bell deep--No Information Provided\n",
      "#### 2 ###\n",
      "The old bachelor's nightcap--No Information Provided\n",
      "#### 2 ###\n",
      "Something--No Information Provided\n",
      "#### 2 ###\n",
      "The last dream of the old oak--No Information Provided\n",
      "#### 2 ###\n",
      "The A-B-C book--No Information Provided\n",
      "#### 2 ###\n",
      "The marsh king's daughter--No Information Provided\n",
      "#### 2 ###\n",
      "The stone of the wise man--No Information Provided\n",
      "#### 2 ###\n",
      "The wind tells about Valdemar Daae and his daughters--No Information Provided\n",
      "#### 2 ###\n",
      "The girl who trod on the loaf--No Information Provided\n",
      "#### 2 ###\n",
      "Ole the tower-keeper--No Information Provided\n",
      "#### 2 ###\n",
      "Two brothers--No Information Provided\n",
      "#### 2 ###\n",
      "The butterfly--No Information Provided\n",
      "#### 2 ###\n",
      "Twelve by the mail--No Information Provided\n",
      "#### 2 ###\n",
      "The beetle--No Information Provided\n",
      "#### 2 ###\n",
      "The snowman--No Information Provided\n",
      "#### 2 ###\n",
      "The snail and the rosebush--No Information Provided\n",
      "#### 2 ###\n",
      "The old church bell--No Information Provided\n",
      "#### 2 ###\n",
      "The silver shilling--No Information Provided\n",
      "#### 2 ###\n",
      "The metal pig--No Information Provided\n",
      "#### 2 ###\n",
      "The bond of friendship--No Information Provided\n",
      "#### 2 ###\n",
      "A rose from Homer's grave--No Information Provided\n",
      "#### 2 ###\n",
      "A story--No Information Provided\n",
      "#### 2 ###\n",
      "The Dumb Book--No Information Provided\n",
      "#### 2 ###\n",
      "The snowdrop--No Information Provided\n",
      "#### 2 ###\n",
      "The teapot--No Information Provided\n",
      "#### 2 ###\n",
      "The bird of folklore--No Information Provided\n",
      "#### 2 ###\n",
      "The windmill--No Information Provided\n",
      "#### 2 ###\n",
      "Kept secret but not forgotten--No Information Provided\n",
      "#### 2 ###\n",
      "Aunty--No Information Provided\n",
      "#### 2 ###\n",
      "The toad--No Information Provided\n",
      "#### 2 ###\n",
      "Vänö and Glänö--No Information Provided\n",
      "#### 2 ###\n",
      "The little green ones--No Information Provided\n",
      "#### 2 ###\n",
      "The goblin and the woman--No Information Provided\n",
      "#### 2 ###\n",
      "Peiter, Peter, and Peer--No Information Provided\n",
      "#### 2 ###\n",
      "Which was the happiest?--No Information Provided\n",
      "#### 2 ###\n",
      "The puppet-show man--No Information Provided\n",
      "#### 2 ###\n",
      "The comet--No Information Provided\n",
      "#### 2 ###\n",
      "Sunshine stories--No Information Provided\n",
      "#### 2 ###\n",
      "Chicken Grethe's family--No Information Provided\n",
      "#### 2 ###\n",
      "What happened to the thistle--No Information Provided\n",
      "#### 2 ###\n",
      "What one can invent--No Information Provided\n",
      "#### 2 ###\n",
      "Luck may lie in a pin--No Information Provided\n",
      "#### 2 ###\n",
      "What the whole family said--No Information Provided\n",
      "#### 2 ###\n",
      "Great-Grandfather--No Information Provided\n",
      "#### 2 ###\n",
      "The most incredible thing--No Information Provided\n",
      "#### 2 ###\n",
      "The gardener and the noble family--No Information Provided\n",
      "#### 2 ###\n",
      "What old Johanne told--No Information Provided\n",
      "#### 2 ###\n",
      "The cripple--No Information Provided\n",
      "#### 2 ###\n",
      "Aunty Toothache--No Information Provided\n",
      "#### 2 ###\n",
      "The Bird of Truth-- The Bird of Truth (ATU 707)\n",
      "\t\t\n",
      "#### 3 ###\n",
      "Trusty John-- The Petrified Friend (ATU 516)\n",
      "\t\t\n",
      "#### 3 ###\n",
      "The white snake-- The White Snake (ATU 673)\n",
      "\t\t\n",
      "#### 3 ###\n",
      "Cinderella--No Information Provided\n",
      "#### 3 ###\n",
      "Sleeping Beauty (Little Briar Rose)-- The Sleeping Beauty (ATU 410)\n",
      "\t\t\n",
      "#### 3 ###\n",
      "The queen bee-- The Grateful Animals (ATU 554)\n",
      "\t\t\n",
      "#### 3 ###\n",
      "The goose girl-- Repressed Bride (ATU 533)\n",
      "\t\t\n",
      "#### 3 ###\n",
      "The gnome--No Information Provided\n",
      "#### 3 ###\n",
      "The water of life-- The Water of Life (ATU 551)\n",
      "\t\t\n",
      "#### 3 ###\n",
      "The shoes that were danced to pieces-- The Twelve Dancing Princesses (ATU 306)\n",
      "\t\t\n",
      "#### 3 ###\n",
      "The tinder-box-- The Spirit in the Blue Light (ATU 562)\n",
      "\t\t\n",
      "#### 3 ###\n",
      "The princess and the pea-- The Princess and the Pea (ATU 704)\n",
      "\t\t\n",
      "#### 3 ###\n",
      "The travelling companion--No Information Provided\n",
      "#### 3 ###\n",
      "The wicked prince--No Information Provided\n",
      "#### 3 ###\n",
      "The swineherd--No Information Provided\n",
      "#### 3 ###\n",
      "The flea and the professor--No Information Provided\n",
      "#### 3 ###\n",
      "Alyosha Popovich--No Information Provided\n",
      "#### 3 ###\n",
      "The White Duck--No Information Provided\n",
      "#### 3 ###\n",
      "Prince Ivan and Princess Martha--No Information Provided\n",
      "#### 3 ###\n",
      "The Three Kingdoms--No Information Provided\n",
      "#### 3 ###\n",
      "Evening, Midnight and Dawn--No Information Provided\n",
      "#### 3 ###\n",
      "Marya Morevna--No Information Provided\n",
      "#### 3 ###\n",
      "King Ivan and Bely, the Warrior of the Plains--No Information Provided\n",
      "#### 3 ###\n",
      "The Fire-Bird and Princess Vassilissa--No Information Provided\n",
      "#### 3 ###\n",
      "The King of the Sea and Vassilissa the Wise--No Information Provided\n",
      "#### 3 ###\n",
      "The Prophetic Dream--No Information Provided\n",
      "#### 3 ###\n",
      "True and Untrue-- The Two Travelers\n",
      "#### 3 ###\n",
      "East o' the Sun and West o' the Moon-- Search for the Lost Husband (ATU 425A)\n",
      "\t\t\n",
      "#### 3 ###\n",
      "Hacon Grizzlebeard-- King Thrushbeard (ATU 900)\n",
      "\t\t\n",
      "#### 3 ###\n",
      "Boots Who Made the Princess Say, That's A Story-- That is a lie! (ATU 852)\n",
      "\t\t\n",
      "#### 3 ###\n",
      "The Twelve Wild Ducks-- The Nurse looking for her Brothers, (ATU 451)\n",
      "\t\t\n",
      "#### 3 ###\n",
      "The Giant Who Had No Heart in His Body-- The Giant Without A Heart, (ATU 302)\n",
      "\t\t\n",
      "#### 3 ###\n",
      "The Mastermaid--No Information Provided\n",
      "#### 3 ###\n",
      "Princess on the Glass Hill-- The Glass Mountain (ATU 530)\n",
      "\t\t\n",
      "#### 3 ###\n",
      "Taming the Shrew-- Taming of the Shrew (ATU 901)\n",
      "\t\t\n",
      "#### 3 ###\n",
      "Shortshanks-- The Twin Brothers, (ATU 303)\n",
      "\t\t\n",
      "#### 3 ###\n",
      "The Blue Belt-- The Prince and the Bracelets (ATU 590)\n",
      "\t\t\n",
      "#### 3 ###\n",
      "The Three Princesses of Whiteland-- The Quest for a Lost Bride (ATU 400)\n",
      "\t\t\n",
      "#### 3 ###\n",
      "The Lassie and Her Godmother-- The Black Madonna (ATU 710)\n",
      "\t\t\n",
      "#### 3 ###\n",
      "The Three Aunts-- The Three Spinners (ATU 501)\n",
      "\t\t\n",
      "#### 3 ###\n",
      "Rich Peter the Pedlar-- Three Hairs of the Devil (ATU 461)\n",
      "\t\t\n",
      "#### 3 ###\n",
      "Boots and the Troll-- The Small Boy Defeats the Ogre (ATU 327B)\n",
      "\t\t\n",
      "#### 3 ###\n",
      "The Best Wish--No Information Provided\n",
      "#### 3 ###\n",
      "Dapplegrim-- Faithful Ferdinand (ATU 531)\n",
      "\t\t\n",
      "#### 3 ###\n",
      "The Seven Foals-- The Bridge to Another World (ATU 471)\n",
      "\t\t\n",
      "#### 3 ###\n",
      "The Widow's Son-- The Golden-Haired (ATU 314)\n",
      "\t\t\n",
      "#### 3 ###\n",
      "Bushy Bride-- The White and the Black Bride (ATU 403)\n",
      "\t\t\n",
      "#### 3 ###\n",
      "Boots and His Brothers-- The Order of the King (ATU 577)\n",
      "\t\t\n",
      "#### 3 ###\n",
      "Tatterhood-- The Twin Sisters (ATU 711)\n",
      "\t\t\n",
      "#### 3 ###\n",
      "Katie Woodencloak-- Persecuted Heroine (ATU 510A)\n",
      "\t\t\n",
      "#### 3 ###\n",
      "Thumbikin-- Tom Thumb (ATU 700)\n",
      "\t\t\n",
      "#### 3 ###\n",
      "The Big Bird Dan-- The Three Kidnapped Princesses (ATU 301)\n",
      "\t\t\n",
      "#### 3 ###\n",
      "Soria Moria Castle-- The Quest for a Lost Bride (ATU 400)\n",
      "\t\t\n",
      "#### 3 ###\n",
      "Little Annie the Goose-Girl-- The Goose girl (ATU 870A)\n",
      "\t\t\n",
      "#### 3 ###\n",
      "The Green Knight--No Information Provided\n",
      "#### 3 ###\n",
      "King Valemon, The White Bear--No Information Provided\n",
      "#### 3 ###\n",
      "The Golden Palace That Hung In The Air-- Faithful Ferdinand (ATU 531)\n",
      "\t\t\n",
      "#### 3 ###\n",
      "Boots And His Crew-- The Wonderful Helpers (ATU 513A)\n",
      "\t\t\n",
      "#### 3 ###\n",
      "Master Tobacco-- True Love (ATU 611)\n",
      "\t\t\n",
      "#### 3 ###\n",
      "The Three Lemons-- The Three Lemons (ATU 408)\n",
      "\t\t\n",
      "#### 3 ###\n",
      "The Companion-- The Monster's Bride (ATU 507A)\n",
      "\t\t\n",
      "#### 3 ###\n",
      "The Three Years Without Wages-- The Magic Ring (ATU 560)\n",
      "\t\t\n",
      "#### 3 ###\n",
      "Little Freddy With His Fiddle-- The Dance Among Thorns (ATU 592)\n",
      "\t\t\n",
      "#### 3 ###\n",
      "Peik-- The clever boy (ATU 1542)\n",
      "\t\t\n",
      "#### 3 ###\n",
      "The Sleeping Beauty in the Wood-- The Sleeping Beauty (ATU 410)\n",
      "\t\t\n",
      "#### 3 ###\n",
      "The Myrtle-- The Boy Whose Wishes Always Come True (ATU 652)\n",
      "\t\t\n",
      "#### 3 ###\n",
      "Cenerentola-- Persecuted Heroine (ATU 510A)\n",
      "\t\t\n",
      "#### 3 ###\n",
      "Cinderella; or, The Little Glass Slipper-- Persecuted Heroine (ATU 510A)\n",
      "\t\t\n",
      "#### 3 ###\n",
      "Ricky of the Tuft-- The Twin Sisters (ATU 711)\n",
      "\t\t\n",
      "#### 3 ###\n",
      "Sun, Moon, and Talia-- The Sleeping Beauty (ATU 410)\n",
      "\t\t\n",
      "#### 3 ###\n",
      "Peruonto-- The Wish-Fish (ATU 675)\n",
      "\t\t\n",
      "#### 3 ###\n",
      "The Merchant-- The Twin Brothers, (ATU 303)\n",
      "\t\t\n",
      "#### 3 ###\n",
      "Goat-Face-- The Black Madonna (ATU 710)\n",
      "\t\t\n",
      "#### 3 ###\n",
      "The Enchanted Doe-- The Twin Brothers, (ATU 303)\n",
      "\t\t\n",
      "#### 3 ###\n",
      "The Three Sisters--No Information Provided\n",
      "#### 3 ###\n",
      "Violet--No Information Provided\n",
      "#### 3 ###\n",
      "The She-Bear-- Unnatural Love (ATU 510B)\n",
      "\t\t\n",
      "#### 3 ###\n",
      "The Dove-- Rapunzel (ATU 310)\n",
      "\t\t\n",
      "#### 3 ###\n",
      "The Three Enchanted Princes-- Animals and In-laws (ATU 552)\n",
      "\t\t\n",
      "#### 3 ###\n",
      "The Dragon-- The Witch in the Stone Boat (ATU 463)\n",
      "\t\t\n",
      "#### 3 ###\n",
      "The Raven-- The Petrified Friend (ATU 516)\n",
      "\t\t\n",
      "#### 3 ###\n",
      "Pintosmalto-- Search for the Lost Husband (ATU 425A)\n",
      "\t\t\n",
      "#### 3 ###\n",
      "Nennillo and Nennella--    Brother and Sister (ATU 450)    The Children With the Witch (ATU 327A)\n",
      "\t\t\n",
      "#### 3 ###\n",
      "The Three Citrons-- The Three Lemons (ATU 408)\n",
      "\t\t\n",
      "#### 3 ###\n",
      "The Morning Star And The Evening Star--No Information Provided\n",
      "#### 3 ###\n",
      "Youth Without Age And Life Without Death--No Information Provided\n",
      "#### 3 ###\n",
      "The Magic Ring--No Information Provided\n",
      "#### 3 ###\n",
      "The Princess Frog-- The Animal Bride (ATU 402)\n",
      "\t\t\n",
      "#### 3 ###\n",
      "The Princess Bella-Flor--No Information Provided\n",
      "#### 3 ###\n",
      "The Knights of the Fish--No Information Provided\n",
      "#### 3 ###\n",
      "The Blue Bird-- The Bird Lover (ATU 432)\n",
      "\t\t\n",
      "#### 3 ###\n",
      "Tale of the dead princessand the seven knights-- Snow White (ATU 709)\n",
      "\t\t\n",
      "#### 3 ###\n",
      "Tartaro and Petit Perroquet--No Information Provided\n",
      "#### 3 ###\n",
      "The Cistern--No Information Provided\n",
      "#### 3 ###\n",
      "Water and Salt--No Information Provided\n",
      "#### 3 ###\n",
      "Litill, Tritill, the Birds and the Peasant Lad--No Information Provided\n",
      "#### 3 ###\n",
      "Asmund and Signy--No Information Provided\n",
      "#### 3 ###\n",
      "Geirlug the King's Daughter--No Information Provided\n",
      "#### 3 ###\n",
      "The Witch in the Stone Boat-- The Witch in the Stone Boat (ATU 463)\n",
      "\t\t\n",
      "#### 3 ###\n",
      "Bash-Chalek; Or, True Steel-- Three Animals as Brothers-in-law (ATU 552A)\n",
      "\t\t\n",
      "#### 3 ###\n",
      "Gesture of Death--No Information Provided\n",
      "#### 3 ###\n",
      "Prince Hyacinth and the Dear Little Princess--No Information Provided\n",
      "#### 3 ###\n",
      "East of the Sun and West of the Moon-- Search for the Lost Husband (ATU 425A)\n",
      "\t\t\n",
      "#### 3 ###\n",
      "The Yellow Dwarf--No Information Provided\n",
      "#### 3 ###\n",
      "The Master-Maid--No Information Provided\n",
      "#### 3 ###\n",
      "The White Cat--No Information Provided\n",
      "#### 3 ###\n",
      "Felicia and the Pot of Pinks--No Information Provided\n",
      "#### 3 ###\n",
      "The Wonderful Sheep--No Information Provided\n",
      "#### 3 ###\n",
      "The Story of Pretty Goldilocks-- Faithful Ferdinand (ATU 531)\n",
      "\t\t\n",
      "#### 3 ###\n",
      "The Goose-Girl-- Repressed Bride (ATU 533)\n",
      "\t\t\n",
      "#### 3 ###\n",
      "The Princess on the Glass Hill-- The Glass Mountain (ATU 530)\n",
      "\t\t\n",
      "#### 3 ###\n",
      "Princess Rosette--No Information Provided\n",
      "#### 3 ###\n",
      "The Knights of Fish--No Information Provided\n",
      "#### 3 ###\n",
      "The Little Good Mouse--No Information Provided\n",
      "#### 3 ###\n",
      "The Golden Branch--No Information Provided\n",
      "#### 3 ###\n",
      "The gardiner and Death--No Information Provided\n",
      "#### 4 ###\n",
      "The Wolf and the Seven Young Kids-- The Wolf and the Seven Young Kids (ATU 123)\n",
      "\t\t\n",
      "#### 4 ###\n",
      "The Wonderful Musician-- Music lessons for wild animals (ATU 151)\n",
      "\t\t\n",
      "#### 4 ###\n",
      "Little Red Riding Hood-- Little Red Riding Hood (ATU 333)\n",
      "#### 4 ###\n",
      "Old Sultan-- The old dog rescues the child (ATU 101)\n",
      "\t\t\n",
      "#### 4 ###\n",
      "The wolf and the man-- Learning to Fear Men (ATU 157)\n",
      "\t\t\n",
      "#### 4 ###\n",
      "The wolf and the fox-- The Wolf Overeats in the Cellar (ATU 41)\n",
      "\t\t\n",
      "#### 4 ###\n",
      "The Wolf and the Goat--No Information Provided\n",
      "#### 4 ###\n",
      "Tsarevich Ivan and Grey Wolf--No Information Provided\n",
      "#### 4 ###\n",
      "Nanny Who Wouldn't Go Home to Supper--    The goat that would not go home (ATU 2015)    The Old Woman and Her Pig (ATU 2030)\n",
      "\t\t\n",
      "#### 4 ###\n",
      "Little Red Riding Hood-- Little Red Riding Hood (ATU 333)\n",
      "\t\t\n",
      "#### 4 ###\n",
      "The Ass and the Wolf--No Information Provided\n",
      "#### 4 ###\n",
      "Acheria, the Fox--No Information Provided\n",
      "#### 4 ###\n",
      "The Wolf and the Lamb--No Information Provided\n",
      "#### 4 ###\n",
      "The Ass and the Wolf--No Information Provided\n",
      "#### 4 ###\n",
      "The Wolf and the Lamb--No Information Provided\n",
      "#### 4 ###\n",
      "The Wolf and the Crane-- The Wolf and the Crane (ATU 76)\n",
      "\t\t\n",
      "#### 4 ###\n",
      "The Wolves and the Sheep--No Information Provided\n",
      "#### 4 ###\n",
      "The Shepherd and the Wolf--No Information Provided\n",
      "#### 4 ###\n",
      "The Wolf and the Sheep--No Information Provided\n",
      "#### 4 ###\n",
      "The Wolf and the Housedog-- The Lean Dog Prefers Liberty to Abundant Food and a Chain (ATU 201)\n",
      "\t\t\n",
      "#### 4 ###\n",
      "The Shepherd and the Dog--No Information Provided\n",
      "#### 4 ###\n",
      "The Wolves and the Sheepdogs--No Information Provided\n",
      "#### 4 ###\n",
      "The Kid and the Wolf-- The Sheep Persuades the Wolf to Sing (ATU 122C)\n",
      "\t\t\n",
      "#### 4 ###\n",
      "The Wolf and the Shepherd--No Information Provided\n",
      "#### 4 ###\n",
      "The Wolf and the Goat--No Information Provided\n",
      "#### 4 ###\n",
      "The Blind Man and the Whelp--No Information Provided\n",
      "#### 4 ###\n",
      "The Wolf and the Horse--No Information Provided\n",
      "#### 4 ###\n",
      "The Mother and the Wolf--No Information Provided\n",
      "#### 4 ###\n",
      "The Wolf and the Lion--No Information Provided\n",
      "#### 4 ###\n",
      "The Lamb and the Wolf--No Information Provided\n",
      "#### 4 ###\n",
      "The Shepherd's Boy and the Wolf-- The Shepherd who Cried \"Wolf!\" too often (ATU 1333)\n",
      "\t\t\n",
      "#### 4 ###\n",
      "The Wonderful Musician-- Music lessons for wild animals (ATU 151)\n",
      "\t\t\n",
      "#### 4 ###\n",
      "The Wolf and the Lamb--No Information Provided\n",
      "#### 4 ###\n",
      "The Sheep, the Stag, and the Wolf--No Information Provided\n",
      "#### 4 ###\n",
      "The Sheep, the Dog, and the Wolf--No Information Provided\n",
      "#### 4 ###\n",
      "The Wolf and Crane--No Information Provided\n",
      "#### 4 ###\n",
      "The Dog and the Wolf-- The Lean Dog Prefers Liberty to Abundant Food and a Chain (ATU 201)\n",
      "#### 4 ###\n",
      "The Animals Sick of the Plague--No Information Provided\n",
      "#### 4 ###\n",
      "The Companions of Ulysses--No Information Provided\n",
      "#### 4 ###\n",
      "The Wolf and the Fox--No Information Provided\n",
      "#### 4 ###\n",
      "The Lion, Wolf, and Fox-- Curing a Sick Lion (ATU 50)\n",
      "#### 5 ###\n",
      "The fox and the horse--No Information Provided\n",
      "#### 5 ###\n",
      "The Lion and the Mouse-- The Help of the Weak (ATU 75)\n",
      "\t\t\n",
      "#### 5 ###\n",
      "The Kingdom of the Lion--No Information Provided\n",
      "#### 5 ###\n",
      "The Ass, the Fox, and the Lion--No Information Provided\n",
      "#### 5 ###\n",
      "The Lioness--No Information Provided\n",
      "#### 5 ###\n",
      "The Wild Ass and the Lion--No Information Provided\n",
      "#### 5 ###\n",
      "The Lion and the Dolphin--No Information Provided\n",
      "#### 5 ###\n",
      "The Lion and the Boar--No Information Provided\n",
      "#### 5 ###\n",
      "The Ass, the Cock, and the Lion--No Information Provided\n",
      "#### 5 ###\n",
      "The Lion in a Farmyard--No Information Provided\n",
      "#### 5 ###\n",
      "The Lion, the Bear, and the Fox--No Information Provided\n",
      "#### 5 ###\n",
      "The Doe and the Lion--No Information Provided\n",
      "#### 5 ###\n",
      "The Lion and the Hare--No Information Provided\n",
      "#### 5 ###\n",
      "The Bull and the Goat--No Information Provided\n",
      "#### 5 ###\n",
      "The Lion, the Fox, and the Ass-- The Lion's share (ATU 51)\n",
      "\t\t\n",
      "#### 5 ###\n",
      "The Gnat and the Lion--No Information Provided\n",
      "#### 5 ###\n",
      "The Lion and the Bull--No Information Provided\n",
      "#### 5 ###\n",
      "The Lion, the Wolf, and the Fox-- Curing a Sick Lion (ATU 50)\n",
      "\t\t\n",
      "#### 5 ###\n",
      "The Wolf and the Lion--No Information Provided\n",
      "#### 5 ###\n",
      "The Manslayer--No Information Provided\n",
      "#### 5 ###\n",
      "The Lion, Jupiter, and the Elephant--No Information Provided\n",
      "#### 5 ###\n",
      "The Viper and the File--No Information Provided\n",
      "#### 5 ###\n",
      "The King's Son and the Painted Lion-- Predestined Death (ATU 934A)\n",
      "\t\t\n",
      "#### 5 ###\n",
      "The Ass and the Lion Hunting--No Information Provided\n",
      "#### 5 ###\n",
      "The Old Lion--No Information Provided\n",
      "#### 5 ###\n",
      "The Judicious Lion--No Information Provided\n",
      "#### 5 ###\n",
      "The Horoscope--No Information Provided\n",
      "#### 5 ###\n",
      "The Lion and the Mouse-- The Help of the Weak (ATU 75)\n",
      "#### 5 ###\n",
      "The Lion and the Three Bulls--No Information Provided\n",
      "#### 5 ###\n",
      "The Lion and the Shepherd--No Information Provided\n",
      "#### 5 ###\n",
      "The Lion, the Panther, the Tazourit, and the Jackal--No Information Provided\n",
      "#### 5 ###\n",
      "Lion Share-- The Lion's share (ATU 51)\n",
      "\t\t\n",
      "#### 5 ###\n",
      "The Cow, the Goat, the Sheep, and the Lion--No Information Provided\n",
      "#### 6 ###\n",
      "The good bargain--No Information Provided\n",
      "#### 6 ###\n",
      "The twelve brothers-- The Nurse looking for her Brothers, (ATU 451)\n",
      "\t\t\n",
      "#### 6 ###\n",
      "The three snake-leaves-- The Three Snake-Leaves (ATU 612)\n",
      "\t\t\n",
      "#### 6 ###\n",
      "The Louse and the Flea-- An Animal Mourns the Death of a Spouse (ATU 2022)\n",
      "\t\t\n",
      "#### 6 ###\n",
      "The girl without hands-- The Girl Without Hands (ATU 706)\n",
      "\t\t\n",
      "#### 6 ###\n",
      "The three languages-- The Three Languages (ATU 671)\n",
      "\t\t\n",
      "#### 6 ###\n",
      "The tailor in heaven-- The Tailor in Heaven (ATU 800)\n",
      "\t\t\n",
      "#### 6 ###\n",
      "The Wishing-Table, the Gold-Ass, and the Cudgel in the Sack-- Three Magic Gifts (ATU 563)\n",
      "\t\t\n",
      "#### 6 ###\n",
      "Frau Trude--No Information Provided\n",
      "#### 6 ###\n",
      "Bird-foundling--No Information Provided\n",
      "#### 6 ###\n",
      "The knapsack, the hat, and the horn-- The Knapsack, the Hat, and the Horn (ATU 569)\n",
      "\t\t\n",
      "#### 6 ###\n",
      "The two brothers-- The Magic Bird Heart (ATU 567)\n",
      "\t\t\n",
      "#### 6 ###\n",
      "All-kinds-of-fur-- Unnatural Love (ATU 510B)\n",
      "\t\t\n",
      "#### 6 ###\n",
      "The twelve huntsmen-- The forgotten fiancée (ATU 884)\n",
      "\t\t\n",
      "#### 6 ###\n",
      "Brother Lustig--No Information Provided\n",
      "#### 6 ###\n",
      "The singing, springing lark--No Information Provided\n",
      "#### 6 ###\n",
      "The young giant-- The Sharp Hans (ATU 650A)\n",
      "\t\t\n",
      "#### 6 ###\n",
      "The king of the golden mountain-- The devil loses a soul that was promised him (ATU 810)\n",
      "\t\t\n",
      "#### 6 ###\n",
      "The raven-- The Enchanted Princess in Her Castle (ATU 401A)\n",
      "\t\t\n",
      "#### 6 ###\n",
      "The three little birds-- The Bird of Truth (ATU 707)\n",
      "\t\t\n",
      "#### 6 ###\n",
      "Bearskin-- Bearskin (ATU 361)\n",
      "\t\t\n",
      "#### 6 ###\n",
      "The two travellers-- The Two Travelers\n",
      "#### 6 ###\n",
      "The skilful huntsman-- The Trained Hunter (ATU 304)\n",
      "\t\t\n",
      "#### 6 ###\n",
      "The blue light-- The Spirit in the Blue Light (ATU 562)\n",
      "\t\t\n",
      "#### 6 ###\n",
      "The old woman in the wood-- The Old Woman in the Wood (ATU 442)\n",
      "\t\t\n",
      "#### 6 ###\n",
      "Ferdinand the faithful-- Faithful Ferdinand (ATU 531)\n",
      "\t\t\n",
      "#### 6 ###\n",
      "The iron stove-- Search for the Lost Husband (ATU 425A)\n",
      "\t\t\n",
      "#### 6 ###\n",
      "One-eye, two-eyes, and three-eyes-- One-Eye, Two-Eyes, and Three-Eyes (ATU 511)\n",
      "\t\t\n",
      "#### 6 ###\n",
      "The six servants-- The Wonderful Helpers (ATU 513A)\n",
      "\t\t\n",
      "#### 6 ###\n",
      "The white bride and the black one-- The White and the Black Bride (ATU 403)\n",
      "\t\t\n",
      "#### 6 ###\n",
      "Iron John-- The Wild Man (ATU 502)\n",
      "\t\t\n",
      "#### 6 ###\n",
      "The three black princesses--No Information Provided\n",
      "#### 6 ###\n",
      "Domestic servants-- The Extraordinary Names (ATU 1940)\n",
      "\t\t\n",
      "#### 6 ###\n",
      "Going a-travelling-- What Should I Have Said? (ATU 1696)\n",
      "\t\t\n",
      "#### 6 ###\n",
      "The donkey-- Prince Donkey (ATU 430)\n",
      "\t\t\n",
      "#### 6 ###\n",
      "The turnip-- Trading Places with the Trickster in a Sack (ATU 1737)\n",
      "\t\t\n",
      "#### 6 ###\n",
      "The sparrow and his four children-- Learning to Fear Men (ATU 157)\n",
      "\t\t\n",
      "#### 6 ###\n",
      "The glass coffin-- The Sleeping Beauty (ATU 410)\n",
      "\t\t\n",
      "#### 6 ###\n",
      "Lazy Harry-- Air Castles (ATU 1430)\n",
      "\t\t\n",
      "#### 6 ###\n",
      "Lean Lisa-- Air Castles (ATU 1430)\n",
      "\t\t\n",
      "#### 6 ###\n",
      "The duration of life-- Man and animals readjust span of life (ATU 173)\n",
      "\t\t\n",
      "#### 6 ###\n",
      "The goose-girl at the well-- Loving the Salt (ATU 923)\n",
      "\t\t\n",
      "#### 6 ###\n",
      "The nix of the mill-pond-- The Mermaid in the Pond (ATU 316)\n",
      "\t\t\n",
      "#### 6 ###\n",
      "The giant and the tailor-- The heavy axe (ATU 1049)\n",
      "\t\t\n",
      "#### 6 ###\n",
      "The poor boy in the grave-- The Geese on the Line (ATU 1876)\n",
      "\t\t\n",
      "#### 6 ###\n",
      "The true bride-- Persecuted Heroine (ATU 510A)\n",
      "\t\t\n",
      "#### 6 ###\n",
      "The peasant and the devil-- Man and ogre share the harvest (ATU 1030)\n",
      "\t\t\n",
      "#### 6 ###\n",
      "The sea-hare-- Miss the Magic Mirror (ATU 329)\n",
      "\t\t\n",
      "#### 6 ###\n",
      "The master-thief--No Information Provided\n",
      "#### 6 ###\n",
      "The drummer-- The Quest for a Lost Bride (ATU 400)\n",
      "\t\t\n",
      "#### 6 ###\n",
      "The grave-mound--No Information Provided\n",
      "#### 6 ###\n",
      "The crystal ball-- The Giant Without A Heart, (ATU 302)\n",
      "\t\t\n",
      "#### 6 ###\n",
      "Maid Maleen-- The Princess in the Underground Cave (ATU 870)\n",
      "\t\t\n",
      "#### 6 ###\n",
      "The boots of buffalo-leather-- The King and the Soldier (ATU 952)\n",
      "\t\t\n",
      "#### 6 ###\n",
      "The three green twigs--No Information Provided\n",
      "#### 6 ###\n",
      "The Phoenix bird--No Information Provided\n",
      "#### 6 ###\n",
      "The Sevens Bits of Bacon-Rind-- The Three Spinners (ATU 501)\n",
      "\t\t\n",
      "#### 6 ###\n",
      "The Young Slave--    Snow White (ATU 709)    The Sleeping Beauty (ATU 410)\n",
      "\t\t\n",
      "#### 6 ###\n",
      "The Frog-King, or Iron Henry-- The Frog King (ATU 440)\n",
      "\t\t\n",
      "#### 6 ###\n",
      "Our Lady's Child-- The Black Madonna (ATU 710)\n",
      "\t\t\n",
      "#### 6 ###\n",
      "The Story of the Youth who Went Forth to Learn What Fear Was-- The Youth Who Wanted to Learn What Fear Is (ATU 326)\n",
      "\t\t\n",
      "#### 6 ###\n",
      "The Crow and Mercury--No Information Provided\n",
      "#### 6 ###\n",
      "Truth and the Traveler--No Information Provided\n",
      "#### 6 ###\n",
      "Faithful John-- The Petrified Friend (ATU 516)\n",
      "\t\t\n",
      "#### 6 ###\n",
      "The Cock and the Pearl--No Information Provided\n",
      "#### 6 ###\n",
      "Esop Playing--No Information Provided\n",
      "#### 6 ###\n",
      "The Bald Man and the Fly--No Information Provided\n",
      "#### 6 ###\n",
      "Maol a chliobain-- The Small Boy Defeats the Ogre (ATU 327B)\n",
      "\t\t\n",
      "#### 6 ###\n",
      "Asphurtzela--No Information Provided\n",
      "#### 7 ###\n",
      "Rapunzel-- Rapunzel (ATU 310)\n",
      "\t\t\n",
      "#### 7 ###\n",
      "Hansel and Gretel-- The Children With the Witch (ATU 327A)\n",
      "\t\t\n",
      "#### 7 ###\n",
      "The fisherman and his wife-- The Fisherman and his Wife, (ATU 555)\n",
      "\t\t\n",
      "#### 7 ###\n",
      "The riddle-- The Riddle of the Suitor (ATU 851)\n",
      "\t\t\n",
      "#### 7 ###\n",
      "Mother Hulda-- The Kind and the Unkind Girls (ATU 480)\n",
      "\t\t\n",
      "#### 7 ###\n",
      "The seven ravens-- The Nurse looking for her Brothers, (ATU 451)\n",
      "\t\t\n",
      "#### 7 ###\n",
      "The singing bone-- The Singing Bone (ATU 780)\n",
      "\t\t\n",
      "#### 7 ###\n",
      "The devil with the three golden hairs-- Three Hairs of the Devil (ATU 461)\n",
      "\t\t\n",
      "#### 7 ###\n",
      "Clever Else-- Clever Elsie (ATU 1450)\n",
      "\t\t\n",
      "#### 7 ###\n",
      "The Elves--No Information Provided\n",
      "#### 7 ###\n",
      "The robber bridegroom-- The Robber Bridegroom (ATU 955)\n",
      "\t\t\n",
      "#### 7 ###\n",
      "The almond tree-- From the Juniper Tree (ATU 720)\n",
      "\t\t\n",
      "#### 7 ###\n",
      "The six swans-- The Nurse looking for her Brothers, (ATU 451)\n",
      "\t\t\n",
      "#### 7 ###\n",
      "King Thrushbeard-- King Thrushbeard (ATU 900)\n",
      "\t\t\n",
      "#### 7 ###\n",
      "Rumpelstiltskin-- Rumpelstiltskin (ATU 500)\n",
      "\t\t\n",
      "#### 7 ###\n",
      "Roland-- Ogres Kill Their Own Children (ATU 1119)\n",
      "\t\t\n",
      "#### 7 ###\n",
      "Frederick and Catherine-- A Woman Draws Beer in the Cellar (ATU 1387)\n",
      "\t\t\n",
      "#### 7 ###\n",
      "The little peasant-- The Rich Peasant and the Poor Peasant (ATU 1535)\n",
      "\t\t\n",
      "#### 7 ###\n",
      "The three feathers-- The Animal Bride (ATU 402)\n",
      "\t\t\n",
      "#### 7 ###\n",
      "The golden goose-- The Golden Goose (ATU 571)\n",
      "\t\t\n",
      "#### 7 ###\n",
      "The thief and his master-- The Magician and his Apprentice, (ATU 325)\n",
      "\t\t\n",
      "#### 7 ###\n",
      "Six soldiers of fortune-- The Wonderful Helpers (ATU 513A)\n",
      "\t\t\n",
      "#### 7 ###\n",
      "Hans in luck-- Trading Away One's Fortune (ATU 1415)\n",
      "\t\t\n",
      "#### 7 ###\n",
      "Hans married--No Information Provided\n",
      "#### 7 ###\n",
      "The gold-children-- The Fisherman and his Wife, (ATU 555)\n",
      "\t\t\n",
      "#### 7 ###\n",
      "The poor man and the rich man--No Information Provided\n",
      "#### 7 ###\n",
      "Old Hildebrand--No Information Provided\n",
      "#### 7 ###\n",
      "Doctor Know-all-- Doctor Know-all (ATU 1641)\n",
      "\t\t\n",
      "#### 7 ###\n",
      "The spirit in the glass bottle-- The Spirit in the Bottle (ATU 331)\n",
      "\t\t\n",
      "#### 7 ###\n",
      "Sweet Porridge-- The Magic Mill (ATU 565)\n",
      "\t\t\n",
      "#### 7 ###\n",
      "Hans my Hedgehog-- In Enchanted Skin (ATU 441)\n",
      "\t\t\n",
      "#### 7 ###\n",
      "Donkey cabbages-- The Magic Bird Heart (ATU 567)\n",
      "\t\t\n",
      "#### 7 ###\n",
      "The three brothers-- The Three Brothers (ATU 654)\n",
      "\t\t\n",
      "#### 7 ###\n",
      "The devil and his grandmother--No Information Provided\n",
      "#### 7 ###\n",
      "The four skilful brothers-- The Skillful Brothers (ATU 653)\n",
      "\t\t\n",
      "#### 7 ###\n",
      "Fair Katrinelje and Pif-Paf-Poltrie-- Fair Katrinelje and Pif-Paf-Poltrie (ATU 2019)\n",
      "\t\t\n",
      "#### 7 ###\n",
      "Simeli mountain-- Open Sesame! (ATU 676)\n",
      "\t\t\n",
      "#### 7 ###\n",
      "The ungrateful son--No Information Provided\n",
      "#### 7 ###\n",
      "Odds and ends-- A suitor chooses the thrifty girl (ATU 1451)\n",
      "\t\t\n",
      "#### 7 ###\n",
      "Snow-White and Rose-Red-- Snow White and Rose Red (ATU 426)\n",
      "\t\t\n",
      "#### 7 ###\n",
      "The griffin-- The Healing Fruit (ATU 610)\n",
      "\t\t\n",
      "#### 7 ###\n",
      "Strong Hans--No Information Provided\n",
      "#### 7 ###\n",
      "Old Rinkrank-- Rescue by the Sister (ATU 311)\n",
      "\t\t\n",
      "#### 7 ###\n",
      "Poverty and humility lead to heaven--No Information Provided\n",
      "#### 7 ###\n",
      "The elfin hill--No Information Provided\n",
      "#### 7 ###\n",
      "Clumsy Hans--No Information Provided\n",
      "#### 7 ###\n",
      "What the old man does is always right-- Trading Away One's Fortune (ATU 1415)\n",
      "\t\t\n",
      "#### 7 ###\n",
      "Baba Yaga--    Persecuted Heroine (ATU 510A)\n",
      "\t\t\n",
      "#### 7 ###\n",
      "The Greedy Old Woman--No Information Provided\n",
      "#### 7 ###\n",
      "Baba-Yaga and Puny--No Information Provided\n",
      "#### 7 ###\n",
      "The Swan-Geese--No Information Provided\n",
      "#### 7 ###\n",
      "Shabarsha--No Information Provided\n",
      "#### 7 ###\n",
      "Go I Know Not Where, Bring I Know Not What--No Information Provided\n",
      "#### 7 ###\n",
      "Fenist the Falcon--No Information Provided\n",
      "#### 7 ###\n",
      "A Cunning Trade--No Information Provided\n",
      "#### 7 ###\n",
      "The Riddle--No Information Provided\n",
      "#### 7 ###\n",
      "The Wise Maid and the Seven Robbers--No Information Provided\n",
      "#### 7 ###\n",
      "The Fortune-Teller--No Information Provided\n",
      "#### 7 ###\n",
      "Ivan the Fool--No Information Provided\n",
      "#### 7 ###\n",
      "The Miser--No Information Provided\n",
      "#### 7 ###\n",
      "Don't Listen, If You Don't Like--No Information Provided\n",
      "#### 7 ###\n",
      "Vasilisa the Beautiful--No Information Provided\n",
      "#### 7 ###\n",
      "Why the Sea Is Salt-- The Magic Mill (ATU 565)\n",
      "\t\t\n",
      "#### 7 ###\n",
      "The Old Dame and Her Hen-- Rescue by the Sister (ATU 311)\n",
      "\t\t\n",
      "#### 7 ###\n",
      "How One Went Out to Woo-- Keeping up appearances (ATU 1459)\n",
      "\t\t\n",
      "#### 7 ###\n",
      "The Two Step-Sisters-- The Kind and the Unkind Girls (ATU 480)\n",
      "\t\t\n",
      "#### 7 ###\n",
      "Buttercup-- The Devill/Witch Carries the Hero Home in a Sack (ATU 327C)\n",
      "\t\t\n",
      "#### 7 ###\n",
      "Gudbrand on the Hill-side-- Trading Away One's Fortune (ATU 1415)\n",
      "\t\t\n",
      "#### 7 ###\n",
      "Not a Pin to Choose Between Them-- The husband hunts for three persons as stupid as his wife (ATU 1384)\n",
      "\t\t\n",
      "#### 7 ###\n",
      "Goosey Grizzel-- The old woman as troublemaker (ATU 1353)\n",
      "\t\t\n",
      "#### 7 ###\n",
      "The Master Thief-- The master thief (ATU 1525)\n",
      "\t\t\n",
      "#### 7 ###\n",
      "The Husband Who Was to Mind the House-- The man who does his wife's work (ATU 1408)\n",
      "\t\t\n",
      "#### 7 ###\n",
      "Farmer Weathersky-- The Magician and his Apprentice, (ATU 325)\n",
      "\t\t\n",
      "#### 7 ###\n",
      "Doll i' the Grass-- The Animal Bride (ATU 402)\n",
      "\t\t\n",
      "#### 7 ###\n",
      "Tom Totherhouse-- The foolish parson in the trunk (ATU 1725)\n",
      "\t\t\n",
      "#### 7 ###\n",
      "The Sweetheart In The Wood-- The Robber Bridegroom (ATU 955)\n",
      "\t\t\n",
      "#### 7 ###\n",
      "The Pancake-- The Fleeing Pancake (ATU 2025)\n",
      "\t\t\n",
      "#### 7 ###\n",
      "Friends In Life And Death-- Friends in Life and Death (ATU 470)\n",
      "\t\t\n",
      "#### 7 ###\n",
      "The Charcoal-burner-- Doctor Know-all (ATU 1641)\n",
      "\t\t\n",
      "#### 7 ###\n",
      "The Honest Penny-- Whittington's cat (ATU 1651)\n",
      "\t\t\n",
      "#### 7 ###\n",
      "Silly Men And Cunning Wives-- The merry wives wager . . . (ATU 1406)\n",
      "\t\t\n",
      "#### 7 ###\n",
      "The Father Of The Family-- The Oldest on the Farm (ATU 726)\n",
      "\t\t\n",
      "#### 7 ###\n",
      "Our Parish Clerk-- The corpse killed five times (ATU 1537)\n",
      "\t\t\n",
      "#### 7 ###\n",
      "Silly Matt-- Don´t Eat too Greadly (ATU 1691)\n",
      "\t\t\n",
      "#### 7 ###\n",
      "The Town-mouse And The Fell-mouse-- Town Mouse and Country Mouse (ATU 112)\n",
      "\t\t\n",
      "#### 7 ###\n",
      "The Sheep And The Pig Who Set Up House-- Outcast Animals Find a New Home (ATU 130)\n",
      "\t\t\n",
      "#### 7 ###\n",
      "Rumble-Mumble Goose-Egg-- The Sharp Hans (ATU 650A)\n",
      "\t\t\n",
      "#### 7 ###\n",
      "The Squire's Bride--No Information Provided\n",
      "#### 7 ###\n",
      "Osborn's Pipe-- Bunnies Beware of the King (ATU 570)\n",
      "\t\t\n",
      "#### 7 ###\n",
      "The Storehouse Key in the Disdaff-- Bride test\n",
      "#### 7 ###\n",
      "The Cock Who Fell into the Brewing Vat-- An Animal Mourns the Death of a Spouse (ATU 2022)\n",
      "\t\t\n",
      "#### 7 ###\n",
      "Blue Beard-- The Bluebeard (ATU 312)\n",
      "\t\t\n",
      "#### 7 ###\n",
      "The Fairies-- The Kind and the Unkind Girls (ATU 480)\n",
      "\t\t\n",
      "#### 7 ###\n",
      "Little Thumb-- The Small Boy Defeats the Ogre (ATU 327B)\n",
      "\t\t\n",
      "#### 7 ###\n",
      "Vardiello--No Information Provided\n",
      "#### 7 ###\n",
      "The Seven Doves-- The Nurse looking for her Brothers, (ATU 451)\n",
      "\t\t\n",
      "#### 7 ###\n",
      "The Flea-- The Wonderful Helpers (ATU 513A)\n",
      "\t\t\n",
      "#### 7 ###\n",
      "Parsley-- Rapunzel (ATU 310)\n",
      "\t\t\n",
      "#### 7 ###\n",
      "Canntella--No Information Provided\n",
      "#### 7 ###\n",
      "Corvetto-- The Treasures of the Giant (ATU 328)\n",
      "\t\t\n",
      "#### 7 ###\n",
      "The Booby-- The Wonderful Helpers (ATU 513A)\n",
      "\t\t\n",
      "#### 7 ###\n",
      "The Stone in the Cock's Head-- The Magic Ring (ATU 560)\n",
      "\t\t\n",
      "#### 7 ###\n",
      "The Two Cakes-- The White and the Black Bride (ATU 403)\n",
      "\t\t\n",
      "#### 7 ###\n",
      "The Months-- The Two Marvelous Pitchers (ATU 564)\n",
      "\t\t\n",
      "#### 7 ###\n",
      "The Golden Root-- Search for the Lost Husband (ATU 425A)\n",
      "\t\t\n",
      "#### 7 ###\n",
      "Baldak Borisevich--No Information Provided\n",
      "#### 7 ###\n",
      "The Fool and the Birch Tree--No Information Provided\n",
      "#### 7 ###\n",
      "The Golden Horseshoe the Golden Feather and the Golden Hair--No Information Provided\n",
      "#### 7 ###\n",
      "Three Coppers--No Information Provided\n",
      "#### 7 ###\n",
      "The Maiden and the Beast-- Beauty and the Beast (ATU 425C)\n",
      "\t\t\n",
      "#### 7 ###\n",
      "Little Snow White-- Snow White (ATU 709)\n",
      "\t\t\n",
      "#### 7 ###\n",
      "The Hearth-Cat-- Persecuted Heroine (ATU 510A)\n",
      "\t\t\n",
      "#### 7 ###\n",
      "The Fire-blower-- Persecuted Heroine (ATU 510A)\n",
      "\t\t\n",
      "#### 7 ###\n",
      "The Tartaro--No Information Provided\n",
      "#### 7 ###\n",
      "Basa Jauna, the Wild Man--No Information Provided\n",
      "#### 7 ###\n",
      "The Baker's Apprentice--No Information Provided\n",
      "#### 7 ###\n",
      "Don Firriulieddu-- The Bluebeard (ATU 312)\n",
      "\t\t\n",
      "#### 7 ###\n",
      "The Old Woman and the Physician--No Information Provided\n",
      "#### 7 ###\n",
      "The Man and His Wife--No Information Provided\n",
      "#### 7 ###\n",
      "The Stepmother-- Snow White (ATU 709)\n",
      "\t\t\n",
      "#### 7 ###\n",
      "The King of Love--No Information Provided\n",
      "#### 7 ###\n",
      "The dancing water, the singing apple, and the speaking bird-- The Bird of Truth (ATU 707)\n",
      "\t\t\n",
      "#### 7 ###\n",
      "Snow-White-Fire-Red--No Information Provided\n",
      "#### 7 ###\n",
      "Thirteenth--No Information Provided\n",
      "#### 7 ###\n",
      "The Cottager and his Cat--No Information Provided\n",
      "#### 7 ###\n",
      "The Brother and Sister--No Information Provided\n",
      "#### 7 ###\n",
      "Esop and the Will--No Information Provided\n",
      "#### 7 ###\n",
      "The Piper and the Puca--No Information Provided\n",
      "#### 7 ###\n",
      "The Cobbler and His Three Daughters-- Rescue by the Sister (ATU 311)\n",
      "\t\t\n",
      "#### 7 ###\n",
      "The Enchanted Shoes-- Snow White (ATU 709)\n",
      "\t\t\n",
      "#### 7 ###\n",
      "The Gardener and his Landlord--No Information Provided\n",
      "#### 7 ###\n",
      "The Fortune-tellers--No Information Provided\n",
      "#### 7 ###\n",
      "The Fiddler in Hell--No Information Provided\n",
      "#### 7 ###\n",
      "Rumpelstiltzkin-- Rumpelstiltskin (ATU 500)\n",
      "\t\t\n",
      "#### 7 ###\n",
      "Why the Sea is Salt-- The Magic Mill (ATU 565)\n",
      "\t\t\n",
      "#### 7 ###\n",
      "Toads and Diamonds-- The Kind and the Unkind Girls (ATU 480)\n",
      "\t\t\n",
      "#### 7 ###\n",
      "The Rooster and the Hyena--No Information Provided\n",
      "#### 7 ###\n",
      "The story of the selfish husband--No Information Provided\n",
      "#### 7 ###\n",
      "The young man and the monitor lizard--No Information Provided\n",
      "#### 7 ###\n",
      "The Story of the Steward--No Information Provided\n",
      "#### 7 ###\n",
      "The Blue Lily-- The Singing Bone (ATU 780)\n",
      "\t\t\n",
      "#### 7 ###\n",
      "Cuội and the Moon--No Information Provided\n",
      "#### 8 ###\n",
      "The golden bird-- The Golden Bird (ATU 550)\n",
      "\t\t\n",
      "#### 8 ###\n",
      "Gossip wolf and the fox-- Carrying the Sham-Sick Trickster (ATU 4)\n",
      "\t\t\n",
      "#### 8 ###\n",
      "The fox and the cat-- The fox and the cat (ATU 105)\n",
      "\t\t\n",
      "#### 8 ###\n",
      "The fox and the geese--No Information Provided\n",
      "#### 8 ###\n",
      "The Cat, the Rooster and the Fox--No Information Provided\n",
      "#### 8 ###\n",
      "The Animals in the Pit--No Information Provided\n",
      "#### 8 ###\n",
      "The Fox and the Crane-- The Fox and the Crane Invites Each Other (ATU 60)\n",
      "#### 8 ###\n",
      "The Fox as Herdsman-- The fox as shepherd (ATU 37)\n",
      "\t\t\n",
      "#### 8 ###\n",
      "Bear and Bruin--No Information Provided\n",
      "#### 8 ###\n",
      "Well Done and Ill Paid-- The Jackal and the Farmer (ATU 154)\n",
      "\t\t\n",
      "#### 8 ###\n",
      "The Cock and Hen That Went to the Dovrefell-- The End of the World (ATU 20C)\n",
      "\t\t\n",
      "#### 8 ###\n",
      "The Golden Bird-- The Golden Bird (ATU 550)\n",
      "\t\t\n",
      "#### 8 ###\n",
      "Snegurushka and the Fox--No Information Provided\n",
      "#### 8 ###\n",
      "Liza the Fox and Catafay the Cat--No Information Provided\n",
      "#### 8 ###\n",
      "Fox, Hare and Cock--No Information Provided\n",
      "#### 8 ###\n",
      "The Crow and the Fox-- Raven with a Cheese (ATU 57)\n",
      "#### 8 ###\n",
      "The Eagle and the Fox --No Information Provided\n",
      "#### 8 ###\n",
      "The Fox and the Crow-- Raven with a Cheese (ATU 57)\n",
      "\t\t\n",
      "#### 8 ###\n",
      "The Fox and the Grapes-- Fox and the Sour Grapes (ATU 59)\n",
      "\t\t\n",
      "#### 8 ###\n",
      "The Bear and the Fox--No Information Provided\n",
      "#### 8 ###\n",
      "The Fox and the Goat--No Information Provided\n",
      "#### 8 ###\n",
      "The Fox Who Had Lost His Tail-- Tailless Fox Tries in Vain to Get Foxes to Cut off Tails (ATU 64)\n",
      "\t\t\n",
      "#### 8 ###\n",
      "The Wild Boar and the Fox--No Information Provided\n",
      "#### 8 ###\n",
      "The Fox and the Woodcutter-- Peasant Betrays Fox by Pointing (ATU 161)\n",
      "\t\t\n",
      "#### 8 ###\n",
      "The Fox and the Leopard--No Information Provided\n",
      "#### 8 ###\n",
      "The Crab and the Fox--No Information Provided\n",
      "#### 8 ###\n",
      "The Hares and the Foxes--No Information Provided\n",
      "#### 8 ###\n",
      "The Dog, the Cock, and the Fox--No Information Provided\n",
      "#### 8 ###\n",
      "The Jackdaw and the Fox-- The Hungry Fox Waits in Vain for the Horse's Lips (Scrotum) to Fall Off (ATU 115)\n",
      "\t\t\n",
      "#### 8 ###\n",
      "The Fox and the Bramble--No Information Provided\n",
      "#### 8 ###\n",
      "The Ass in the Lion's Skin--No Information Provided\n",
      "#### 8 ###\n",
      "The Wolf and Fox, with the Ape for Judge--No Information Provided\n",
      "#### 8 ###\n",
      "The Fox and the Crow-- Raven with a Cheese (ATU 57)\n",
      "#### 8 ###\n",
      "The Fox and the Stork-- The Fox and the Crane Invites Each Other (ATU 60)\n",
      "\t\t\n",
      "#### 8 ###\n",
      "The Fox and Eagle--No Information Provided\n",
      "#### 8 ###\n",
      "The Fox and the Tragic Mask--No Information Provided\n",
      "#### 8 ###\n",
      "The Fox and the Grapes-- Fox and the Sour Grapes (ATU 59)\n",
      "#### 8 ###\n",
      "The Fox and the Goat--No Information Provided\n",
      "#### 8 ###\n",
      "The Raven and the Fox -- Raven with a Cheese (ATU 57)\n",
      "#### 8 ###\n",
      "The Fox and the Crow-- Raven with a Cheese (ATU 57)\n",
      "#### 8 ###\n",
      "The Wolf and the Fox In the Well--No Information Provided\n",
      "#### 8 ###\n",
      "The Fox and the Young Turkeys--No Information Provided\n",
      "#### 8 ###\n",
      "The fox and the crow-- Raven with a Cheese (ATU 57)\n",
      "#### 8 ###\n",
      "The Willow-Wren and the Bear-- The Willow-Wren and the Bear (ATU 222)\n",
      "\t\t\n",
      "#### 9 ###\n",
      "Cat and mouse in partnership-- Stealing the Partner's Butter (ATU 15)\n",
      "\t\t\n",
      "#### 9 ###\n",
      "The Mouse, the Bird, and the Sausage-- The Mouse, the Bird, and the Sausage (ATU 85)\n",
      "\t\t\n",
      "#### 9 ###\n",
      "The Bremen town musicians-- Outcast Animals Find a New Home (ATU 130)\n",
      "\t\t\n",
      "#### 9 ###\n",
      "Herr Korbes-- The Traveling Animals and the Wicked Man (ATU 210)\n",
      "\t\t\n",
      "#### 9 ###\n",
      "The three children of fortune-- The Three Lucky Brothers (ATU 1650)\n",
      "\t\t\n",
      "#### 9 ###\n",
      "Soup from a sausage skewer--No Information Provided\n",
      "#### 9 ###\n",
      "The Master Cat; or, Puss in Boots-- The Cat as Helper (ATU 545B)\n",
      "\t\t\n",
      "#### 9 ###\n",
      "Pippo-- The Cat as Helper (ATU 545B)\n",
      "\t\t\n",
      "#### 9 ###\n",
      "Daughter and Stepdaughter--No Information Provided\n",
      "#### 9 ###\n",
      "The Cat and the Fox-- The fox and the cat (ATU 105)\n",
      "\t\t\n",
      "#### 9 ###\n",
      "The Bat and the Weasels -- Bat in War of Birds and Quadrupeds (ATU 222A)\n",
      "\t\t\n",
      "#### 9 ###\n",
      "The Lion, the Mouse, and the Fox--No Information Provided\n",
      "#### 9 ###\n",
      "The Mouse, the Frog, and the Hawk-- Rat and Frog Tie Paws Together (ATU 278)\n",
      "\t\t\n",
      "#### 9 ###\n",
      "The Mice and the Weasels--No Information Provided\n",
      "#### 9 ###\n",
      "The Cat and Venus--No Information Provided\n",
      "#### 9 ###\n",
      "The Ant and the Snow--No Information Provided\n",
      "#### 9 ###\n",
      "The Inquisitive Cat--No Information Provided\n",
      "#### 9 ###\n",
      "The Man and the Weasel--No Information Provided\n",
      "#### 9 ###\n",
      "Mustela et Mus--No Information Provided\n",
      "#### 9 ###\n",
      "The Mountain in Labor--No Information Provided\n",
      "#### 9 ###\n",
      "The Battle of the Mice and Weasels--No Information Provided\n",
      "#### 9 ###\n",
      "Mustela et Mus--No Information Provided\n",
      "#### 9 ###\n",
      "The League of Rats--No Information Provided\n",
      "#### 9 ###\n",
      "The Lion and the Mouse-- The Help of the Weak (ATU 75)\n",
      "#### 9 ###\n",
      "The City Mouse and the Country Mouse-- Town Mouse and Country Mouse (ATU 112)\n",
      "#### 9 ###\n",
      "The Mouse-- Little Ant Finds a Penny, Buys New Clothes with it, and Sits in her Doorway (ATU 2023)\n",
      "\t\t\n"
     ]
    }
   ],
   "source": [
    "for i in range(10):\n",
    "    for el in title_groups:\n",
    "        if el[0]==i:\n",
    "            print(\"#### {} ###\".format(i))\n",
    "            print(\"{}--{}\".format(el[1],el[2]))"
   ]
  },
  {
   "cell_type": "code",
   "execution_count": null,
   "metadata": {},
   "outputs": [],
   "source": []
  }
 ],
 "metadata": {
  "kernelspec": {
   "display_name": "Python 3",
   "language": "python",
   "name": "python3"
  },
  "language_info": {
   "codemirror_mode": {
    "name": "ipython",
    "version": 3
   },
   "file_extension": ".py",
   "mimetype": "text/x-python",
   "name": "python",
   "nbconvert_exporter": "python",
   "pygments_lexer": "ipython3",
   "version": "3.6.7"
  },
  "nav_menu": {},
  "toc": {
   "navigate_menu": true,
   "number_sections": false,
   "sideBar": false,
   "threshold": 6,
   "toc_cell": true,
   "toc_section_display": "block",
   "toc_window_display": false
  }
 },
 "nbformat": 4,
 "nbformat_minor": 2
}
